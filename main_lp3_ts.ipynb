{
 "cells": [
  {
   "cell_type": "markdown",
   "metadata": {},
   "source": [
    "# Demand Forecast Predictor Model"
   ]
  },
  {
   "cell_type": "markdown",
   "metadata": {},
   "source": [
    "## Business Understanding\n"
   ]
  },
  {
   "cell_type": "markdown",
   "metadata": {},
   "source": [
    "#### **Introduction**"
   ]
  },
  {
   "cell_type": "markdown",
   "metadata": {},
   "source": [
    "This project focuses on time series forecasting to predict store sales for Corporation Favorita, a large Ecuadorian-based grocery retailer. The objective is to build a model that accurately predicts the unit sales for thousands of items sold at different Favorita stores."
   ]
  },
  {
   "cell_type": "markdown",
   "metadata": {},
   "source": [
    "#### **Objectives**"
   ]
  },
  {
   "cell_type": "markdown",
   "metadata": {},
   "source": [
    "\n",
    "\n",
    "Understand the data: The first objective is to gain insights into the store sales data, including store-specific information, product families, promotions, and sales numbers. This understanding will enable the company to make informed business decisions.\n",
    "\n",
    "Predict store sales: Develop a reliable time series forecasting model that accurately predicts the unit sales for different product families at various Favorita stores. This will help the company optimize inventory management, plan promotions, and improve overall sales performance."
   ]
  },
  {
   "cell_type": "markdown",
   "metadata": {},
   "source": [
    "### **Hypothesis**"
   ]
  },
  {
   "cell_type": "markdown",
   "metadata": {},
   "source": [
    "The promotional activities, oil prices, and holidays/events have a significant impact on store sales for Corporation Favorita.\n",
    "\n",
    "Null Hypothesis (H0): The promotional activities, oil prices, and holidays/events do not have a significant impact on store sales for Corporation Favorita.\n",
    "\n",
    "Alternative Hypothesis (H1): The promotional activities, oil prices, and holidays/events have a significant impact on store sales for Corporation Favorita."
   ]
  },
  {
   "cell_type": "markdown",
   "metadata": {},
   "source": [
    "### **Analytical Questions**\n"
   ]
  },
  {
   "cell_type": "markdown",
   "metadata": {},
   "source": [
    "\n",
    "1. Is the train dataset complete (has all the required dates)?\n",
    "2. Which dates have the lowest and highest sales for each year?\n",
    "3. Analyze the impact of the earthquake on sales\n",
    "4. Determine if certain groups of stores sell more products\n",
    "5. Are sales affected by promotions, oil prices and holidays?\n",
    "6. What analysis can we get from the date and its extractable features?\n",
    "7. Are there certain product families types that exhibit higher sales performance?\n",
    "8. How does the sales trend vary across different store numbers?\n",
    "9. What is the difference between RMSLE, RMSE, MSE\n"
   ]
  },
  {
   "cell_type": "markdown",
   "metadata": {},
   "source": [
    "### Import Relevant Packages"
   ]
  },
  {
   "cell_type": "code",
   "execution_count": 2,
   "metadata": {},
   "outputs": [],
   "source": [
    "\n",
    "# Data Handling\n",
    "import pyodbc\n",
    "from dotenv import dotenv_values\n",
    "from sqlalchemy import create_engine\n",
    "import numpy as np\n",
    "import pandas as pd\n",
    "import seaborn as sns\n",
    "\n",
    "# Visualization\n",
    "import matplotlib.pyplot as plt\n",
    "import matplotlib.cm as cm\n",
    "import matplotlib.patches as mpatches # type: ignore\n",
    "import seaborn as sns\n",
    "import plotly.express as px\n",
    "\n",
    "# Statistical Analysis\n",
    "from scipy.stats import ttest_ind\n",
    "from statsmodels.tsa.stattools import adfuller\n",
    "from scipy.stats import ttest_ind\n",
    "from sklearn.model_selection import train_test_split\n",
    "from sklearn.metrics import r2_score\n",
    "from sklearn.metrics import mean_squared_error, mean_absolute_error, mean_squared_log_error\n",
    "\n",
    "# Feature Processing\n",
    "from sklearn.impute import SimpleImputer\n",
    "from sklearn.preprocessing import OneHotEncoder\n",
    "from sklearn.preprocessing import LabelEncoder\n",
    "from sklearn.preprocessing import RobustScaler\n",
    "from sklearn.preprocessing import MinMaxScaler\n",
    "\n",
    "# Modelling\n",
    "from sklearn.linear_model import LinearRegression\n",
    "from sklearn.ensemble import RandomForestRegressor, GradientBoostingRegressor\n",
    "from sklearn.svm import SVR\n",
    "import xgboost as xgb\n",
    "from xgboost import XGBRegressor\n",
    "from statsmodels.tsa.arima.model import ARIMA\n",
    "from statsmodels.tsa.statespace.sarimax import SARIMAX\n",
    "from sklearn.model_selection import RandomizedSearchCV\n",
    "import pickle\n",
    "\n",
    "import warnings\n",
    "warnings.filterwarnings('ignore')\n"
   ]
  },
  {
   "cell_type": "code",
   "execution_count": 3,
   "metadata": {},
   "outputs": [
    {
     "name": "stdout",
     "output_type": "stream",
     "text": [
      "Environment variables: OrderedDict([('server', 'dap-projects-database.database.windows.net'), ('login', 'learning_project_3'), ('password', 'A$uB1Lp3$2@24'), ('database', 'dapDB')])\n",
      "Server: dap-projects-database.database.windows.net\n",
      "Login: learning_project_3\n",
      "Database: dapDB\n",
      "Connection string: DRIVER={SQL Server};SERVER=dap-projects-database.database.windows.net;DATABASE=dapDB;UID=learning_project_3;PWD=A$uB1Lp3$2@24\n",
      "Connection successful\n"
     ]
    }
   ],
   "source": [
    "\n",
    "# Load environment variables from .env file into a dictionary\n",
    "env_file = \".env\"  # Specify the .env file path if it's not in the same directory\n",
    "environment_variables = dotenv_values(env_file)\n",
    "\n",
    "# Print the loaded environment variables for debugging\n",
    "print(\"Environment variables:\", environment_variables)\n",
    "\n",
    "# Get the values for the environment variables\n",
    "server = environment_variables.get(\"server\")\n",
    "login = environment_variables.get(\"login\")\n",
    "password = environment_variables.get(\"password\")\n",
    "database = environment_variables.get(\"database\")\n",
    "\n",
    "# Print the environment variables for debugging\n",
    "print(\"Server:\", server)\n",
    "print(\"Login:\", login)\n",
    "print(\"Database:\", database)\n",
    "\n",
    "# Create a database connection string using pyodbc\n",
    "connection_string = f\"DRIVER={{SQL Server}};SERVER={server};DATABASE={database};UID={login};PWD={password}\"\n",
    "print(\"Connection string:\", connection_string)\n",
    "\n",
    "# Establish a connection to the database\n",
    "try:\n",
    "    connection = pyodbc.connect(connection_string)\n",
    "    print(\"Connection successful\")\n",
    "except Exception as e:\n",
    "    print(\"Connection failed:\", e)\n"
   ]
  },
  {
   "cell_type": "code",
   "execution_count": 11,
   "metadata": {},
   "outputs": [
    {
     "name": "stdout",
     "output_type": "stream",
     "text": [
      "Server: dap-projects-database.database.windows.net\n",
      "Login: learning_project_3\n",
      "Database: dapDB\n",
      "Connection string: DRIVER={SQL Server};SERVER=dap-projects-database.database.windows.net;DATABASE=dapDB;UID=learning_project_3;PWD=A$uBlLp3$2@24\n",
      "Connection failed: ('08001', '[08001] [Microsoft][ODBC SQL Server Driver][DBNETLIB]SQL Server does not exist or access denied. (17) (SQLDriverConnect); [08001] [Microsoft][ODBC SQL Server Driver][DBNETLIB]ConnectionOpen (Connect()). (53)')\n"
     ]
    }
   ],
   "source": [
    "'''\n",
    "# Manually set the environment variables\n",
    "os.environ[\"server\"] = 'dap-projects-database.database.windows.net'\n",
    "os.environ[\"login\"] = 'learning_project_3'\n",
    "os.environ[\"password\"] = 'A$uBlLp3$2@24'\n",
    "os.environ[\"database\"] = 'dapDB'\n",
    "\n",
    "# Load environment variables from os.environ\n",
    "server = os.getenv(\"server\")\n",
    "login = os.getenv(\"login\")\n",
    "password = os.getenv(\"password\")\n",
    "database = os.getenv(\"database\")\n",
    "\n",
    "# Print the environment variables for debugging\n",
    "print(\"Server:\", server)\n",
    "print(\"Login:\", login)\n",
    "print(\"Database:\", database)\n",
    "\n",
    "# Create a database connection string using pyodbc\n",
    "connection_string = f\"DRIVER={{SQL Server}};SERVER={server};DATABASE={database};UID={login};PWD={password}\"\n",
    "print(\"Connection string:\", connection_string)\n",
    "\n",
    "# Establish a connection to the database\n",
    "try:\n",
    "    connection = pyodbc.connect(connection_string)\n",
    "    print(\"Connection successful\")\n",
    "except Exception as e:\n",
    "    print(\"Connection failed:\", e)\n",
    "'''"
   ]
  },
  {
   "cell_type": "code",
   "execution_count": 4,
   "metadata": {},
   "outputs": [],
   "source": [
    "\n",
    "# Query the first table 'oil' in the database\n",
    "query1 = 'SELECT * FROM dbo.oil'\n",
    "oil_df = pd.read_sql(query1, connection)\n",
    "\n",
    "# Query the second table 'holidays_events' in the database\n",
    "query2 = 'SELECT * FROM dbo.holidays_events'\n",
    "holidays_events_df = pd.read_sql(query2, connection)\n",
    "\n",
    "# Query the third table 'stores' in the database\n",
    "query3 = 'SELECT * FROM dbo.stores'\n",
    "stores_df = pd.read_sql(query3, connection)"
   ]
  },
  {
   "cell_type": "code",
   "execution_count": 5,
   "metadata": {},
   "outputs": [
    {
     "data": {
      "text/html": [
       "<div>\n",
       "<style scoped>\n",
       "    .dataframe tbody tr th:only-of-type {\n",
       "        vertical-align: middle;\n",
       "    }\n",
       "\n",
       "    .dataframe tbody tr th {\n",
       "        vertical-align: top;\n",
       "    }\n",
       "\n",
       "    .dataframe thead th {\n",
       "        text-align: right;\n",
       "    }\n",
       "</style>\n",
       "<table border=\"1\" class=\"dataframe\">\n",
       "  <thead>\n",
       "    <tr style=\"text-align: right;\">\n",
       "      <th></th>\n",
       "      <th>date</th>\n",
       "      <th>dcoilwtico</th>\n",
       "    </tr>\n",
       "  </thead>\n",
       "  <tbody>\n",
       "    <tr>\n",
       "      <th>0</th>\n",
       "      <td>2013-01-01</td>\n",
       "      <td>NaN</td>\n",
       "    </tr>\n",
       "    <tr>\n",
       "      <th>1</th>\n",
       "      <td>2013-01-02</td>\n",
       "      <td>93.139999</td>\n",
       "    </tr>\n",
       "    <tr>\n",
       "      <th>2</th>\n",
       "      <td>2013-01-03</td>\n",
       "      <td>92.970001</td>\n",
       "    </tr>\n",
       "    <tr>\n",
       "      <th>3</th>\n",
       "      <td>2013-01-04</td>\n",
       "      <td>93.120003</td>\n",
       "    </tr>\n",
       "    <tr>\n",
       "      <th>4</th>\n",
       "      <td>2013-01-07</td>\n",
       "      <td>93.199997</td>\n",
       "    </tr>\n",
       "  </tbody>\n",
       "</table>\n",
       "</div>"
      ],
      "text/plain": [
       "         date  dcoilwtico\n",
       "0  2013-01-01         NaN\n",
       "1  2013-01-02   93.139999\n",
       "2  2013-01-03   92.970001\n",
       "3  2013-01-04   93.120003\n",
       "4  2013-01-07   93.199997"
      ]
     },
     "execution_count": 5,
     "metadata": {},
     "output_type": "execute_result"
    }
   ],
   "source": [
    "# Display the dataframe\n",
    "oil_df.head()"
   ]
  },
  {
   "cell_type": "code",
   "execution_count": 6,
   "metadata": {},
   "outputs": [
    {
     "data": {
      "text/html": [
       "<div>\n",
       "<style scoped>\n",
       "    .dataframe tbody tr th:only-of-type {\n",
       "        vertical-align: middle;\n",
       "    }\n",
       "\n",
       "    .dataframe tbody tr th {\n",
       "        vertical-align: top;\n",
       "    }\n",
       "\n",
       "    .dataframe thead th {\n",
       "        text-align: right;\n",
       "    }\n",
       "</style>\n",
       "<table border=\"1\" class=\"dataframe\">\n",
       "  <thead>\n",
       "    <tr style=\"text-align: right;\">\n",
       "      <th></th>\n",
       "      <th>date</th>\n",
       "      <th>type</th>\n",
       "      <th>locale</th>\n",
       "      <th>locale_name</th>\n",
       "      <th>description</th>\n",
       "      <th>transferred</th>\n",
       "    </tr>\n",
       "  </thead>\n",
       "  <tbody>\n",
       "    <tr>\n",
       "      <th>0</th>\n",
       "      <td>2012-03-02</td>\n",
       "      <td>Holiday</td>\n",
       "      <td>Local</td>\n",
       "      <td>Manta</td>\n",
       "      <td>Fundacion de Manta</td>\n",
       "      <td>False</td>\n",
       "    </tr>\n",
       "    <tr>\n",
       "      <th>1</th>\n",
       "      <td>2012-04-01</td>\n",
       "      <td>Holiday</td>\n",
       "      <td>Regional</td>\n",
       "      <td>Cotopaxi</td>\n",
       "      <td>Provincializacion de Cotopaxi</td>\n",
       "      <td>False</td>\n",
       "    </tr>\n",
       "    <tr>\n",
       "      <th>2</th>\n",
       "      <td>2012-04-12</td>\n",
       "      <td>Holiday</td>\n",
       "      <td>Local</td>\n",
       "      <td>Cuenca</td>\n",
       "      <td>Fundacion de Cuenca</td>\n",
       "      <td>False</td>\n",
       "    </tr>\n",
       "    <tr>\n",
       "      <th>3</th>\n",
       "      <td>2012-04-14</td>\n",
       "      <td>Holiday</td>\n",
       "      <td>Local</td>\n",
       "      <td>Libertad</td>\n",
       "      <td>Cantonizacion de Libertad</td>\n",
       "      <td>False</td>\n",
       "    </tr>\n",
       "    <tr>\n",
       "      <th>4</th>\n",
       "      <td>2012-04-21</td>\n",
       "      <td>Holiday</td>\n",
       "      <td>Local</td>\n",
       "      <td>Riobamba</td>\n",
       "      <td>Cantonizacion de Riobamba</td>\n",
       "      <td>False</td>\n",
       "    </tr>\n",
       "  </tbody>\n",
       "</table>\n",
       "</div>"
      ],
      "text/plain": [
       "         date     type    locale locale_name                    description  \\\n",
       "0  2012-03-02  Holiday     Local       Manta             Fundacion de Manta   \n",
       "1  2012-04-01  Holiday  Regional    Cotopaxi  Provincializacion de Cotopaxi   \n",
       "2  2012-04-12  Holiday     Local      Cuenca            Fundacion de Cuenca   \n",
       "3  2012-04-14  Holiday     Local    Libertad      Cantonizacion de Libertad   \n",
       "4  2012-04-21  Holiday     Local    Riobamba      Cantonizacion de Riobamba   \n",
       "\n",
       "   transferred  \n",
       "0        False  \n",
       "1        False  \n",
       "2        False  \n",
       "3        False  \n",
       "4        False  "
      ]
     },
     "execution_count": 6,
     "metadata": {},
     "output_type": "execute_result"
    }
   ],
   "source": [
    "# Display the dataframe\n",
    "holidays_events_df.head()"
   ]
  },
  {
   "cell_type": "code",
   "execution_count": 7,
   "metadata": {},
   "outputs": [
    {
     "data": {
      "text/html": [
       "<div>\n",
       "<style scoped>\n",
       "    .dataframe tbody tr th:only-of-type {\n",
       "        vertical-align: middle;\n",
       "    }\n",
       "\n",
       "    .dataframe tbody tr th {\n",
       "        vertical-align: top;\n",
       "    }\n",
       "\n",
       "    .dataframe thead th {\n",
       "        text-align: right;\n",
       "    }\n",
       "</style>\n",
       "<table border=\"1\" class=\"dataframe\">\n",
       "  <thead>\n",
       "    <tr style=\"text-align: right;\">\n",
       "      <th></th>\n",
       "      <th>store_nbr</th>\n",
       "      <th>city</th>\n",
       "      <th>state</th>\n",
       "      <th>type</th>\n",
       "      <th>cluster</th>\n",
       "    </tr>\n",
       "  </thead>\n",
       "  <tbody>\n",
       "    <tr>\n",
       "      <th>0</th>\n",
       "      <td>1</td>\n",
       "      <td>Quito</td>\n",
       "      <td>Pichincha</td>\n",
       "      <td>D</td>\n",
       "      <td>13</td>\n",
       "    </tr>\n",
       "    <tr>\n",
       "      <th>1</th>\n",
       "      <td>2</td>\n",
       "      <td>Quito</td>\n",
       "      <td>Pichincha</td>\n",
       "      <td>D</td>\n",
       "      <td>13</td>\n",
       "    </tr>\n",
       "    <tr>\n",
       "      <th>2</th>\n",
       "      <td>3</td>\n",
       "      <td>Quito</td>\n",
       "      <td>Pichincha</td>\n",
       "      <td>D</td>\n",
       "      <td>8</td>\n",
       "    </tr>\n",
       "    <tr>\n",
       "      <th>3</th>\n",
       "      <td>4</td>\n",
       "      <td>Quito</td>\n",
       "      <td>Pichincha</td>\n",
       "      <td>D</td>\n",
       "      <td>9</td>\n",
       "    </tr>\n",
       "    <tr>\n",
       "      <th>4</th>\n",
       "      <td>5</td>\n",
       "      <td>Santo Domingo</td>\n",
       "      <td>Santo Domingo de los Tsachilas</td>\n",
       "      <td>D</td>\n",
       "      <td>4</td>\n",
       "    </tr>\n",
       "  </tbody>\n",
       "</table>\n",
       "</div>"
      ],
      "text/plain": [
       "   store_nbr           city                           state type  cluster\n",
       "0          1          Quito                       Pichincha    D       13\n",
       "1          2          Quito                       Pichincha    D       13\n",
       "2          3          Quito                       Pichincha    D        8\n",
       "3          4          Quito                       Pichincha    D        9\n",
       "4          5  Santo Domingo  Santo Domingo de los Tsachilas    D        4"
      ]
     },
     "execution_count": 7,
     "metadata": {},
     "output_type": "execute_result"
    }
   ],
   "source": [
    "# Display the dataframe\n",
    "stores_df.head()"
   ]
  },
  {
   "cell_type": "markdown",
   "metadata": {},
   "source": [
    "#### Loading Datasets"
   ]
  },
  {
   "cell_type": "markdown",
   "metadata": {},
   "source": [
    "##### Train Dataset"
   ]
  },
  {
   "cell_type": "code",
   "execution_count": null,
   "metadata": {},
   "outputs": [],
   "source": [
    "train_df = pd.read_csv(r'C:\\Users\\Admin\\Documents\\DAP - LP 3\\Demand-Forecast-Predictor-Model\\train.csv')\n",
    "train_df.head()"
   ]
  },
  {
   "cell_type": "markdown",
   "metadata": {},
   "source": [
    "#### Transaction Dataset"
   ]
  },
  {
   "cell_type": "code",
   "execution_count": null,
   "metadata": {},
   "outputs": [
    {
     "data": {
      "text/html": [
       "<div>\n",
       "<style scoped>\n",
       "    .dataframe tbody tr th:only-of-type {\n",
       "        vertical-align: middle;\n",
       "    }\n",
       "\n",
       "    .dataframe tbody tr th {\n",
       "        vertical-align: top;\n",
       "    }\n",
       "\n",
       "    .dataframe thead th {\n",
       "        text-align: right;\n",
       "    }\n",
       "</style>\n",
       "<table border=\"1\" class=\"dataframe\">\n",
       "  <thead>\n",
       "    <tr style=\"text-align: right;\">\n",
       "      <th></th>\n",
       "      <th>date</th>\n",
       "      <th>store_nbr</th>\n",
       "      <th>transactions</th>\n",
       "    </tr>\n",
       "  </thead>\n",
       "  <tbody>\n",
       "    <tr>\n",
       "      <th>0</th>\n",
       "      <td>2013-01-01</td>\n",
       "      <td>25</td>\n",
       "      <td>770</td>\n",
       "    </tr>\n",
       "    <tr>\n",
       "      <th>1</th>\n",
       "      <td>2013-01-02</td>\n",
       "      <td>1</td>\n",
       "      <td>2111</td>\n",
       "    </tr>\n",
       "    <tr>\n",
       "      <th>2</th>\n",
       "      <td>2013-01-02</td>\n",
       "      <td>2</td>\n",
       "      <td>2358</td>\n",
       "    </tr>\n",
       "    <tr>\n",
       "      <th>3</th>\n",
       "      <td>2013-01-02</td>\n",
       "      <td>3</td>\n",
       "      <td>3487</td>\n",
       "    </tr>\n",
       "    <tr>\n",
       "      <th>4</th>\n",
       "      <td>2013-01-02</td>\n",
       "      <td>4</td>\n",
       "      <td>1922</td>\n",
       "    </tr>\n",
       "  </tbody>\n",
       "</table>\n",
       "</div>"
      ],
      "text/plain": [
       "         date  store_nbr  transactions\n",
       "0  2013-01-01         25           770\n",
       "1  2013-01-02          1          2111\n",
       "2  2013-01-02          2          2358\n",
       "3  2013-01-02          3          3487\n",
       "4  2013-01-02          4          1922"
      ]
     },
     "execution_count": 11,
     "metadata": {},
     "output_type": "execute_result"
    }
   ],
   "source": [
    "transactions_df = pd.read_csv(r'C:\\Users\\Admin\\Documents\\DAP - LP 3\\Demand-Forecast-Predictor-Model\\transactions.csv')\n",
    "transactions_df.head()"
   ]
  },
  {
   "cell_type": "markdown",
   "metadata": {},
   "source": [
    "## Data Preparation"
   ]
  },
  {
   "cell_type": "code",
   "execution_count": null,
   "metadata": {},
   "outputs": [
    {
     "name": "stdout",
     "output_type": "stream",
     "text": [
      "Shapes of Each Dataset:\n",
      "Holiday Events Dataset: (350, 6)\n",
      "Oil Dataset: (1218, 2)\n",
      "Stores Dataset: (54, 5)\n",
      "Transactions Dataset: (83488, 3)\n"
     ]
    }
   ],
   "source": [
    "# Print out the shapes of the other datasets\n",
    "\n",
    "print(\"Shapes of Each Dataset:\")\n",
    "print(f\"Holiday Events Dataset: {holidays_events_df.shape}\")\n",
    "print(f\"Oil Dataset: {oil_df.shape}\")\n",
    "print(f\"Stores Dataset: {stores_df.shape}\")\n",
    "print(f\"Transactions Dataset: {transactions_df.shape}\")"
   ]
  },
  {
   "cell_type": "code",
   "execution_count": null,
   "metadata": {},
   "outputs": [
    {
     "name": "stdout",
     "output_type": "stream",
     "text": [
      "Column information for Holiday events:\n",
      "<class 'pandas.core.frame.DataFrame'>\n",
      "RangeIndex: 350 entries, 0 to 349\n",
      "Data columns (total 6 columns):\n",
      " #   Column       Non-Null Count  Dtype \n",
      "---  ------       --------------  ----- \n",
      " 0   date         350 non-null    object\n",
      " 1   type         350 non-null    object\n",
      " 2   locale       350 non-null    object\n",
      " 3   locale_name  350 non-null    object\n",
      " 4   description  350 non-null    object\n",
      " 5   transferred  350 non-null    bool  \n",
      "dtypes: bool(1), object(5)\n",
      "memory usage: 14.1+ KB\n",
      "None\n",
      "\n",
      "==================================================\n",
      "\n",
      "\n",
      "Column information for Oil:\n",
      "<class 'pandas.core.frame.DataFrame'>\n",
      "RangeIndex: 1218 entries, 0 to 1217\n",
      "Data columns (total 2 columns):\n",
      " #   Column      Non-Null Count  Dtype  \n",
      "---  ------      --------------  -----  \n",
      " 0   date        1218 non-null   object \n",
      " 1   dcoilwtico  1175 non-null   float64\n",
      "dtypes: float64(1), object(1)\n",
      "memory usage: 19.2+ KB\n",
      "None\n",
      "\n",
      "==================================================\n",
      "\n",
      "\n",
      "Column information for Stores:\n",
      "<class 'pandas.core.frame.DataFrame'>\n",
      "RangeIndex: 54 entries, 0 to 53\n",
      "Data columns (total 5 columns):\n",
      " #   Column     Non-Null Count  Dtype \n",
      "---  ------     --------------  ----- \n",
      " 0   store_nbr  54 non-null     int64 \n",
      " 1   city       54 non-null     object\n",
      " 2   state      54 non-null     object\n",
      " 3   type       54 non-null     object\n",
      " 4   cluster    54 non-null     int64 \n",
      "dtypes: int64(2), object(3)\n",
      "memory usage: 2.2+ KB\n",
      "None\n",
      "\n",
      "==================================================\n",
      "\n",
      "\n",
      "Column information for Transactions:\n",
      "<class 'pandas.core.frame.DataFrame'>\n",
      "RangeIndex: 83488 entries, 0 to 83487\n",
      "Data columns (total 3 columns):\n",
      " #   Column        Non-Null Count  Dtype \n",
      "---  ------        --------------  ----- \n",
      " 0   date          83488 non-null  object\n",
      " 1   store_nbr     83488 non-null  int64 \n",
      " 2   transactions  83488 non-null  int64 \n",
      "dtypes: int64(2), object(1)\n",
      "memory usage: 1.9+ MB\n",
      "None\n",
      "\n",
      "==================================================\n",
      "\n",
      "\n"
     ]
    }
   ],
   "source": [
    "datasets = {'holiday events': holidays_events_df, 'oil': oil_df, 'stores': stores_df, 'transactions': transactions_df}\n",
    "\n",
    "def show_column_info(name, df):\n",
    "    print(f\"Column information for {name}:\")\n",
    "    print(df.info())\n",
    "    print()\n",
    "    print('='*50)\n",
    "    print('\\n')\n",
    "\n",
    "show_column_info('Holiday events', holidays_events_df)\n",
    "show_column_info('Oil', oil_df)\n",
    "show_column_info('Stores', stores_df)\n",
    "show_column_info('Transactions', transactions_df)\n"
   ]
  },
  {
   "cell_type": "markdown",
   "metadata": {},
   "source": [
    "##### Transforming Date Column Into Datetime Format"
   ]
  },
  {
   "cell_type": "code",
   "execution_count": null,
   "metadata": {},
   "outputs": [],
   "source": [
    "# Holiday Events dataset\n",
    "holidays_events_df['date'] = pd.to_datetime(holidays_events_df['date'])\n",
    "\n",
    "# Oil dataset\n",
    "oil_df['date'] = pd.to_datetime(oil_df['date'])\n",
    "\n",
    "# Transactions dataset\n",
    "transactions_df['date'] = pd.to_datetime(transactions_df['date'])\n",
    "\n",
    "# Train dataset\n",
    "train_df['date'] = pd.to_datetime(train_df['date'])\n"
   ]
  },
  {
   "cell_type": "markdown",
   "metadata": {},
   "source": [
    "##### Summary Statistics"
   ]
  },
  {
   "cell_type": "code",
   "execution_count": null,
   "metadata": {},
   "outputs": [
    {
     "name": "stdout",
     "output_type": "stream",
     "text": [
      "Holiday events dataset summary statistics:\n",
      "---------------------------------------------\n",
      "                                date\n",
      "count                            350\n",
      "mean   2015-04-24 00:45:15.428571392\n",
      "min              2012-03-02 00:00:00\n",
      "25%              2013-12-23 06:00:00\n",
      "50%              2015-06-08 00:00:00\n",
      "75%              2016-07-03 00:00:00\n",
      "max              2017-12-26 00:00:00\n",
      "============================================================\n",
      "\n",
      "Oil dataset summary statistics:\n",
      "---------------------------------------------\n",
      "                      date   dcoilwtico\n",
      "count                 1218  1175.000000\n",
      "mean   2015-05-02 12:00:00    67.714366\n",
      "min    2013-01-01 00:00:00    26.190001\n",
      "25%    2014-03-03 06:00:00    46.405001\n",
      "50%    2015-05-02 12:00:00    53.189999\n",
      "75%    2016-06-30 18:00:00    95.660000\n",
      "max    2017-08-31 00:00:00   110.620003\n",
      "std                    NaN    25.630476\n",
      "============================================================\n",
      "\n",
      "Stores dataset summary statistics:\n",
      "---------------------------------------------\n",
      "       store_nbr    cluster\n",
      "count  54.000000  54.000000\n",
      "mean   27.500000   8.481481\n",
      "std    15.732133   4.693395\n",
      "min     1.000000   1.000000\n",
      "25%    14.250000   4.000000\n",
      "50%    27.500000   8.500000\n",
      "75%    40.750000  13.000000\n",
      "max    54.000000  17.000000\n",
      "============================================================\n",
      "\n",
      "Transactions dataset summary statistics:\n",
      "---------------------------------------------\n",
      "                                date     store_nbr  transactions\n",
      "count                          83488  83488.000000  83488.000000\n",
      "mean   2015-05-20 16:07:40.866232064     26.939237   1694.602158\n",
      "min              2013-01-01 00:00:00      1.000000      5.000000\n",
      "25%              2014-03-27 00:00:00     13.000000   1046.000000\n",
      "50%              2015-06-08 00:00:00     27.000000   1393.000000\n",
      "75%              2016-07-14 06:00:00     40.000000   2079.000000\n",
      "max              2017-08-15 00:00:00     54.000000   8359.000000\n",
      "std                              NaN     15.608204    963.286644\n",
      "============================================================\n",
      "\n"
     ]
    }
   ],
   "source": [
    "# Checking for the summary statistics of the datasets \n",
    "\n",
    "datasets = {'holiday events': holidays_events_df, 'oil': oil_df, 'stores': stores_df, 'transactions': transactions_df}\n",
    "\n",
    "for name, data in datasets.items():\n",
    "    print(f\"{name.capitalize()} dataset summary statistics:\")\n",
    "    print('---'*15)\n",
    "    print(data.describe())\n",
    "    print('==='*20)\n",
    "    print()"
   ]
  },
  {
   "cell_type": "code",
   "execution_count": null,
   "metadata": {},
   "outputs": [
    {
     "name": "stdout",
     "output_type": "stream",
     "text": [
      "For holiday events dataset\n",
      "Shape: (350, 6)\n",
      "Missing values: 0\n",
      "Duplicates: 0\n",
      "==============================\n",
      "\n",
      "For oil dataset\n",
      "Shape: (1218, 2)\n",
      "Missing values: 43\n",
      "Duplicates: 0\n",
      "==============================\n",
      "\n",
      "For stores dataset\n",
      "Shape: (54, 5)\n",
      "Missing values: 0\n",
      "Duplicates: 0\n",
      "==============================\n",
      "\n",
      "For transactions dataset\n",
      "Shape: (83488, 3)\n",
      "Missing values: 0\n",
      "Duplicates: 0\n",
      "==============================\n",
      "\n"
     ]
    }
   ],
   "source": [
    "# General overview\n",
    "\n",
    "datasets = {'holiday events': holidays_events_df, 'oil': oil_df, 'stores': stores_df, 'transactions': transactions_df}\n",
    "\n",
    "for df_name, dataset in datasets.items():\n",
    "    print(f'For {df_name} dataset')\n",
    "    print(f'Shape: {dataset.shape}')\n",
    "    print(f'Missing values: {dataset.isna().sum().sum()}')\n",
    "    print(f'Duplicates: {dataset.duplicated().sum()}')\n",
    "    print('=' * 30)\n",
    "    print()\n"
   ]
  },
  {
   "cell_type": "markdown",
   "metadata": {},
   "source": [
    "##### Defining Missing Values"
   ]
  },
  {
   "cell_type": "code",
   "execution_count": null,
   "metadata": {},
   "outputs": [
    {
     "name": "stdout",
     "output_type": "stream",
     "text": [
      "Missing values in the Holiday events dataset:\n",
      "date           0\n",
      "type           0\n",
      "locale         0\n",
      "locale_name    0\n",
      "description    0\n",
      "transferred    0\n",
      "dtype: int64\n",
      "==============================\n",
      "\n",
      "Missing values in the Oil dataset:\n",
      "date           0\n",
      "dcoilwtico    43\n",
      "dtype: int64\n",
      "==============================\n",
      "\n",
      "Missing values in the Stores dataset:\n",
      "store_nbr    0\n",
      "city         0\n",
      "state        0\n",
      "type         0\n",
      "cluster      0\n",
      "dtype: int64\n",
      "==============================\n",
      "\n",
      "Missing values in the Transactions dataset:\n",
      "date            0\n",
      "store_nbr       0\n",
      "transactions    0\n",
      "dtype: int64\n",
      "==============================\n",
      "\n"
     ]
    }
   ],
   "source": [
    "# Check for missing values in the datasets\n",
    "\n",
    "datasets = {'holiday events': holidays_events_df, 'oil': oil_df, 'stores': stores_df, 'transactions': transactions_df, }\n",
    "\n",
    "def show_missing_values(datasets):\n",
    "    for name, data in datasets.items():\n",
    "        print(f\"Missing values in the {name.capitalize()} dataset:\")\n",
    "        print(data.isnull().sum())\n",
    "        print('=' * 30)\n",
    "        print()\n",
    "\n",
    "show_missing_values(datasets)"
   ]
  },
  {
   "cell_type": "markdown",
   "metadata": {},
   "source": [
    "Dealing With Missing Values"
   ]
  },
  {
   "cell_type": "code",
   "execution_count": null,
   "metadata": {},
   "outputs": [
    {
     "data": {
      "application/vnd.plotly.v1+json": {
       "config": {
        "plotlyServerURL": "https://plot.ly"
       },
       "data": [
        {
         "hovertemplate": "date=%{x}<br>dcoilwtico=%{y}<extra></extra>",
         "legendgroup": "",
         "line": {
          "color": "#636efa",
          "dash": "solid"
         },
         "marker": {
          "symbol": "circle"
         },
         "mode": "lines",
         "name": "",
         "showlegend": false,
         "type": "scattergl",
         "x": [
          "2013-01-01T00:00:00",
          "2013-01-02T00:00:00",
          "2013-01-03T00:00:00",
          "2013-01-04T00:00:00",
          "2013-01-07T00:00:00",
          "2013-01-08T00:00:00",
          "2013-01-09T00:00:00",
          "2013-01-10T00:00:00",
          "2013-01-11T00:00:00",
          "2013-01-14T00:00:00",
          "2013-01-15T00:00:00",
          "2013-01-16T00:00:00",
          "2013-01-17T00:00:00",
          "2013-01-18T00:00:00",
          "2013-01-21T00:00:00",
          "2013-01-22T00:00:00",
          "2013-01-23T00:00:00",
          "2013-01-24T00:00:00",
          "2013-01-25T00:00:00",
          "2013-01-28T00:00:00",
          "2013-01-29T00:00:00",
          "2013-01-30T00:00:00",
          "2013-01-31T00:00:00",
          "2013-02-01T00:00:00",
          "2013-02-04T00:00:00",
          "2013-02-05T00:00:00",
          "2013-02-06T00:00:00",
          "2013-02-07T00:00:00",
          "2013-02-08T00:00:00",
          "2013-02-11T00:00:00",
          "2013-02-12T00:00:00",
          "2013-02-13T00:00:00",
          "2013-02-14T00:00:00",
          "2013-02-15T00:00:00",
          "2013-02-18T00:00:00",
          "2013-02-19T00:00:00",
          "2013-02-20T00:00:00",
          "2013-02-21T00:00:00",
          "2013-02-22T00:00:00",
          "2013-02-25T00:00:00",
          "2013-02-26T00:00:00",
          "2013-02-27T00:00:00",
          "2013-02-28T00:00:00",
          "2013-03-01T00:00:00",
          "2013-03-04T00:00:00",
          "2013-03-05T00:00:00",
          "2013-03-06T00:00:00",
          "2013-03-07T00:00:00",
          "2013-03-08T00:00:00",
          "2013-03-11T00:00:00",
          "2013-03-12T00:00:00",
          "2013-03-13T00:00:00",
          "2013-03-14T00:00:00",
          "2013-03-15T00:00:00",
          "2013-03-18T00:00:00",
          "2013-03-19T00:00:00",
          "2013-03-20T00:00:00",
          "2013-03-21T00:00:00",
          "2013-03-22T00:00:00",
          "2013-03-25T00:00:00",
          "2013-03-26T00:00:00",
          "2013-03-27T00:00:00",
          "2013-03-28T00:00:00",
          "2013-03-29T00:00:00",
          "2013-04-01T00:00:00",
          "2013-04-02T00:00:00",
          "2013-04-03T00:00:00",
          "2013-04-04T00:00:00",
          "2013-04-05T00:00:00",
          "2013-04-08T00:00:00",
          "2013-04-09T00:00:00",
          "2013-04-10T00:00:00",
          "2013-04-11T00:00:00",
          "2013-04-12T00:00:00",
          "2013-04-15T00:00:00",
          "2013-04-16T00:00:00",
          "2013-04-17T00:00:00",
          "2013-04-18T00:00:00",
          "2013-04-19T00:00:00",
          "2013-04-22T00:00:00",
          "2013-04-23T00:00:00",
          "2013-04-24T00:00:00",
          "2013-04-25T00:00:00",
          "2013-04-26T00:00:00",
          "2013-04-29T00:00:00",
          "2013-04-30T00:00:00",
          "2013-05-01T00:00:00",
          "2013-05-02T00:00:00",
          "2013-05-03T00:00:00",
          "2013-05-06T00:00:00",
          "2013-05-07T00:00:00",
          "2013-05-08T00:00:00",
          "2013-05-09T00:00:00",
          "2013-05-10T00:00:00",
          "2013-05-13T00:00:00",
          "2013-05-14T00:00:00",
          "2013-05-15T00:00:00",
          "2013-05-16T00:00:00",
          "2013-05-17T00:00:00",
          "2013-05-20T00:00:00",
          "2013-05-21T00:00:00",
          "2013-05-22T00:00:00",
          "2013-05-23T00:00:00",
          "2013-05-24T00:00:00",
          "2013-05-27T00:00:00",
          "2013-05-28T00:00:00",
          "2013-05-29T00:00:00",
          "2013-05-30T00:00:00",
          "2013-05-31T00:00:00",
          "2013-06-03T00:00:00",
          "2013-06-04T00:00:00",
          "2013-06-05T00:00:00",
          "2013-06-06T00:00:00",
          "2013-06-07T00:00:00",
          "2013-06-10T00:00:00",
          "2013-06-11T00:00:00",
          "2013-06-12T00:00:00",
          "2013-06-13T00:00:00",
          "2013-06-14T00:00:00",
          "2013-06-17T00:00:00",
          "2013-06-18T00:00:00",
          "2013-06-19T00:00:00",
          "2013-06-20T00:00:00",
          "2013-06-21T00:00:00",
          "2013-06-24T00:00:00",
          "2013-06-25T00:00:00",
          "2013-06-26T00:00:00",
          "2013-06-27T00:00:00",
          "2013-06-28T00:00:00",
          "2013-07-01T00:00:00",
          "2013-07-02T00:00:00",
          "2013-07-03T00:00:00",
          "2013-07-04T00:00:00",
          "2013-07-05T00:00:00",
          "2013-07-08T00:00:00",
          "2013-07-09T00:00:00",
          "2013-07-10T00:00:00",
          "2013-07-11T00:00:00",
          "2013-07-12T00:00:00",
          "2013-07-15T00:00:00",
          "2013-07-16T00:00:00",
          "2013-07-17T00:00:00",
          "2013-07-18T00:00:00",
          "2013-07-19T00:00:00",
          "2013-07-22T00:00:00",
          "2013-07-23T00:00:00",
          "2013-07-24T00:00:00",
          "2013-07-25T00:00:00",
          "2013-07-26T00:00:00",
          "2013-07-29T00:00:00",
          "2013-07-30T00:00:00",
          "2013-07-31T00:00:00",
          "2013-08-01T00:00:00",
          "2013-08-02T00:00:00",
          "2013-08-05T00:00:00",
          "2013-08-06T00:00:00",
          "2013-08-07T00:00:00",
          "2013-08-08T00:00:00",
          "2013-08-09T00:00:00",
          "2013-08-12T00:00:00",
          "2013-08-13T00:00:00",
          "2013-08-14T00:00:00",
          "2013-08-15T00:00:00",
          "2013-08-16T00:00:00",
          "2013-08-19T00:00:00",
          "2013-08-20T00:00:00",
          "2013-08-21T00:00:00",
          "2013-08-22T00:00:00",
          "2013-08-23T00:00:00",
          "2013-08-26T00:00:00",
          "2013-08-27T00:00:00",
          "2013-08-28T00:00:00",
          "2013-08-29T00:00:00",
          "2013-08-30T00:00:00",
          "2013-09-02T00:00:00",
          "2013-09-03T00:00:00",
          "2013-09-04T00:00:00",
          "2013-09-05T00:00:00",
          "2013-09-06T00:00:00",
          "2013-09-09T00:00:00",
          "2013-09-10T00:00:00",
          "2013-09-11T00:00:00",
          "2013-09-12T00:00:00",
          "2013-09-13T00:00:00",
          "2013-09-16T00:00:00",
          "2013-09-17T00:00:00",
          "2013-09-18T00:00:00",
          "2013-09-19T00:00:00",
          "2013-09-20T00:00:00",
          "2013-09-23T00:00:00",
          "2013-09-24T00:00:00",
          "2013-09-25T00:00:00",
          "2013-09-26T00:00:00",
          "2013-09-27T00:00:00",
          "2013-09-30T00:00:00",
          "2013-10-01T00:00:00",
          "2013-10-02T00:00:00",
          "2013-10-03T00:00:00",
          "2013-10-04T00:00:00",
          "2013-10-07T00:00:00",
          "2013-10-08T00:00:00",
          "2013-10-09T00:00:00",
          "2013-10-10T00:00:00",
          "2013-10-11T00:00:00",
          "2013-10-14T00:00:00",
          "2013-10-15T00:00:00",
          "2013-10-16T00:00:00",
          "2013-10-17T00:00:00",
          "2013-10-18T00:00:00",
          "2013-10-21T00:00:00",
          "2013-10-22T00:00:00",
          "2013-10-23T00:00:00",
          "2013-10-24T00:00:00",
          "2013-10-25T00:00:00",
          "2013-10-28T00:00:00",
          "2013-10-29T00:00:00",
          "2013-10-30T00:00:00",
          "2013-10-31T00:00:00",
          "2013-11-01T00:00:00",
          "2013-11-04T00:00:00",
          "2013-11-05T00:00:00",
          "2013-11-06T00:00:00",
          "2013-11-07T00:00:00",
          "2013-11-08T00:00:00",
          "2013-11-11T00:00:00",
          "2013-11-12T00:00:00",
          "2013-11-13T00:00:00",
          "2013-11-14T00:00:00",
          "2013-11-15T00:00:00",
          "2013-11-18T00:00:00",
          "2013-11-19T00:00:00",
          "2013-11-20T00:00:00",
          "2013-11-21T00:00:00",
          "2013-11-22T00:00:00",
          "2013-11-25T00:00:00",
          "2013-11-26T00:00:00",
          "2013-11-27T00:00:00",
          "2013-11-28T00:00:00",
          "2013-11-29T00:00:00",
          "2013-12-02T00:00:00",
          "2013-12-03T00:00:00",
          "2013-12-04T00:00:00",
          "2013-12-05T00:00:00",
          "2013-12-06T00:00:00",
          "2013-12-09T00:00:00",
          "2013-12-10T00:00:00",
          "2013-12-11T00:00:00",
          "2013-12-12T00:00:00",
          "2013-12-13T00:00:00",
          "2013-12-16T00:00:00",
          "2013-12-17T00:00:00",
          "2013-12-18T00:00:00",
          "2013-12-19T00:00:00",
          "2013-12-20T00:00:00",
          "2013-12-23T00:00:00",
          "2013-12-24T00:00:00",
          "2013-12-25T00:00:00",
          "2013-12-26T00:00:00",
          "2013-12-27T00:00:00",
          "2013-12-30T00:00:00",
          "2013-12-31T00:00:00",
          "2014-01-01T00:00:00",
          "2014-01-02T00:00:00",
          "2014-01-03T00:00:00",
          "2014-01-06T00:00:00",
          "2014-01-07T00:00:00",
          "2014-01-08T00:00:00",
          "2014-01-09T00:00:00",
          "2014-01-10T00:00:00",
          "2014-01-13T00:00:00",
          "2014-01-14T00:00:00",
          "2014-01-15T00:00:00",
          "2014-01-16T00:00:00",
          "2014-01-17T00:00:00",
          "2014-01-20T00:00:00",
          "2014-01-21T00:00:00",
          "2014-01-22T00:00:00",
          "2014-01-23T00:00:00",
          "2014-01-24T00:00:00",
          "2014-01-27T00:00:00",
          "2014-01-28T00:00:00",
          "2014-01-29T00:00:00",
          "2014-01-30T00:00:00",
          "2014-01-31T00:00:00",
          "2014-02-03T00:00:00",
          "2014-02-04T00:00:00",
          "2014-02-05T00:00:00",
          "2014-02-06T00:00:00",
          "2014-02-07T00:00:00",
          "2014-02-10T00:00:00",
          "2014-02-11T00:00:00",
          "2014-02-12T00:00:00",
          "2014-02-13T00:00:00",
          "2014-02-14T00:00:00",
          "2014-02-17T00:00:00",
          "2014-02-18T00:00:00",
          "2014-02-19T00:00:00",
          "2014-02-20T00:00:00",
          "2014-02-21T00:00:00",
          "2014-02-24T00:00:00",
          "2014-02-25T00:00:00",
          "2014-02-26T00:00:00",
          "2014-02-27T00:00:00",
          "2014-02-28T00:00:00",
          "2014-03-03T00:00:00",
          "2014-03-04T00:00:00",
          "2014-03-05T00:00:00",
          "2014-03-06T00:00:00",
          "2014-03-07T00:00:00",
          "2014-03-10T00:00:00",
          "2014-03-11T00:00:00",
          "2014-03-12T00:00:00",
          "2014-03-13T00:00:00",
          "2014-03-14T00:00:00",
          "2014-03-17T00:00:00",
          "2014-03-18T00:00:00",
          "2014-03-19T00:00:00",
          "2014-03-20T00:00:00",
          "2014-03-21T00:00:00",
          "2014-03-24T00:00:00",
          "2014-03-25T00:00:00",
          "2014-03-26T00:00:00",
          "2014-03-27T00:00:00",
          "2014-03-28T00:00:00",
          "2014-03-31T00:00:00",
          "2014-04-01T00:00:00",
          "2014-04-02T00:00:00",
          "2014-04-03T00:00:00",
          "2014-04-04T00:00:00",
          "2014-04-07T00:00:00",
          "2014-04-08T00:00:00",
          "2014-04-09T00:00:00",
          "2014-04-10T00:00:00",
          "2014-04-11T00:00:00",
          "2014-04-14T00:00:00",
          "2014-04-15T00:00:00",
          "2014-04-16T00:00:00",
          "2014-04-17T00:00:00",
          "2014-04-18T00:00:00",
          "2014-04-21T00:00:00",
          "2014-04-22T00:00:00",
          "2014-04-23T00:00:00",
          "2014-04-24T00:00:00",
          "2014-04-25T00:00:00",
          "2014-04-28T00:00:00",
          "2014-04-29T00:00:00",
          "2014-04-30T00:00:00",
          "2014-05-01T00:00:00",
          "2014-05-02T00:00:00",
          "2014-05-05T00:00:00",
          "2014-05-06T00:00:00",
          "2014-05-07T00:00:00",
          "2014-05-08T00:00:00",
          "2014-05-09T00:00:00",
          "2014-05-12T00:00:00",
          "2014-05-13T00:00:00",
          "2014-05-14T00:00:00",
          "2014-05-15T00:00:00",
          "2014-05-16T00:00:00",
          "2014-05-19T00:00:00",
          "2014-05-20T00:00:00",
          "2014-05-21T00:00:00",
          "2014-05-22T00:00:00",
          "2014-05-23T00:00:00",
          "2014-05-26T00:00:00",
          "2014-05-27T00:00:00",
          "2014-05-28T00:00:00",
          "2014-05-29T00:00:00",
          "2014-05-30T00:00:00",
          "2014-06-02T00:00:00",
          "2014-06-03T00:00:00",
          "2014-06-04T00:00:00",
          "2014-06-05T00:00:00",
          "2014-06-06T00:00:00",
          "2014-06-09T00:00:00",
          "2014-06-10T00:00:00",
          "2014-06-11T00:00:00",
          "2014-06-12T00:00:00",
          "2014-06-13T00:00:00",
          "2014-06-16T00:00:00",
          "2014-06-17T00:00:00",
          "2014-06-18T00:00:00",
          "2014-06-19T00:00:00",
          "2014-06-20T00:00:00",
          "2014-06-23T00:00:00",
          "2014-06-24T00:00:00",
          "2014-06-25T00:00:00",
          "2014-06-26T00:00:00",
          "2014-06-27T00:00:00",
          "2014-06-30T00:00:00",
          "2014-07-01T00:00:00",
          "2014-07-02T00:00:00",
          "2014-07-03T00:00:00",
          "2014-07-04T00:00:00",
          "2014-07-07T00:00:00",
          "2014-07-08T00:00:00",
          "2014-07-09T00:00:00",
          "2014-07-10T00:00:00",
          "2014-07-11T00:00:00",
          "2014-07-14T00:00:00",
          "2014-07-15T00:00:00",
          "2014-07-16T00:00:00",
          "2014-07-17T00:00:00",
          "2014-07-18T00:00:00",
          "2014-07-21T00:00:00",
          "2014-07-22T00:00:00",
          "2014-07-23T00:00:00",
          "2014-07-24T00:00:00",
          "2014-07-25T00:00:00",
          "2014-07-28T00:00:00",
          "2014-07-29T00:00:00",
          "2014-07-30T00:00:00",
          "2014-07-31T00:00:00",
          "2014-08-01T00:00:00",
          "2014-08-04T00:00:00",
          "2014-08-05T00:00:00",
          "2014-08-06T00:00:00",
          "2014-08-07T00:00:00",
          "2014-08-08T00:00:00",
          "2014-08-11T00:00:00",
          "2014-08-12T00:00:00",
          "2014-08-13T00:00:00",
          "2014-08-14T00:00:00",
          "2014-08-15T00:00:00",
          "2014-08-18T00:00:00",
          "2014-08-19T00:00:00",
          "2014-08-20T00:00:00",
          "2014-08-21T00:00:00",
          "2014-08-22T00:00:00",
          "2014-08-25T00:00:00",
          "2014-08-26T00:00:00",
          "2014-08-27T00:00:00",
          "2014-08-28T00:00:00",
          "2014-08-29T00:00:00",
          "2014-09-01T00:00:00",
          "2014-09-02T00:00:00",
          "2014-09-03T00:00:00",
          "2014-09-04T00:00:00",
          "2014-09-05T00:00:00",
          "2014-09-08T00:00:00",
          "2014-09-09T00:00:00",
          "2014-09-10T00:00:00",
          "2014-09-11T00:00:00",
          "2014-09-12T00:00:00",
          "2014-09-15T00:00:00",
          "2014-09-16T00:00:00",
          "2014-09-17T00:00:00",
          "2014-09-18T00:00:00",
          "2014-09-19T00:00:00",
          "2014-09-22T00:00:00",
          "2014-09-23T00:00:00",
          "2014-09-24T00:00:00",
          "2014-09-25T00:00:00",
          "2014-09-26T00:00:00",
          "2014-09-29T00:00:00",
          "2014-09-30T00:00:00",
          "2014-10-01T00:00:00",
          "2014-10-02T00:00:00",
          "2014-10-03T00:00:00",
          "2014-10-06T00:00:00",
          "2014-10-07T00:00:00",
          "2014-10-08T00:00:00",
          "2014-10-09T00:00:00",
          "2014-10-10T00:00:00",
          "2014-10-13T00:00:00",
          "2014-10-14T00:00:00",
          "2014-10-15T00:00:00",
          "2014-10-16T00:00:00",
          "2014-10-17T00:00:00",
          "2014-10-20T00:00:00",
          "2014-10-21T00:00:00",
          "2014-10-22T00:00:00",
          "2014-10-23T00:00:00",
          "2014-10-24T00:00:00",
          "2014-10-27T00:00:00",
          "2014-10-28T00:00:00",
          "2014-10-29T00:00:00",
          "2014-10-30T00:00:00",
          "2014-10-31T00:00:00",
          "2014-11-03T00:00:00",
          "2014-11-04T00:00:00",
          "2014-11-05T00:00:00",
          "2014-11-06T00:00:00",
          "2014-11-07T00:00:00",
          "2014-11-10T00:00:00",
          "2014-11-11T00:00:00",
          "2014-11-12T00:00:00",
          "2014-11-13T00:00:00",
          "2014-11-14T00:00:00",
          "2014-11-17T00:00:00",
          "2014-11-18T00:00:00",
          "2014-11-19T00:00:00",
          "2014-11-20T00:00:00",
          "2014-11-21T00:00:00",
          "2014-11-24T00:00:00",
          "2014-11-25T00:00:00",
          "2014-11-26T00:00:00",
          "2014-11-27T00:00:00",
          "2014-11-28T00:00:00",
          "2014-12-01T00:00:00",
          "2014-12-02T00:00:00",
          "2014-12-03T00:00:00",
          "2014-12-04T00:00:00",
          "2014-12-05T00:00:00",
          "2014-12-08T00:00:00",
          "2014-12-09T00:00:00",
          "2014-12-10T00:00:00",
          "2014-12-11T00:00:00",
          "2014-12-12T00:00:00",
          "2014-12-15T00:00:00",
          "2014-12-16T00:00:00",
          "2014-12-17T00:00:00",
          "2014-12-18T00:00:00",
          "2014-12-19T00:00:00",
          "2014-12-22T00:00:00",
          "2014-12-23T00:00:00",
          "2014-12-24T00:00:00",
          "2014-12-25T00:00:00",
          "2014-12-26T00:00:00",
          "2014-12-29T00:00:00",
          "2014-12-30T00:00:00",
          "2014-12-31T00:00:00",
          "2015-01-01T00:00:00",
          "2015-01-02T00:00:00",
          "2015-01-05T00:00:00",
          "2015-01-06T00:00:00",
          "2015-01-07T00:00:00",
          "2015-01-08T00:00:00",
          "2015-01-09T00:00:00",
          "2015-01-12T00:00:00",
          "2015-01-13T00:00:00",
          "2015-01-14T00:00:00",
          "2015-01-15T00:00:00",
          "2015-01-16T00:00:00",
          "2015-01-19T00:00:00",
          "2015-01-20T00:00:00",
          "2015-01-21T00:00:00",
          "2015-01-22T00:00:00",
          "2015-01-23T00:00:00",
          "2015-01-26T00:00:00",
          "2015-01-27T00:00:00",
          "2015-01-28T00:00:00",
          "2015-01-29T00:00:00",
          "2015-01-30T00:00:00",
          "2015-02-02T00:00:00",
          "2015-02-03T00:00:00",
          "2015-02-04T00:00:00",
          "2015-02-05T00:00:00",
          "2015-02-06T00:00:00",
          "2015-02-09T00:00:00",
          "2015-02-10T00:00:00",
          "2015-02-11T00:00:00",
          "2015-02-12T00:00:00",
          "2015-02-13T00:00:00",
          "2015-02-16T00:00:00",
          "2015-02-17T00:00:00",
          "2015-02-18T00:00:00",
          "2015-02-19T00:00:00",
          "2015-02-20T00:00:00",
          "2015-02-23T00:00:00",
          "2015-02-24T00:00:00",
          "2015-02-25T00:00:00",
          "2015-02-26T00:00:00",
          "2015-02-27T00:00:00",
          "2015-03-02T00:00:00",
          "2015-03-03T00:00:00",
          "2015-03-04T00:00:00",
          "2015-03-05T00:00:00",
          "2015-03-06T00:00:00",
          "2015-03-09T00:00:00",
          "2015-03-10T00:00:00",
          "2015-03-11T00:00:00",
          "2015-03-12T00:00:00",
          "2015-03-13T00:00:00",
          "2015-03-16T00:00:00",
          "2015-03-17T00:00:00",
          "2015-03-18T00:00:00",
          "2015-03-19T00:00:00",
          "2015-03-20T00:00:00",
          "2015-03-23T00:00:00",
          "2015-03-24T00:00:00",
          "2015-03-25T00:00:00",
          "2015-03-26T00:00:00",
          "2015-03-27T00:00:00",
          "2015-03-30T00:00:00",
          "2015-03-31T00:00:00",
          "2015-04-01T00:00:00",
          "2015-04-02T00:00:00",
          "2015-04-03T00:00:00",
          "2015-04-06T00:00:00",
          "2015-04-07T00:00:00",
          "2015-04-08T00:00:00",
          "2015-04-09T00:00:00",
          "2015-04-10T00:00:00",
          "2015-04-13T00:00:00",
          "2015-04-14T00:00:00",
          "2015-04-15T00:00:00",
          "2015-04-16T00:00:00",
          "2015-04-17T00:00:00",
          "2015-04-20T00:00:00",
          "2015-04-21T00:00:00",
          "2015-04-22T00:00:00",
          "2015-04-23T00:00:00",
          "2015-04-24T00:00:00",
          "2015-04-27T00:00:00",
          "2015-04-28T00:00:00",
          "2015-04-29T00:00:00",
          "2015-04-30T00:00:00",
          "2015-05-01T00:00:00",
          "2015-05-04T00:00:00",
          "2015-05-05T00:00:00",
          "2015-05-06T00:00:00",
          "2015-05-07T00:00:00",
          "2015-05-08T00:00:00",
          "2015-05-11T00:00:00",
          "2015-05-12T00:00:00",
          "2015-05-13T00:00:00",
          "2015-05-14T00:00:00",
          "2015-05-15T00:00:00",
          "2015-05-18T00:00:00",
          "2015-05-19T00:00:00",
          "2015-05-20T00:00:00",
          "2015-05-21T00:00:00",
          "2015-05-22T00:00:00",
          "2015-05-25T00:00:00",
          "2015-05-26T00:00:00",
          "2015-05-27T00:00:00",
          "2015-05-28T00:00:00",
          "2015-05-29T00:00:00",
          "2015-06-01T00:00:00",
          "2015-06-02T00:00:00",
          "2015-06-03T00:00:00",
          "2015-06-04T00:00:00",
          "2015-06-05T00:00:00",
          "2015-06-08T00:00:00",
          "2015-06-09T00:00:00",
          "2015-06-10T00:00:00",
          "2015-06-11T00:00:00",
          "2015-06-12T00:00:00",
          "2015-06-15T00:00:00",
          "2015-06-16T00:00:00",
          "2015-06-17T00:00:00",
          "2015-06-18T00:00:00",
          "2015-06-19T00:00:00",
          "2015-06-22T00:00:00",
          "2015-06-23T00:00:00",
          "2015-06-24T00:00:00",
          "2015-06-25T00:00:00",
          "2015-06-26T00:00:00",
          "2015-06-29T00:00:00",
          "2015-06-30T00:00:00",
          "2015-07-01T00:00:00",
          "2015-07-02T00:00:00",
          "2015-07-03T00:00:00",
          "2015-07-06T00:00:00",
          "2015-07-07T00:00:00",
          "2015-07-08T00:00:00",
          "2015-07-09T00:00:00",
          "2015-07-10T00:00:00",
          "2015-07-13T00:00:00",
          "2015-07-14T00:00:00",
          "2015-07-15T00:00:00",
          "2015-07-16T00:00:00",
          "2015-07-17T00:00:00",
          "2015-07-20T00:00:00",
          "2015-07-21T00:00:00",
          "2015-07-22T00:00:00",
          "2015-07-23T00:00:00",
          "2015-07-24T00:00:00",
          "2015-07-27T00:00:00",
          "2015-07-28T00:00:00",
          "2015-07-29T00:00:00",
          "2015-07-30T00:00:00",
          "2015-07-31T00:00:00",
          "2015-08-03T00:00:00",
          "2015-08-04T00:00:00",
          "2015-08-05T00:00:00",
          "2015-08-06T00:00:00",
          "2015-08-07T00:00:00",
          "2015-08-10T00:00:00",
          "2015-08-11T00:00:00",
          "2015-08-12T00:00:00",
          "2015-08-13T00:00:00",
          "2015-08-14T00:00:00",
          "2015-08-17T00:00:00",
          "2015-08-18T00:00:00",
          "2015-08-19T00:00:00",
          "2015-08-20T00:00:00",
          "2015-08-21T00:00:00",
          "2015-08-24T00:00:00",
          "2015-08-25T00:00:00",
          "2015-08-26T00:00:00",
          "2015-08-27T00:00:00",
          "2015-08-28T00:00:00",
          "2015-08-31T00:00:00",
          "2015-09-01T00:00:00",
          "2015-09-02T00:00:00",
          "2015-09-03T00:00:00",
          "2015-09-04T00:00:00",
          "2015-09-07T00:00:00",
          "2015-09-08T00:00:00",
          "2015-09-09T00:00:00",
          "2015-09-10T00:00:00",
          "2015-09-11T00:00:00",
          "2015-09-14T00:00:00",
          "2015-09-15T00:00:00",
          "2015-09-16T00:00:00",
          "2015-09-17T00:00:00",
          "2015-09-18T00:00:00",
          "2015-09-21T00:00:00",
          "2015-09-22T00:00:00",
          "2015-09-23T00:00:00",
          "2015-09-24T00:00:00",
          "2015-09-25T00:00:00",
          "2015-09-28T00:00:00",
          "2015-09-29T00:00:00",
          "2015-09-30T00:00:00",
          "2015-10-01T00:00:00",
          "2015-10-02T00:00:00",
          "2015-10-05T00:00:00",
          "2015-10-06T00:00:00",
          "2015-10-07T00:00:00",
          "2015-10-08T00:00:00",
          "2015-10-09T00:00:00",
          "2015-10-12T00:00:00",
          "2015-10-13T00:00:00",
          "2015-10-14T00:00:00",
          "2015-10-15T00:00:00",
          "2015-10-16T00:00:00",
          "2015-10-19T00:00:00",
          "2015-10-20T00:00:00",
          "2015-10-21T00:00:00",
          "2015-10-22T00:00:00",
          "2015-10-23T00:00:00",
          "2015-10-26T00:00:00",
          "2015-10-27T00:00:00",
          "2015-10-28T00:00:00",
          "2015-10-29T00:00:00",
          "2015-10-30T00:00:00",
          "2015-11-02T00:00:00",
          "2015-11-03T00:00:00",
          "2015-11-04T00:00:00",
          "2015-11-05T00:00:00",
          "2015-11-06T00:00:00",
          "2015-11-09T00:00:00",
          "2015-11-10T00:00:00",
          "2015-11-11T00:00:00",
          "2015-11-12T00:00:00",
          "2015-11-13T00:00:00",
          "2015-11-16T00:00:00",
          "2015-11-17T00:00:00",
          "2015-11-18T00:00:00",
          "2015-11-19T00:00:00",
          "2015-11-20T00:00:00",
          "2015-11-23T00:00:00",
          "2015-11-24T00:00:00",
          "2015-11-25T00:00:00",
          "2015-11-26T00:00:00",
          "2015-11-27T00:00:00",
          "2015-11-30T00:00:00",
          "2015-12-01T00:00:00",
          "2015-12-02T00:00:00",
          "2015-12-03T00:00:00",
          "2015-12-04T00:00:00",
          "2015-12-07T00:00:00",
          "2015-12-08T00:00:00",
          "2015-12-09T00:00:00",
          "2015-12-10T00:00:00",
          "2015-12-11T00:00:00",
          "2015-12-14T00:00:00",
          "2015-12-15T00:00:00",
          "2015-12-16T00:00:00",
          "2015-12-17T00:00:00",
          "2015-12-18T00:00:00",
          "2015-12-21T00:00:00",
          "2015-12-22T00:00:00",
          "2015-12-23T00:00:00",
          "2015-12-24T00:00:00",
          "2015-12-25T00:00:00",
          "2015-12-28T00:00:00",
          "2015-12-29T00:00:00",
          "2015-12-30T00:00:00",
          "2015-12-31T00:00:00",
          "2016-01-01T00:00:00",
          "2016-01-04T00:00:00",
          "2016-01-05T00:00:00",
          "2016-01-06T00:00:00",
          "2016-01-07T00:00:00",
          "2016-01-08T00:00:00",
          "2016-01-11T00:00:00",
          "2016-01-12T00:00:00",
          "2016-01-13T00:00:00",
          "2016-01-14T00:00:00",
          "2016-01-15T00:00:00",
          "2016-01-18T00:00:00",
          "2016-01-19T00:00:00",
          "2016-01-20T00:00:00",
          "2016-01-21T00:00:00",
          "2016-01-22T00:00:00",
          "2016-01-25T00:00:00",
          "2016-01-26T00:00:00",
          "2016-01-27T00:00:00",
          "2016-01-28T00:00:00",
          "2016-01-29T00:00:00",
          "2016-02-01T00:00:00",
          "2016-02-02T00:00:00",
          "2016-02-03T00:00:00",
          "2016-02-04T00:00:00",
          "2016-02-05T00:00:00",
          "2016-02-08T00:00:00",
          "2016-02-09T00:00:00",
          "2016-02-10T00:00:00",
          "2016-02-11T00:00:00",
          "2016-02-12T00:00:00",
          "2016-02-15T00:00:00",
          "2016-02-16T00:00:00",
          "2016-02-17T00:00:00",
          "2016-02-18T00:00:00",
          "2016-02-19T00:00:00",
          "2016-02-22T00:00:00",
          "2016-02-23T00:00:00",
          "2016-02-24T00:00:00",
          "2016-02-25T00:00:00",
          "2016-02-26T00:00:00",
          "2016-02-29T00:00:00",
          "2016-03-01T00:00:00",
          "2016-03-02T00:00:00",
          "2016-03-03T00:00:00",
          "2016-03-04T00:00:00",
          "2016-03-07T00:00:00",
          "2016-03-08T00:00:00",
          "2016-03-09T00:00:00",
          "2016-03-10T00:00:00",
          "2016-03-11T00:00:00",
          "2016-03-14T00:00:00",
          "2016-03-15T00:00:00",
          "2016-03-16T00:00:00",
          "2016-03-17T00:00:00",
          "2016-03-18T00:00:00",
          "2016-03-21T00:00:00",
          "2016-03-22T00:00:00",
          "2016-03-23T00:00:00",
          "2016-03-24T00:00:00",
          "2016-03-25T00:00:00",
          "2016-03-28T00:00:00",
          "2016-03-29T00:00:00",
          "2016-03-30T00:00:00",
          "2016-03-31T00:00:00",
          "2016-04-01T00:00:00",
          "2016-04-04T00:00:00",
          "2016-04-05T00:00:00",
          "2016-04-06T00:00:00",
          "2016-04-07T00:00:00",
          "2016-04-08T00:00:00",
          "2016-04-11T00:00:00",
          "2016-04-12T00:00:00",
          "2016-04-13T00:00:00",
          "2016-04-14T00:00:00",
          "2016-04-15T00:00:00",
          "2016-04-18T00:00:00",
          "2016-04-19T00:00:00",
          "2016-04-20T00:00:00",
          "2016-04-21T00:00:00",
          "2016-04-22T00:00:00",
          "2016-04-25T00:00:00",
          "2016-04-26T00:00:00",
          "2016-04-27T00:00:00",
          "2016-04-28T00:00:00",
          "2016-04-29T00:00:00",
          "2016-05-02T00:00:00",
          "2016-05-03T00:00:00",
          "2016-05-04T00:00:00",
          "2016-05-05T00:00:00",
          "2016-05-06T00:00:00",
          "2016-05-09T00:00:00",
          "2016-05-10T00:00:00",
          "2016-05-11T00:00:00",
          "2016-05-12T00:00:00",
          "2016-05-13T00:00:00",
          "2016-05-16T00:00:00",
          "2016-05-17T00:00:00",
          "2016-05-18T00:00:00",
          "2016-05-19T00:00:00",
          "2016-05-20T00:00:00",
          "2016-05-23T00:00:00",
          "2016-05-24T00:00:00",
          "2016-05-25T00:00:00",
          "2016-05-26T00:00:00",
          "2016-05-27T00:00:00",
          "2016-05-30T00:00:00",
          "2016-05-31T00:00:00",
          "2016-06-01T00:00:00",
          "2016-06-02T00:00:00",
          "2016-06-03T00:00:00",
          "2016-06-06T00:00:00",
          "2016-06-07T00:00:00",
          "2016-06-08T00:00:00",
          "2016-06-09T00:00:00",
          "2016-06-10T00:00:00",
          "2016-06-13T00:00:00",
          "2016-06-14T00:00:00",
          "2016-06-15T00:00:00",
          "2016-06-16T00:00:00",
          "2016-06-17T00:00:00",
          "2016-06-20T00:00:00",
          "2016-06-21T00:00:00",
          "2016-06-22T00:00:00",
          "2016-06-23T00:00:00",
          "2016-06-24T00:00:00",
          "2016-06-27T00:00:00",
          "2016-06-28T00:00:00",
          "2016-06-29T00:00:00",
          "2016-06-30T00:00:00",
          "2016-07-01T00:00:00",
          "2016-07-04T00:00:00",
          "2016-07-05T00:00:00",
          "2016-07-06T00:00:00",
          "2016-07-07T00:00:00",
          "2016-07-08T00:00:00",
          "2016-07-11T00:00:00",
          "2016-07-12T00:00:00",
          "2016-07-13T00:00:00",
          "2016-07-14T00:00:00",
          "2016-07-15T00:00:00",
          "2016-07-18T00:00:00",
          "2016-07-19T00:00:00",
          "2016-07-20T00:00:00",
          "2016-07-21T00:00:00",
          "2016-07-22T00:00:00",
          "2016-07-25T00:00:00",
          "2016-07-26T00:00:00",
          "2016-07-27T00:00:00",
          "2016-07-28T00:00:00",
          "2016-07-29T00:00:00",
          "2016-08-01T00:00:00",
          "2016-08-02T00:00:00",
          "2016-08-03T00:00:00",
          "2016-08-04T00:00:00",
          "2016-08-05T00:00:00",
          "2016-08-08T00:00:00",
          "2016-08-09T00:00:00",
          "2016-08-10T00:00:00",
          "2016-08-11T00:00:00",
          "2016-08-12T00:00:00",
          "2016-08-15T00:00:00",
          "2016-08-16T00:00:00",
          "2016-08-17T00:00:00",
          "2016-08-18T00:00:00",
          "2016-08-19T00:00:00",
          "2016-08-22T00:00:00",
          "2016-08-23T00:00:00",
          "2016-08-24T00:00:00",
          "2016-08-25T00:00:00",
          "2016-08-26T00:00:00",
          "2016-08-29T00:00:00",
          "2016-08-30T00:00:00",
          "2016-08-31T00:00:00",
          "2016-09-01T00:00:00",
          "2016-09-02T00:00:00",
          "2016-09-05T00:00:00",
          "2016-09-06T00:00:00",
          "2016-09-07T00:00:00",
          "2016-09-08T00:00:00",
          "2016-09-09T00:00:00",
          "2016-09-12T00:00:00",
          "2016-09-13T00:00:00",
          "2016-09-14T00:00:00",
          "2016-09-15T00:00:00",
          "2016-09-16T00:00:00",
          "2016-09-19T00:00:00",
          "2016-09-20T00:00:00",
          "2016-09-21T00:00:00",
          "2016-09-22T00:00:00",
          "2016-09-23T00:00:00",
          "2016-09-26T00:00:00",
          "2016-09-27T00:00:00",
          "2016-09-28T00:00:00",
          "2016-09-29T00:00:00",
          "2016-09-30T00:00:00",
          "2016-10-03T00:00:00",
          "2016-10-04T00:00:00",
          "2016-10-05T00:00:00",
          "2016-10-06T00:00:00",
          "2016-10-07T00:00:00",
          "2016-10-10T00:00:00",
          "2016-10-11T00:00:00",
          "2016-10-12T00:00:00",
          "2016-10-13T00:00:00",
          "2016-10-14T00:00:00",
          "2016-10-17T00:00:00",
          "2016-10-18T00:00:00",
          "2016-10-19T00:00:00",
          "2016-10-20T00:00:00",
          "2016-10-21T00:00:00",
          "2016-10-24T00:00:00",
          "2016-10-25T00:00:00",
          "2016-10-26T00:00:00",
          "2016-10-27T00:00:00",
          "2016-10-28T00:00:00",
          "2016-10-31T00:00:00",
          "2016-11-01T00:00:00",
          "2016-11-02T00:00:00",
          "2016-11-03T00:00:00",
          "2016-11-04T00:00:00",
          "2016-11-07T00:00:00",
          "2016-11-08T00:00:00",
          "2016-11-09T00:00:00",
          "2016-11-10T00:00:00",
          "2016-11-11T00:00:00",
          "2016-11-14T00:00:00",
          "2016-11-15T00:00:00",
          "2016-11-16T00:00:00",
          "2016-11-17T00:00:00",
          "2016-11-18T00:00:00",
          "2016-11-21T00:00:00",
          "2016-11-22T00:00:00",
          "2016-11-23T00:00:00",
          "2016-11-24T00:00:00",
          "2016-11-25T00:00:00",
          "2016-11-28T00:00:00",
          "2016-11-29T00:00:00",
          "2016-11-30T00:00:00",
          "2016-12-01T00:00:00",
          "2016-12-02T00:00:00",
          "2016-12-05T00:00:00",
          "2016-12-06T00:00:00",
          "2016-12-07T00:00:00",
          "2016-12-08T00:00:00",
          "2016-12-09T00:00:00",
          "2016-12-12T00:00:00",
          "2016-12-13T00:00:00",
          "2016-12-14T00:00:00",
          "2016-12-15T00:00:00",
          "2016-12-16T00:00:00",
          "2016-12-19T00:00:00",
          "2016-12-20T00:00:00",
          "2016-12-21T00:00:00",
          "2016-12-22T00:00:00",
          "2016-12-23T00:00:00",
          "2016-12-26T00:00:00",
          "2016-12-27T00:00:00",
          "2016-12-28T00:00:00",
          "2016-12-29T00:00:00",
          "2016-12-30T00:00:00",
          "2017-01-02T00:00:00",
          "2017-01-03T00:00:00",
          "2017-01-04T00:00:00",
          "2017-01-05T00:00:00",
          "2017-01-06T00:00:00",
          "2017-01-09T00:00:00",
          "2017-01-10T00:00:00",
          "2017-01-11T00:00:00",
          "2017-01-12T00:00:00",
          "2017-01-13T00:00:00",
          "2017-01-16T00:00:00",
          "2017-01-17T00:00:00",
          "2017-01-18T00:00:00",
          "2017-01-19T00:00:00",
          "2017-01-20T00:00:00",
          "2017-01-23T00:00:00",
          "2017-01-24T00:00:00",
          "2017-01-25T00:00:00",
          "2017-01-26T00:00:00",
          "2017-01-27T00:00:00",
          "2017-01-30T00:00:00",
          "2017-01-31T00:00:00",
          "2017-02-01T00:00:00",
          "2017-02-02T00:00:00",
          "2017-02-03T00:00:00",
          "2017-02-06T00:00:00",
          "2017-02-07T00:00:00",
          "2017-02-08T00:00:00",
          "2017-02-09T00:00:00",
          "2017-02-10T00:00:00",
          "2017-02-13T00:00:00",
          "2017-02-14T00:00:00",
          "2017-02-15T00:00:00",
          "2017-02-16T00:00:00",
          "2017-02-17T00:00:00",
          "2017-02-20T00:00:00",
          "2017-02-21T00:00:00",
          "2017-02-22T00:00:00",
          "2017-02-23T00:00:00",
          "2017-02-24T00:00:00",
          "2017-02-27T00:00:00",
          "2017-02-28T00:00:00",
          "2017-03-01T00:00:00",
          "2017-03-02T00:00:00",
          "2017-03-03T00:00:00",
          "2017-03-06T00:00:00",
          "2017-03-07T00:00:00",
          "2017-03-08T00:00:00",
          "2017-03-09T00:00:00",
          "2017-03-10T00:00:00",
          "2017-03-13T00:00:00",
          "2017-03-14T00:00:00",
          "2017-03-15T00:00:00",
          "2017-03-16T00:00:00",
          "2017-03-17T00:00:00",
          "2017-03-20T00:00:00",
          "2017-03-21T00:00:00",
          "2017-03-22T00:00:00",
          "2017-03-23T00:00:00",
          "2017-03-24T00:00:00",
          "2017-03-27T00:00:00",
          "2017-03-28T00:00:00",
          "2017-03-29T00:00:00",
          "2017-03-30T00:00:00",
          "2017-03-31T00:00:00",
          "2017-04-03T00:00:00",
          "2017-04-04T00:00:00",
          "2017-04-05T00:00:00",
          "2017-04-06T00:00:00",
          "2017-04-07T00:00:00",
          "2017-04-10T00:00:00",
          "2017-04-11T00:00:00",
          "2017-04-12T00:00:00",
          "2017-04-13T00:00:00",
          "2017-04-14T00:00:00",
          "2017-04-17T00:00:00",
          "2017-04-18T00:00:00",
          "2017-04-19T00:00:00",
          "2017-04-20T00:00:00",
          "2017-04-21T00:00:00",
          "2017-04-24T00:00:00",
          "2017-04-25T00:00:00",
          "2017-04-26T00:00:00",
          "2017-04-27T00:00:00",
          "2017-04-28T00:00:00",
          "2017-05-01T00:00:00",
          "2017-05-02T00:00:00",
          "2017-05-03T00:00:00",
          "2017-05-04T00:00:00",
          "2017-05-05T00:00:00",
          "2017-05-08T00:00:00",
          "2017-05-09T00:00:00",
          "2017-05-10T00:00:00",
          "2017-05-11T00:00:00",
          "2017-05-12T00:00:00",
          "2017-05-15T00:00:00",
          "2017-05-16T00:00:00",
          "2017-05-17T00:00:00",
          "2017-05-18T00:00:00",
          "2017-05-19T00:00:00",
          "2017-05-22T00:00:00",
          "2017-05-23T00:00:00",
          "2017-05-24T00:00:00",
          "2017-05-25T00:00:00",
          "2017-05-26T00:00:00",
          "2017-05-29T00:00:00",
          "2017-05-30T00:00:00",
          "2017-05-31T00:00:00",
          "2017-06-01T00:00:00",
          "2017-06-02T00:00:00",
          "2017-06-05T00:00:00",
          "2017-06-06T00:00:00",
          "2017-06-07T00:00:00",
          "2017-06-08T00:00:00",
          "2017-06-09T00:00:00",
          "2017-06-12T00:00:00",
          "2017-06-13T00:00:00",
          "2017-06-14T00:00:00",
          "2017-06-15T00:00:00",
          "2017-06-16T00:00:00",
          "2017-06-19T00:00:00",
          "2017-06-20T00:00:00",
          "2017-06-21T00:00:00",
          "2017-06-22T00:00:00",
          "2017-06-23T00:00:00",
          "2017-06-26T00:00:00",
          "2017-06-27T00:00:00",
          "2017-06-28T00:00:00",
          "2017-06-29T00:00:00",
          "2017-06-30T00:00:00",
          "2017-07-03T00:00:00",
          "2017-07-04T00:00:00",
          "2017-07-05T00:00:00",
          "2017-07-06T00:00:00",
          "2017-07-07T00:00:00",
          "2017-07-10T00:00:00",
          "2017-07-11T00:00:00",
          "2017-07-12T00:00:00",
          "2017-07-13T00:00:00",
          "2017-07-14T00:00:00",
          "2017-07-17T00:00:00",
          "2017-07-18T00:00:00",
          "2017-07-19T00:00:00",
          "2017-07-20T00:00:00",
          "2017-07-21T00:00:00",
          "2017-07-24T00:00:00",
          "2017-07-25T00:00:00",
          "2017-07-26T00:00:00",
          "2017-07-27T00:00:00",
          "2017-07-28T00:00:00",
          "2017-07-31T00:00:00",
          "2017-08-01T00:00:00",
          "2017-08-02T00:00:00",
          "2017-08-03T00:00:00",
          "2017-08-04T00:00:00",
          "2017-08-07T00:00:00",
          "2017-08-08T00:00:00",
          "2017-08-09T00:00:00",
          "2017-08-10T00:00:00",
          "2017-08-11T00:00:00",
          "2017-08-14T00:00:00",
          "2017-08-15T00:00:00",
          "2017-08-16T00:00:00",
          "2017-08-17T00:00:00",
          "2017-08-18T00:00:00",
          "2017-08-21T00:00:00",
          "2017-08-22T00:00:00",
          "2017-08-23T00:00:00",
          "2017-08-24T00:00:00",
          "2017-08-25T00:00:00",
          "2017-08-28T00:00:00",
          "2017-08-29T00:00:00",
          "2017-08-30T00:00:00",
          "2017-08-31T00:00:00"
         ],
         "xaxis": "x",
         "y": [
          null,
          93.13999938964844,
          92.97000122070312,
          93.12000274658203,
          93.19999694824219,
          93.20999908447266,
          93.08000183105469,
          93.80999755859375,
          93.5999984741211,
          94.2699966430664,
          93.26000213623047,
          94.27999877929688,
          95.48999786376953,
          95.61000061035156,
          null,
          96.08999633789062,
          95.05999755859375,
          95.3499984741211,
          95.1500015258789,
          95.94999694824219,
          97.62000274658203,
          97.9800033569336,
          97.6500015258789,
          97.45999908447266,
          96.20999908447266,
          96.68000030517578,
          96.44000244140625,
          95.83999633789062,
          95.70999908447266,
          97.01000213623047,
          97.4800033569336,
          97.02999877929688,
          97.30000305175781,
          95.94999694824219,
          null,
          96.69000244140625,
          94.91999816894531,
          92.79000091552734,
          93.12000274658203,
          92.73999786376953,
          92.62999725341797,
          92.83999633789062,
          92.02999877929688,
          90.70999908447266,
          90.12999725341797,
          90.87999725341797,
          90.47000122070312,
          91.52999877929688,
          92.01000213623047,
          92.06999969482422,
          92.44000244140625,
          92.47000122070312,
          93.02999877929688,
          93.48999786376953,
          93.70999908447266,
          92.44000244140625,
          93.20999908447266,
          92.45999908447266,
          93.41000366210938,
          94.55000305175781,
          95.98999786376953,
          96.52999877929688,
          97.23999786376953,
          null,
          97.0999984741211,
          97.2300033569336,
          95.0199966430664,
          93.26000213623047,
          92.76000213623047,
          93.36000061035156,
          94.18000030517578,
          94.58999633789062,
          93.44000244140625,
          91.2300033569336,
          88.75,
          88.7300033569336,
          86.6500015258789,
          87.83000183105469,
          88.04000091552734,
          88.80999755859375,
          89.20999908447266,
          91.06999969482422,
          93.2699966430664,
          92.62999725341797,
          94.08999633789062,
          93.22000122070312,
          90.73999786376953,
          93.69999694824219,
          95.25,
          95.80000305175781,
          95.27999877929688,
          96.23999786376953,
          96.08999633789062,
          95.80999755859375,
          94.76000213623047,
          93.95999908447266,
          93.94999694824219,
          94.8499984741211,
          95.72000122070312,
          96.29000091552734,
          95.55000305175781,
          93.9800033569336,
          94.12000274658203,
          93.83999633789062,
          null,
          94.6500015258789,
          93.12999725341797,
          93.56999969482422,
          91.93000030517578,
          93.41000366210938,
          93.36000061035156,
          93.66000366210938,
          94.70999908447266,
          96.11000061035156,
          95.81999969482422,
          95.5,
          95.9800033569336,
          96.66000366210938,
          97.83000183105469,
          97.86000061035156,
          98.45999908447266,
          98.23999786376953,
          94.88999938964844,
          93.80999755859375,
          95.06999969482422,
          95.25,
          95.47000122070312,
          97,
          96.36000061035156,
          97.94000244140625,
          99.6500015258789,
          101.91999816894531,
          null,
          103.08999633789062,
          103.02999877929688,
          103.45999908447266,
          106.41000366210938,
          104.7699966430664,
          105.8499984741211,
          106.19999694824219,
          105.87999725341797,
          106.38999938964844,
          107.94000244140625,
          108,
          106.61000061035156,
          107.12999725341797,
          105.41000366210938,
          105.47000122070312,
          104.76000213623047,
          104.61000061035156,
          103.13999938964844,
          105.0999984741211,
          107.93000030517578,
          106.94000244140625,
          106.61000061035156,
          105.31999969482422,
          104.41000366210938,
          103.44999694824219,
          106.04000091552734,
          106.19000244140625,
          106.77999877929688,
          106.88999938964844,
          107.43000030517578,
          107.58000183105469,
          107.13999938964844,
          104.9000015258789,
          103.93000030517578,
          104.93000030517578,
          106.4800033569336,
          105.87999725341797,
          109.11000061035156,
          110.16999816894531,
          108.51000213623047,
          107.9800033569336,
          null,
          108.66999816894531,
          107.29000091552734,
          108.5,
          110.62000274658203,
          109.62000274658203,
          107.4800033569336,
          107.6500015258789,
          108.72000122070312,
          108.30999755859375,
          106.54000091552734,
          105.36000061035156,
          108.2300033569336,
          106.26000213623047,
          104.69999694824219,
          103.62000274658203,
          103.22000122070312,
          102.68000030517578,
          103.0999984741211,
          102.86000061035156,
          102.36000061035156,
          102.08999633789062,
          104.1500015258789,
          103.29000091552734,
          103.83000183105469,
          103.06999969482422,
          103.54000091552734,
          101.62999725341797,
          103.08000183105469,
          102.16999816894531,
          102.45999908447266,
          101.1500015258789,
          102.33999633789062,
          100.72000122070312,
          100.87000274658203,
          99.27999877929688,
          97.62999725341797,
          96.9000015258789,
          96.6500015258789,
          97.4000015258789,
          98.73999786376953,
          98.29000091552734,
          96.80999755859375,
          96.29000091552734,
          94.55999755859375,
          94.58000183105469,
          93.4000015258789,
          94.73999786376953,
          94.25,
          94.55999755859375,
          95.12999725341797,
          93.12000274658203,
          93.91000366210938,
          93.76000213623047,
          93.80000305175781,
          93.02999877929688,
          93.3499984741211,
          93.33999633789062,
          95.3499984741211,
          94.52999877929688,
          93.86000061035156,
          93.41000366210938,
          92.05000305175781,
          null,
          92.55000305175781,
          93.61000061035156,
          95.83000183105469,
          96.97000122070312,
          97.13999938964844,
          97.4800033569336,
          97.0999984741211,
          98.31999969482422,
          97.25,
          97.20999908447266,
          96.2699966430664,
          97.18000030517578,
          96.98999786376953,
          97.58999633789062,
          98.4000015258789,
          99.11000061035156,
          98.62000274658203,
          98.87000274658203,
          null,
          99.18000030517578,
          99.94000244140625,
          98.9000015258789,
          98.16999816894531,
          null,
          95.13999938964844,
          93.66000366210938,
          93.12000274658203,
          93.30999755859375,
          91.9000015258789,
          91.36000061035156,
          92.38999938964844,
          91.44999694824219,
          92.1500015258789,
          93.77999877929688,
          93.54000091552734,
          93.95999908447266,
          null,
          94.51000213623047,
          96.3499984741211,
          97.2300033569336,
          96.66000366210938,
          95.81999969482422,
          97.48999786376953,
          97.33999633789062,
          98.25,
          97.55000305175781,
          96.44000244140625,
          97.23999786376953,
          97.4000015258789,
          97.83999633789062,
          99.9800033569336,
          100.12000274658203,
          99.95999908447266,
          100.37999725341797,
          100.2699966430664,
          100.30999755859375,
          null,
          102.54000091552734,
          103.45999908447266,
          103.19999694824219,
          102.52999877929688,
          103.16999816894531,
          102.19999694824219,
          102.93000030517578,
          102.68000030517578,
          102.87999725341797,
          105.33999633789062,
          103.63999938964844,
          101.75,
          101.81999969482422,
          102.81999969482422,
          101.38999938964844,
          100.29000091552734,
          98.29000091552734,
          98.56999969482422,
          99.2300033569336,
          98.43000030517578,
          100.08000183105469,
          100.70999908447266,
          99.68000030517578,
          99.97000122070312,
          100.05000305175781,
          99.66000366210938,
          100.61000061035156,
          101.25,
          101.7300033569336,
          101.56999969482422,
          99.69000244140625,
          99.5999984741211,
          100.29000091552734,
          101.16000366210938,
          100.43000030517578,
          102.56999969482422,
          103.55000305175781,
          103.37000274658203,
          103.68000030517578,
          104.05000305175781,
          103.69999694824219,
          103.70999908447266,
          104.33000183105469,
          null,
          104.3499984741211,
          101.69000244140625,
          101.47000122070312,
          102.19999694824219,
          100.8499984741211,
          101.12999725341797,
          101.55999755859375,
          100.06999969482422,
          99.69000244140625,
          100.08999633789062,
          99.73999786376953,
          99.80999755859375,
          101.05999755859375,
          100.5199966430664,
          100.31999969482422,
          100.88999938964844,
          102.01000213623047,
          102.62999725341797,
          101.73999786376953,
          102.30999755859375,
          102.94999694824219,
          102.80000305175781,
          104.30999755859375,
          104.02999877929688,
          105.01000213623047,
          null,
          104.77999877929688,
          103.37000274658203,
          104.26000213623047,
          103.4000015258789,
          103.06999969482422,
          103.33999633789062,
          103.2699966430664,
          103.16999816894531,
          103.31999969482422,
          105.08999633789062,
          105.0199966430664,
          105.04000091552734,
          107.19999694824219,
          107.48999786376953,
          107.5199966430664,
          106.94999694824219,
          106.63999938964844,
          107.08000183105469,
          107.94999694824219,
          106.83000183105469,
          106.63999938964844,
          107.04000091552734,
          106.48999786376953,
          106.45999908447266,
          106.06999969482422,
          106.05999755859375,
          105.18000030517578,
          104.76000213623047,
          null,
          104.19000244140625,
          104.05999755859375,
          102.93000030517578,
          103.61000061035156,
          101.4800033569336,
          101.7300033569336,
          100.55999755859375,
          101.87999725341797,
          103.83999633789062,
          103.83000183105469,
          105.33999633789062,
          104.58999633789062,
          103.80999755859375,
          102.76000213623047,
          105.2300033569336,
          105.68000030517578,
          104.91000366210938,
          104.29000091552734,
          98.2300033569336,
          97.86000061035156,
          98.26000213623047,
          97.33999633789062,
          96.93000030517578,
          97.33999633789062,
          97.61000061035156,
          98.08999633789062,
          97.36000061035156,
          97.56999969482422,
          95.54000091552734,
          97.30000305175781,
          96.44000244140625,
          94.3499984741211,
          96.4000015258789,
          93.97000122070312,
          93.61000061035156,
          95.38999938964844,
          95.77999877929688,
          95.81999969482422,
          96.44000244140625,
          97.86000061035156,
          null,
          92.91999816894531,
          95.5,
          94.51000213623047,
          93.31999969482422,
          92.63999938964844,
          92.7300033569336,
          91.70999908447266,
          92.88999938964844,
          92.18000030517578,
          92.86000061035156,
          94.91000366210938,
          94.33000183105469,
          93.06999969482422,
          92.43000030517578,
          91.45999908447266,
          91.55000305175781,
          93.5999984741211,
          93.58999633789062,
          95.55000305175781,
          94.52999877929688,
          91.16999816894531,
          90.73999786376953,
          91.0199966430664,
          89.76000213623047,
          90.33000183105469,
          88.88999938964844,
          87.29000091552734,
          85.76000213623047,
          85.87000274658203,
          85.7300033569336,
          81.72000122070312,
          81.81999969482422,
          82.33000183105469,
          82.80000305175781,
          82.76000213623047,
          83.25,
          80.5199966430664,
          82.80999755859375,
          81.2699966430664,
          81.26000213623047,
          81.36000061035156,
          82.25,
          81.05999755859375,
          80.52999877929688,
          78.7699966430664,
          77.1500015258789,
          78.70999908447266,
          77.87000274658203,
          78.70999908447266,
          77.43000030517578,
          77.8499984741211,
          77.16000366210938,
          74.12999725341797,
          75.91000366210938,
          75.63999938964844,
          74.55000305175781,
          74.55000305175781,
          75.62999725341797,
          76.5199966430664,
          75.73999786376953,
          74.04000091552734,
          73.69999694824219,
          null,
          65.94000244140625,
          68.9800033569336,
          66.98999786376953,
          67.30000305175781,
          66.7300033569336,
          65.88999938964844,
          63.130001068115234,
          63.7400016784668,
          60.9900016784668,
          60.0099983215332,
          57.810001373291016,
          55.959999084472656,
          55.970001220703125,
          56.43000030517578,
          54.18000030517578,
          56.90999984741211,
          55.25,
          56.779998779296875,
          55.70000076293945,
          null,
          54.59000015258789,
          53.459999084472656,
          54.13999938964844,
          53.45000076293945,
          null,
          52.720001220703125,
          50.04999923706055,
          47.97999954223633,
          48.689998626708984,
          48.79999923706055,
          48.349998474121094,
          46.060001373291016,
          45.91999816894531,
          48.4900016784668,
          46.369998931884766,
          48.4900016784668,
          null,
          46.790000915527344,
          47.849998474121094,
          45.93000030517578,
          45.2599983215332,
          44.79999923706055,
          45.84000015258789,
          44.08000183105469,
          44.119998931884766,
          47.790000915527344,
          49.25,
          53.040000915527344,
          48.45000076293945,
          50.47999954223633,
          51.65999984741211,
          52.9900016784668,
          50.060001373291016,
          48.79999923706055,
          51.16999816894531,
          52.65999984741211,
          null,
          53.560001373291016,
          52.130001068115234,
          51.119998931884766,
          49.95000076293945,
          49.560001373291016,
          48.47999954223633,
          50.25,
          47.650001525878906,
          49.84000015258789,
          49.59000015258789,
          50.43000030517578,
          51.529998779296875,
          50.7599983215332,
          49.61000061035156,
          49.95000076293945,
          48.41999816894531,
          48.060001373291016,
          47.119998931884766,
          44.880001068115234,
          43.93000030517578,
          43.38999938964844,
          44.630001068115234,
          44.02000045776367,
          46,
          47.400001525878906,
          47.029998779296875,
          48.75,
          51.40999984741211,
          48.83000183105469,
          48.65999984741211,
          47.720001220703125,
          50.119998931884766,
          49.130001068115234,
          null,
          52.08000183105469,
          53.95000076293945,
          50.439998626708984,
          50.790000915527344,
          51.630001068115234,
          51.95000076293945,
          53.29999923706055,
          56.25,
          56.689998626708984,
          55.709999084472656,
          56.369998931884766,
          55.58000183105469,
          56.16999816894531,
          56.59000015258789,
          55.97999954223633,
          55.560001373291016,
          57.04999923706055,
          58.54999923706055,
          59.619998931884766,
          59.099998474121094,
          58.91999816894531,
          60.380001068115234,
          60.93000030517578,
          58.9900016784668,
          59.40999984741211,
          59.22999954223633,
          60.720001220703125,
          60.5,
          59.88999938964844,
          59.72999954223633,
          59.439998626708984,
          57.29999923706055,
          58.959999084472656,
          60.18000030517578,
          58.880001068115234,
          null,
          57.290000915527344,
          57.5099983215332,
          57.689998626708984,
          60.25,
          60.2400016784668,
          61.29999923706055,
          59.66999816894531,
          58,
          59.11000061035156,
          58.150001525878906,
          60.150001525878906,
          61.36000061035156,
          60.7400016784668,
          59.959999084472656,
          59.529998779296875,
          60.0099983215332,
          59.88999938964844,
          60.40999984741211,
          59.619998931884766,
          60.0099983215332,
          61.04999923706055,
          60.0099983215332,
          59.59000015258789,
          59.40999984741211,
          58.34000015258789,
          59.47999954223633,
          56.939998626708984,
          56.93000030517578,
          null,
          52.47999954223633,
          52.33000183105469,
          51.61000061035156,
          52.7599983215332,
          52.7400016784668,
          52.189998626708984,
          53.04999923706055,
          51.400001525878906,
          50.900001525878906,
          50.880001068115234,
          50.11000061035156,
          50.59000015258789,
          49.27000045776367,
          48.11000061035156,
          47.97999954223633,
          47.16999816894531,
          47.970001220703125,
          48.77000045776367,
          48.529998779296875,
          47.11000061035156,
          45.25,
          45.75,
          45.130001068115234,
          44.689998626708984,
          43.869998931884766,
          44.939998626708984,
          43.11000061035156,
          43.220001220703125,
          42.27000045776367,
          42.45000076293945,
          41.93000030517578,
          42.58000183105469,
          40.75,
          41,
          40.45000076293945,
          38.220001220703125,
          39.150001525878906,
          38.5,
          42.470001220703125,
          45.290000915527344,
          49.20000076293945,
          45.380001068115234,
          46.29999923706055,
          46.75,
          46.02000045776367,
          null,
          45.91999816894531,
          44.130001068115234,
          45.849998474121094,
          44.75,
          44.06999969482422,
          44.58000183105469,
          47.119998931884766,
          46.93000030517578,
          44.709999084472656,
          46.66999816894531,
          46.16999816894531,
          44.529998779296875,
          44.939998626708984,
          45.54999923706055,
          44.400001525878906,
          45.2400016784668,
          45.060001373291016,
          44.75,
          45.540000915527344,
          46.279998779296875,
          48.529998779296875,
          47.86000061035156,
          49.459999084472656,
          49.66999816894531,
          47.09000015258789,
          46.70000076293945,
          46.630001068115234,
          46.380001068115234,
          47.29999923706055,
          45.90999984741211,
          45.84000015258789,
          45.220001220703125,
          44.900001525878906,
          43.90999984741211,
          43.189998626708984,
          43.209999084472656,
          45.93000030517578,
          46.02000045776367,
          46.599998474121094,
          46.119998931884766,
          47.880001068115234,
          46.31999969482422,
          45.27000045776367,
          44.31999969482422,
          43.869998931884766,
          44.22999954223633,
          42.95000076293945,
          41.7400016784668,
          40.689998626708984,
          41.68000030517578,
          40.72999954223633,
          40.75,
          40.54999923706055,
          39.38999938964844,
          39.27000045776367,
          40.88999938964844,
          41.220001220703125,
          null,
          40.56999969482422,
          40.43000030517578,
          40.58000183105469,
          39.93000030517578,
          41.08000183105469,
          40,
          37.63999938964844,
          37.459999084472656,
          37.15999984741211,
          36.7599983215332,
          35.650001525878906,
          36.310001373291016,
          37.31999969482422,
          35.54999923706055,
          34.97999954223633,
          34.720001220703125,
          34.54999923706055,
          36.119998931884766,
          36.7599983215332,
          37.619998931884766,
          null,
          36.36000061035156,
          37.880001068115234,
          36.59000015258789,
          37.130001068115234,
          null,
          36.810001373291016,
          35.970001220703125,
          33.970001220703125,
          33.290000915527344,
          33.20000076293945,
          31.420000076293945,
          30.420000076293945,
          30.420000076293945,
          31.219999313354492,
          29.450000762939453,
          null,
          28.469999313354492,
          26.68000030517578,
          29.549999237060547,
          32.06999969482422,
          30.309999465942383,
          29.540000915527344,
          32.31999969482422,
          33.209999084472656,
          33.65999984741211,
          31.6200008392334,
          29.899999618530273,
          32.290000915527344,
          31.6299991607666,
          30.860000610351562,
          29.709999084472656,
          27.959999084472656,
          27.540000915527344,
          26.190000534057617,
          29.31999969482422,
          null,
          29.049999237060547,
          30.68000030517578,
          30.770000457763672,
          29.59000015258789,
          31.3700008392334,
          31.84000015258789,
          30.350000381469727,
          31.399999618530273,
          31.649999618530273,
          32.7400016784668,
          34.38999938964844,
          34.56999969482422,
          34.560001373291016,
          35.90999984741211,
          37.900001525878906,
          36.66999816894531,
          37.619998931884766,
          37.77000045776367,
          38.5099983215332,
          37.20000076293945,
          36.31999969482422,
          38.43000030517578,
          40.16999816894531,
          39.470001220703125,
          39.90999984741211,
          41.45000076293945,
          38.279998779296875,
          38.13999938964844,
          null,
          37.9900016784668,
          36.90999984741211,
          36.90999984741211,
          36.939998626708984,
          35.36000061035156,
          34.29999923706055,
          34.52000045776367,
          37.7400016784668,
          37.29999923706055,
          39.7400016784668,
          40.459999084472656,
          42.119998931884766,
          41.70000076293945,
          41.45000076293945,
          40.400001525878906,
          39.7400016784668,
          40.880001068115234,
          42.720001220703125,
          43.18000030517578,
          42.7599983215332,
          41.66999816894531,
          42.52000045776367,
          45.290000915527344,
          46.029998779296875,
          45.97999954223633,
          44.75,
          43.650001525878906,
          43.77000045776367,
          44.33000183105469,
          44.58000183105469,
          43.45000076293945,
          44.68000030517578,
          46.209999084472656,
          46.63999938964844,
          46.220001220703125,
          47.720001220703125,
          48.290000915527344,
          48.119998931884766,
          48.15999984741211,
          47.66999816894531,
          48.119998931884766,
          48.040000915527344,
          49.099998474121094,
          49,
          49.36000061035156,
          null,
          49.099998474121094,
          49.06999969482422,
          49.13999938964844,
          48.689998626708984,
          49.709999084472656,
          50.369998931884766,
          51.22999954223633,
          50.52000045776367,
          49.09000015258789,
          48.88999938964844,
          48.4900016784668,
          47.91999816894531,
          46.13999938964844,
          48,
          49.400001525878906,
          48.95000076293945,
          49.15999984741211,
          49.34000015258789,
          46.70000076293945,
          45.79999923706055,
          47.93000030517578,
          49.849998474121094,
          48.27000045776367,
          49.02000045776367,
          null,
          46.72999954223633,
          47.369998931884766,
          45.220001220703125,
          45.369998931884766,
          44.72999954223633,
          46.81999969482422,
          44.869998931884766,
          45.63999938964844,
          45.93000030517578,
          45.22999954223633,
          44.63999938964844,
          44.959999084472656,
          43.959999084472656,
          43.40999984741211,
          42.400001525878906,
          42.15999984741211,
          41.900001525878906,
          41.130001068115234,
          41.540000915527344,
          40.04999923706055,
          39.5,
          40.79999923706055,
          41.91999816894531,
          41.83000183105469,
          43.060001373291016,
          42.779998779296875,
          41.75,
          43.5099983215332,
          44.470001220703125,
          45.720001220703125,
          46.56999969482422,
          46.810001373291016,
          48.20000076293945,
          48.47999954223633,
          46.79999923706055,
          47.540000915527344,
          46.290000915527344,
          46.970001220703125,
          47.63999938964844,
          46.970001220703125,
          46.31999969482422,
          44.68000030517578,
          43.16999816894531,
          44.38999938964844,
          null,
          44.849998474121094,
          45.470001220703125,
          47.630001068115234,
          45.880001068115234,
          46.279998779296875,
          44.90999984741211,
          43.619998931884766,
          43.849998474121094,
          43.040000915527344,
          43.34000015258789,
          43.849998474121094,
          45.33000183105469,
          46.099998474121094,
          44.36000061035156,
          45.599998474121094,
          44.650001525878906,
          47.06999969482422,
          47.720001220703125,
          47.720001220703125,
          48.79999923706055,
          48.66999816894531,
          49.75,
          50.439998626708984,
          49.7599983215332,
          49.7599983215332,
          50.720001220703125,
          50.13999938964844,
          50.470001220703125,
          50.349998474121094,
          49.970001220703125,
          50.29999923706055,
          51.59000015258789,
          50.310001373291016,
          50.61000061035156,
          50.18000030517578,
          49.45000076293945,
          48.75,
          49.709999084472656,
          48.720001220703125,
          46.83000183105469,
          46.65999984741211,
          45.31999969482422,
          44.65999984741211,
          44.06999969482422,
          44.880001068115234,
          44.959999084472656,
          45.20000076293945,
          44.619998931884766,
          43.38999938964844,
          43.290000915527344,
          45.86000061035156,
          45.560001373291016,
          45.369998931884766,
          45.689998626708984,
          47.47999954223633,
          48.06999969482422,
          46.720001220703125,
          null,
          46.720001220703125,
          45.65999984741211,
          45.290000915527344,
          49.40999984741211,
          51.08000183105469,
          51.70000076293945,
          51.720001220703125,
          50.95000076293945,
          49.849998474121094,
          50.84000015258789,
          51.5099983215332,
          52.7400016784668,
          52.9900016784668,
          51.0099983215332,
          50.900001525878906,
          51.93000030517578,
          52.130001068115234,
          52.220001220703125,
          51.439998626708984,
          51.97999954223633,
          52.0099983215332,
          null,
          52.81999969482422,
          54.0099983215332,
          53.79999923706055,
          53.75,
          null,
          52.36000061035156,
          53.2599983215332,
          53.77000045776367,
          53.97999954223633,
          51.95000076293945,
          50.81999969482422,
          52.189998626708984,
          53.0099983215332,
          52.36000061035156,
          null,
          52.45000076293945,
          51.119998931884766,
          51.38999938964844,
          52.33000183105469,
          52.77000045776367,
          52.380001068115234,
          52.13999938964844,
          53.2400016784668,
          53.18000030517578,
          52.630001068115234,
          52.75,
          53.900001525878906,
          53.54999923706055,
          53.810001373291016,
          53.0099983215332,
          52.189998626708984,
          52.369998931884766,
          52.9900016784668,
          53.84000015258789,
          52.959999084472656,
          53.209999084472656,
          53.11000061035156,
          53.40999984741211,
          53.40999984741211,
          null,
          54.02000045776367,
          53.61000061035156,
          54.47999954223633,
          53.9900016784668,
          54.040000915527344,
          54,
          53.81999969482422,
          52.630001068115234,
          53.33000183105469,
          53.189998626708984,
          52.68000030517578,
          49.83000183105469,
          48.75,
          48.04999923706055,
          47.95000076293945,
          47.2400016784668,
          48.34000015258789,
          48.29999923706055,
          48.34000015258789,
          47.790000915527344,
          47.02000045776367,
          47.290000915527344,
          47,
          47.29999923706055,
          47.02000045776367,
          48.36000061035156,
          49.470001220703125,
          50.29999923706055,
          50.540000915527344,
          50.25,
          50.9900016784668,
          51.13999938964844,
          51.689998626708984,
          52.25,
          53.060001373291016,
          53.380001068115234,
          53.119998931884766,
          53.189998626708984,
          null,
          52.619998931884766,
          52.459999084472656,
          50.4900016784668,
          50.2599983215332,
          49.63999938964844,
          48.900001525878906,
          49.220001220703125,
          49.220001220703125,
          48.959999084472656,
          49.310001373291016,
          48.83000183105469,
          47.650001525878906,
          47.790000915527344,
          45.54999923706055,
          46.22999954223633,
          46.459999084472656,
          45.84000015258789,
          47.279998779296875,
          47.810001373291016,
          47.83000183105469,
          48.86000061035156,
          48.63999938964844,
          49.040000915527344,
          49.36000061035156,
          50.31999969482422,
          50.810001373291016,
          51.119998931884766,
          50.9900016784668,
          48.56999969482422,
          49.58000183105469,
          null,
          49.630001068115234,
          48.290000915527344,
          48.31999969482422,
          47.68000030517578,
          47.400001525878906,
          48.130001068115234,
          45.79999923706055,
          45.68000030517578,
          45.81999969482422,
          46.099998474121094,
          46.40999984741211,
          44.790000915527344,
          44.470001220703125,
          44.72999954223633,
          44.2400016784668,
          43.34000015258789,
          42.47999954223633,
          42.529998779296875,
          42.86000061035156,
          43.2400016784668,
          44.25,
          44.7400016784668,
          44.880001068115234,
          46.02000045776367,
          null,
          null,
          45.11000061035156,
          45.52000045776367,
          44.25,
          44.400001525878906,
          45.060001373291016,
          45.47999954223633,
          46.060001373291016,
          46.529998779296875,
          46.02000045776367,
          46.400001525878906,
          47.099998474121094,
          46.72999954223633,
          45.779998779296875,
          46.209999084472656,
          47.77000045776367,
          48.58000183105469,
          49.04999923706055,
          49.720001220703125,
          50.209999084472656,
          49.189998626708984,
          49.599998474121094,
          49.029998779296875,
          49.56999969482422,
          49.369998931884766,
          49.06999969482422,
          49.59000015258789,
          48.540000915527344,
          48.810001373291016,
          47.59000015258789,
          47.56999969482422,
          46.79999923706055,
          47.06999969482422,
          48.59000015258789,
          47.38999938964844,
          47.650001525878906,
          48.45000076293945,
          47.2400016784668,
          47.650001525878906,
          46.400001525878906,
          46.459999084472656,
          45.959999084472656,
          47.2599983215332
         ],
         "yaxis": "y"
        }
       ],
       "layout": {
        "legend": {
         "tracegroupgap": 0
        },
        "margin": {
         "t": 60
        },
        "template": {
         "data": {
          "bar": [
           {
            "error_x": {
             "color": "#2a3f5f"
            },
            "error_y": {
             "color": "#2a3f5f"
            },
            "marker": {
             "line": {
              "color": "#E5ECF6",
              "width": 0.5
             },
             "pattern": {
              "fillmode": "overlay",
              "size": 10,
              "solidity": 0.2
             }
            },
            "type": "bar"
           }
          ],
          "barpolar": [
           {
            "marker": {
             "line": {
              "color": "#E5ECF6",
              "width": 0.5
             },
             "pattern": {
              "fillmode": "overlay",
              "size": 10,
              "solidity": 0.2
             }
            },
            "type": "barpolar"
           }
          ],
          "carpet": [
           {
            "aaxis": {
             "endlinecolor": "#2a3f5f",
             "gridcolor": "white",
             "linecolor": "white",
             "minorgridcolor": "white",
             "startlinecolor": "#2a3f5f"
            },
            "baxis": {
             "endlinecolor": "#2a3f5f",
             "gridcolor": "white",
             "linecolor": "white",
             "minorgridcolor": "white",
             "startlinecolor": "#2a3f5f"
            },
            "type": "carpet"
           }
          ],
          "choropleth": [
           {
            "colorbar": {
             "outlinewidth": 0,
             "ticks": ""
            },
            "type": "choropleth"
           }
          ],
          "contour": [
           {
            "colorbar": {
             "outlinewidth": 0,
             "ticks": ""
            },
            "colorscale": [
             [
              0,
              "#0d0887"
             ],
             [
              0.1111111111111111,
              "#46039f"
             ],
             [
              0.2222222222222222,
              "#7201a8"
             ],
             [
              0.3333333333333333,
              "#9c179e"
             ],
             [
              0.4444444444444444,
              "#bd3786"
             ],
             [
              0.5555555555555556,
              "#d8576b"
             ],
             [
              0.6666666666666666,
              "#ed7953"
             ],
             [
              0.7777777777777778,
              "#fb9f3a"
             ],
             [
              0.8888888888888888,
              "#fdca26"
             ],
             [
              1,
              "#f0f921"
             ]
            ],
            "type": "contour"
           }
          ],
          "contourcarpet": [
           {
            "colorbar": {
             "outlinewidth": 0,
             "ticks": ""
            },
            "type": "contourcarpet"
           }
          ],
          "heatmap": [
           {
            "colorbar": {
             "outlinewidth": 0,
             "ticks": ""
            },
            "colorscale": [
             [
              0,
              "#0d0887"
             ],
             [
              0.1111111111111111,
              "#46039f"
             ],
             [
              0.2222222222222222,
              "#7201a8"
             ],
             [
              0.3333333333333333,
              "#9c179e"
             ],
             [
              0.4444444444444444,
              "#bd3786"
             ],
             [
              0.5555555555555556,
              "#d8576b"
             ],
             [
              0.6666666666666666,
              "#ed7953"
             ],
             [
              0.7777777777777778,
              "#fb9f3a"
             ],
             [
              0.8888888888888888,
              "#fdca26"
             ],
             [
              1,
              "#f0f921"
             ]
            ],
            "type": "heatmap"
           }
          ],
          "heatmapgl": [
           {
            "colorbar": {
             "outlinewidth": 0,
             "ticks": ""
            },
            "colorscale": [
             [
              0,
              "#0d0887"
             ],
             [
              0.1111111111111111,
              "#46039f"
             ],
             [
              0.2222222222222222,
              "#7201a8"
             ],
             [
              0.3333333333333333,
              "#9c179e"
             ],
             [
              0.4444444444444444,
              "#bd3786"
             ],
             [
              0.5555555555555556,
              "#d8576b"
             ],
             [
              0.6666666666666666,
              "#ed7953"
             ],
             [
              0.7777777777777778,
              "#fb9f3a"
             ],
             [
              0.8888888888888888,
              "#fdca26"
             ],
             [
              1,
              "#f0f921"
             ]
            ],
            "type": "heatmapgl"
           }
          ],
          "histogram": [
           {
            "marker": {
             "pattern": {
              "fillmode": "overlay",
              "size": 10,
              "solidity": 0.2
             }
            },
            "type": "histogram"
           }
          ],
          "histogram2d": [
           {
            "colorbar": {
             "outlinewidth": 0,
             "ticks": ""
            },
            "colorscale": [
             [
              0,
              "#0d0887"
             ],
             [
              0.1111111111111111,
              "#46039f"
             ],
             [
              0.2222222222222222,
              "#7201a8"
             ],
             [
              0.3333333333333333,
              "#9c179e"
             ],
             [
              0.4444444444444444,
              "#bd3786"
             ],
             [
              0.5555555555555556,
              "#d8576b"
             ],
             [
              0.6666666666666666,
              "#ed7953"
             ],
             [
              0.7777777777777778,
              "#fb9f3a"
             ],
             [
              0.8888888888888888,
              "#fdca26"
             ],
             [
              1,
              "#f0f921"
             ]
            ],
            "type": "histogram2d"
           }
          ],
          "histogram2dcontour": [
           {
            "colorbar": {
             "outlinewidth": 0,
             "ticks": ""
            },
            "colorscale": [
             [
              0,
              "#0d0887"
             ],
             [
              0.1111111111111111,
              "#46039f"
             ],
             [
              0.2222222222222222,
              "#7201a8"
             ],
             [
              0.3333333333333333,
              "#9c179e"
             ],
             [
              0.4444444444444444,
              "#bd3786"
             ],
             [
              0.5555555555555556,
              "#d8576b"
             ],
             [
              0.6666666666666666,
              "#ed7953"
             ],
             [
              0.7777777777777778,
              "#fb9f3a"
             ],
             [
              0.8888888888888888,
              "#fdca26"
             ],
             [
              1,
              "#f0f921"
             ]
            ],
            "type": "histogram2dcontour"
           }
          ],
          "mesh3d": [
           {
            "colorbar": {
             "outlinewidth": 0,
             "ticks": ""
            },
            "type": "mesh3d"
           }
          ],
          "parcoords": [
           {
            "line": {
             "colorbar": {
              "outlinewidth": 0,
              "ticks": ""
             }
            },
            "type": "parcoords"
           }
          ],
          "pie": [
           {
            "automargin": true,
            "type": "pie"
           }
          ],
          "scatter": [
           {
            "fillpattern": {
             "fillmode": "overlay",
             "size": 10,
             "solidity": 0.2
            },
            "type": "scatter"
           }
          ],
          "scatter3d": [
           {
            "line": {
             "colorbar": {
              "outlinewidth": 0,
              "ticks": ""
             }
            },
            "marker": {
             "colorbar": {
              "outlinewidth": 0,
              "ticks": ""
             }
            },
            "type": "scatter3d"
           }
          ],
          "scattercarpet": [
           {
            "marker": {
             "colorbar": {
              "outlinewidth": 0,
              "ticks": ""
             }
            },
            "type": "scattercarpet"
           }
          ],
          "scattergeo": [
           {
            "marker": {
             "colorbar": {
              "outlinewidth": 0,
              "ticks": ""
             }
            },
            "type": "scattergeo"
           }
          ],
          "scattergl": [
           {
            "marker": {
             "colorbar": {
              "outlinewidth": 0,
              "ticks": ""
             }
            },
            "type": "scattergl"
           }
          ],
          "scattermapbox": [
           {
            "marker": {
             "colorbar": {
              "outlinewidth": 0,
              "ticks": ""
             }
            },
            "type": "scattermapbox"
           }
          ],
          "scatterpolar": [
           {
            "marker": {
             "colorbar": {
              "outlinewidth": 0,
              "ticks": ""
             }
            },
            "type": "scatterpolar"
           }
          ],
          "scatterpolargl": [
           {
            "marker": {
             "colorbar": {
              "outlinewidth": 0,
              "ticks": ""
             }
            },
            "type": "scatterpolargl"
           }
          ],
          "scatterternary": [
           {
            "marker": {
             "colorbar": {
              "outlinewidth": 0,
              "ticks": ""
             }
            },
            "type": "scatterternary"
           }
          ],
          "surface": [
           {
            "colorbar": {
             "outlinewidth": 0,
             "ticks": ""
            },
            "colorscale": [
             [
              0,
              "#0d0887"
             ],
             [
              0.1111111111111111,
              "#46039f"
             ],
             [
              0.2222222222222222,
              "#7201a8"
             ],
             [
              0.3333333333333333,
              "#9c179e"
             ],
             [
              0.4444444444444444,
              "#bd3786"
             ],
             [
              0.5555555555555556,
              "#d8576b"
             ],
             [
              0.6666666666666666,
              "#ed7953"
             ],
             [
              0.7777777777777778,
              "#fb9f3a"
             ],
             [
              0.8888888888888888,
              "#fdca26"
             ],
             [
              1,
              "#f0f921"
             ]
            ],
            "type": "surface"
           }
          ],
          "table": [
           {
            "cells": {
             "fill": {
              "color": "#EBF0F8"
             },
             "line": {
              "color": "white"
             }
            },
            "header": {
             "fill": {
              "color": "#C8D4E3"
             },
             "line": {
              "color": "white"
             }
            },
            "type": "table"
           }
          ]
         },
         "layout": {
          "annotationdefaults": {
           "arrowcolor": "#2a3f5f",
           "arrowhead": 0,
           "arrowwidth": 1
          },
          "autotypenumbers": "strict",
          "coloraxis": {
           "colorbar": {
            "outlinewidth": 0,
            "ticks": ""
           }
          },
          "colorscale": {
           "diverging": [
            [
             0,
             "#8e0152"
            ],
            [
             0.1,
             "#c51b7d"
            ],
            [
             0.2,
             "#de77ae"
            ],
            [
             0.3,
             "#f1b6da"
            ],
            [
             0.4,
             "#fde0ef"
            ],
            [
             0.5,
             "#f7f7f7"
            ],
            [
             0.6,
             "#e6f5d0"
            ],
            [
             0.7,
             "#b8e186"
            ],
            [
             0.8,
             "#7fbc41"
            ],
            [
             0.9,
             "#4d9221"
            ],
            [
             1,
             "#276419"
            ]
           ],
           "sequential": [
            [
             0,
             "#0d0887"
            ],
            [
             0.1111111111111111,
             "#46039f"
            ],
            [
             0.2222222222222222,
             "#7201a8"
            ],
            [
             0.3333333333333333,
             "#9c179e"
            ],
            [
             0.4444444444444444,
             "#bd3786"
            ],
            [
             0.5555555555555556,
             "#d8576b"
            ],
            [
             0.6666666666666666,
             "#ed7953"
            ],
            [
             0.7777777777777778,
             "#fb9f3a"
            ],
            [
             0.8888888888888888,
             "#fdca26"
            ],
            [
             1,
             "#f0f921"
            ]
           ],
           "sequentialminus": [
            [
             0,
             "#0d0887"
            ],
            [
             0.1111111111111111,
             "#46039f"
            ],
            [
             0.2222222222222222,
             "#7201a8"
            ],
            [
             0.3333333333333333,
             "#9c179e"
            ],
            [
             0.4444444444444444,
             "#bd3786"
            ],
            [
             0.5555555555555556,
             "#d8576b"
            ],
            [
             0.6666666666666666,
             "#ed7953"
            ],
            [
             0.7777777777777778,
             "#fb9f3a"
            ],
            [
             0.8888888888888888,
             "#fdca26"
            ],
            [
             1,
             "#f0f921"
            ]
           ]
          },
          "colorway": [
           "#636efa",
           "#EF553B",
           "#00cc96",
           "#ab63fa",
           "#FFA15A",
           "#19d3f3",
           "#FF6692",
           "#B6E880",
           "#FF97FF",
           "#FECB52"
          ],
          "font": {
           "color": "#2a3f5f"
          },
          "geo": {
           "bgcolor": "white",
           "lakecolor": "white",
           "landcolor": "#E5ECF6",
           "showlakes": true,
           "showland": true,
           "subunitcolor": "white"
          },
          "hoverlabel": {
           "align": "left"
          },
          "hovermode": "closest",
          "mapbox": {
           "style": "light"
          },
          "paper_bgcolor": "white",
          "plot_bgcolor": "#E5ECF6",
          "polar": {
           "angularaxis": {
            "gridcolor": "white",
            "linecolor": "white",
            "ticks": ""
           },
           "bgcolor": "#E5ECF6",
           "radialaxis": {
            "gridcolor": "white",
            "linecolor": "white",
            "ticks": ""
           }
          },
          "scene": {
           "xaxis": {
            "backgroundcolor": "#E5ECF6",
            "gridcolor": "white",
            "gridwidth": 2,
            "linecolor": "white",
            "showbackground": true,
            "ticks": "",
            "zerolinecolor": "white"
           },
           "yaxis": {
            "backgroundcolor": "#E5ECF6",
            "gridcolor": "white",
            "gridwidth": 2,
            "linecolor": "white",
            "showbackground": true,
            "ticks": "",
            "zerolinecolor": "white"
           },
           "zaxis": {
            "backgroundcolor": "#E5ECF6",
            "gridcolor": "white",
            "gridwidth": 2,
            "linecolor": "white",
            "showbackground": true,
            "ticks": "",
            "zerolinecolor": "white"
           }
          },
          "shapedefaults": {
           "line": {
            "color": "#2a3f5f"
           }
          },
          "ternary": {
           "aaxis": {
            "gridcolor": "white",
            "linecolor": "white",
            "ticks": ""
           },
           "baxis": {
            "gridcolor": "white",
            "linecolor": "white",
            "ticks": ""
           },
           "bgcolor": "#E5ECF6",
           "caxis": {
            "gridcolor": "white",
            "linecolor": "white",
            "ticks": ""
           }
          },
          "title": {
           "x": 0.05
          },
          "xaxis": {
           "automargin": true,
           "gridcolor": "white",
           "linecolor": "white",
           "ticks": "",
           "title": {
            "standoff": 15
           },
           "zerolinecolor": "white",
           "zerolinewidth": 2
          },
          "yaxis": {
           "automargin": true,
           "gridcolor": "white",
           "linecolor": "white",
           "ticks": "",
           "title": {
            "standoff": 15
           },
           "zerolinecolor": "white",
           "zerolinewidth": 2
          }
         }
        },
        "title": {
         "text": "Trend of Oil Prices Over Time",
         "x": 0.5
        },
        "xaxis": {
         "anchor": "y",
         "domain": [
          0,
          1
         ],
         "rangeslider": {
          "visible": true
         },
         "title": {
          "text": "Date"
         }
        },
        "yaxis": {
         "anchor": "x",
         "domain": [
          0,
          1
         ],
         "title": {
          "text": "Oil Price"
         }
        }
       }
      }
     },
     "metadata": {},
     "output_type": "display_data"
    }
   ],
   "source": [
    "# Check the oil_price column to identify a strategy for handling missing values.\n",
    "\n",
    "fig = px.line(oil_df, x='date', y='dcoilwtico')\n",
    "fig.update_layout(title='Trend of Oil Prices Over Time', title_x=0.5, xaxis_title='Date', yaxis_title='Oil Price')\n",
    "fig.update_xaxes(rangeslider_visible=True)\n",
    "fig.show()"
   ]
  },
  {
   "cell_type": "markdown",
   "metadata": {},
   "source": [
    "Fill missing value using backward fill"
   ]
  },
  {
   "cell_type": "code",
   "execution_count": null,
   "metadata": {},
   "outputs": [
    {
     "data": {
      "text/html": [
       "<div>\n",
       "<style scoped>\n",
       "    .dataframe tbody tr th:only-of-type {\n",
       "        vertical-align: middle;\n",
       "    }\n",
       "\n",
       "    .dataframe tbody tr th {\n",
       "        vertical-align: top;\n",
       "    }\n",
       "\n",
       "    .dataframe thead th {\n",
       "        text-align: right;\n",
       "    }\n",
       "</style>\n",
       "<table border=\"1\" class=\"dataframe\">\n",
       "  <thead>\n",
       "    <tr style=\"text-align: right;\">\n",
       "      <th></th>\n",
       "      <th>date</th>\n",
       "      <th>dcoilwtico</th>\n",
       "    </tr>\n",
       "  </thead>\n",
       "  <tbody>\n",
       "    <tr>\n",
       "      <th>0</th>\n",
       "      <td>2013-01-01</td>\n",
       "      <td>NaN</td>\n",
       "    </tr>\n",
       "    <tr>\n",
       "      <th>1</th>\n",
       "      <td>2013-01-02</td>\n",
       "      <td>93.139999</td>\n",
       "    </tr>\n",
       "    <tr>\n",
       "      <th>2</th>\n",
       "      <td>2013-01-03</td>\n",
       "      <td>92.970001</td>\n",
       "    </tr>\n",
       "    <tr>\n",
       "      <th>3</th>\n",
       "      <td>2013-01-04</td>\n",
       "      <td>93.120003</td>\n",
       "    </tr>\n",
       "    <tr>\n",
       "      <th>4</th>\n",
       "      <td>2013-01-07</td>\n",
       "      <td>93.199997</td>\n",
       "    </tr>\n",
       "    <tr>\n",
       "      <th>...</th>\n",
       "      <td>...</td>\n",
       "      <td>...</td>\n",
       "    </tr>\n",
       "    <tr>\n",
       "      <th>1213</th>\n",
       "      <td>2017-08-25</td>\n",
       "      <td>47.650002</td>\n",
       "    </tr>\n",
       "    <tr>\n",
       "      <th>1214</th>\n",
       "      <td>2017-08-28</td>\n",
       "      <td>46.400002</td>\n",
       "    </tr>\n",
       "    <tr>\n",
       "      <th>1215</th>\n",
       "      <td>2017-08-29</td>\n",
       "      <td>46.459999</td>\n",
       "    </tr>\n",
       "    <tr>\n",
       "      <th>1216</th>\n",
       "      <td>2017-08-30</td>\n",
       "      <td>45.959999</td>\n",
       "    </tr>\n",
       "    <tr>\n",
       "      <th>1217</th>\n",
       "      <td>2017-08-31</td>\n",
       "      <td>47.259998</td>\n",
       "    </tr>\n",
       "  </tbody>\n",
       "</table>\n",
       "<p>1218 rows × 2 columns</p>\n",
       "</div>"
      ],
      "text/plain": [
       "           date  dcoilwtico\n",
       "0    2013-01-01         NaN\n",
       "1    2013-01-02   93.139999\n",
       "2    2013-01-03   92.970001\n",
       "3    2013-01-04   93.120003\n",
       "4    2013-01-07   93.199997\n",
       "...         ...         ...\n",
       "1213 2017-08-25   47.650002\n",
       "1214 2017-08-28   46.400002\n",
       "1215 2017-08-29   46.459999\n",
       "1216 2017-08-30   45.959999\n",
       "1217 2017-08-31   47.259998\n",
       "\n",
       "[1218 rows x 2 columns]"
      ]
     },
     "execution_count": 18,
     "metadata": {},
     "output_type": "execute_result"
    }
   ],
   "source": [
    "oil_df"
   ]
  },
  {
   "cell_type": "code",
   "execution_count": null,
   "metadata": {},
   "outputs": [],
   "source": [
    "\n",
    "oil_df['dcoilwtico'] = oil_df['dcoilwtico'].fillna(method='bfill') "
   ]
  },
  {
   "cell_type": "code",
   "execution_count": null,
   "metadata": {},
   "outputs": [
    {
     "data": {
      "text/html": [
       "<div>\n",
       "<style scoped>\n",
       "    .dataframe tbody tr th:only-of-type {\n",
       "        vertical-align: middle;\n",
       "    }\n",
       "\n",
       "    .dataframe tbody tr th {\n",
       "        vertical-align: top;\n",
       "    }\n",
       "\n",
       "    .dataframe thead th {\n",
       "        text-align: right;\n",
       "    }\n",
       "</style>\n",
       "<table border=\"1\" class=\"dataframe\">\n",
       "  <thead>\n",
       "    <tr style=\"text-align: right;\">\n",
       "      <th></th>\n",
       "      <th>date</th>\n",
       "      <th>dcoilwtico</th>\n",
       "    </tr>\n",
       "  </thead>\n",
       "  <tbody>\n",
       "    <tr>\n",
       "      <th>0</th>\n",
       "      <td>2013-01-01</td>\n",
       "      <td>93.139999</td>\n",
       "    </tr>\n",
       "    <tr>\n",
       "      <th>1</th>\n",
       "      <td>2013-01-02</td>\n",
       "      <td>93.139999</td>\n",
       "    </tr>\n",
       "    <tr>\n",
       "      <th>2</th>\n",
       "      <td>2013-01-03</td>\n",
       "      <td>92.970001</td>\n",
       "    </tr>\n",
       "    <tr>\n",
       "      <th>3</th>\n",
       "      <td>2013-01-04</td>\n",
       "      <td>93.120003</td>\n",
       "    </tr>\n",
       "    <tr>\n",
       "      <th>4</th>\n",
       "      <td>2013-01-07</td>\n",
       "      <td>93.199997</td>\n",
       "    </tr>\n",
       "    <tr>\n",
       "      <th>...</th>\n",
       "      <td>...</td>\n",
       "      <td>...</td>\n",
       "    </tr>\n",
       "    <tr>\n",
       "      <th>1213</th>\n",
       "      <td>2017-08-25</td>\n",
       "      <td>47.650002</td>\n",
       "    </tr>\n",
       "    <tr>\n",
       "      <th>1214</th>\n",
       "      <td>2017-08-28</td>\n",
       "      <td>46.400002</td>\n",
       "    </tr>\n",
       "    <tr>\n",
       "      <th>1215</th>\n",
       "      <td>2017-08-29</td>\n",
       "      <td>46.459999</td>\n",
       "    </tr>\n",
       "    <tr>\n",
       "      <th>1216</th>\n",
       "      <td>2017-08-30</td>\n",
       "      <td>45.959999</td>\n",
       "    </tr>\n",
       "    <tr>\n",
       "      <th>1217</th>\n",
       "      <td>2017-08-31</td>\n",
       "      <td>47.259998</td>\n",
       "    </tr>\n",
       "  </tbody>\n",
       "</table>\n",
       "<p>1218 rows × 2 columns</p>\n",
       "</div>"
      ],
      "text/plain": [
       "           date  dcoilwtico\n",
       "0    2013-01-01   93.139999\n",
       "1    2013-01-02   93.139999\n",
       "2    2013-01-03   92.970001\n",
       "3    2013-01-04   93.120003\n",
       "4    2013-01-07   93.199997\n",
       "...         ...         ...\n",
       "1213 2017-08-25   47.650002\n",
       "1214 2017-08-28   46.400002\n",
       "1215 2017-08-29   46.459999\n",
       "1216 2017-08-30   45.959999\n",
       "1217 2017-08-31   47.259998\n",
       "\n",
       "[1218 rows x 2 columns]"
      ]
     },
     "execution_count": 20,
     "metadata": {},
     "output_type": "execute_result"
    }
   ],
   "source": [
    "oil_df"
   ]
  },
  {
   "cell_type": "code",
   "execution_count": null,
   "metadata": {},
   "outputs": [
    {
     "data": {
      "text/plain": [
       "0"
      ]
     },
     "execution_count": 21,
     "metadata": {},
     "output_type": "execute_result"
    }
   ],
   "source": [
    "oil_df['dcoilwtico'].isnull().sum()"
   ]
  },
  {
   "cell_type": "code",
   "execution_count": null,
   "metadata": {},
   "outputs": [],
   "source": [
    "# Visualizing the 'dcoilwtico' column to confirm proper handling of Missing Values\n",
    "fig = px.line(oil_df, x='date', y='dcoilwtico')\n",
    "fig.update_layout(title='Trend of Oil Prices Over Time', title_x=0.5, xaxis_title='Date', yaxis_title='Oil Price')\n",
    "fig.update_xaxes(rangeslider_visible=True)\n",
    "fig.show()"
   ]
  },
  {
   "cell_type": "markdown",
   "metadata": {},
   "source": [
    "##### Merging The Datasets"
   ]
  },
  {
   "cell_type": "code",
   "execution_count": null,
   "metadata": {},
   "outputs": [],
   "source": [
    "# Merging the common columns\n",
    "\n",
    "# Ensure all 'date' columns are of datetime type\n",
    "\n",
    "train_df['date'] = pd.to_datetime(train_df['date'])\n",
    "transactions_df['date'] = pd.to_datetime(transactions_df['date'])\n",
    "holidays_events_df['date'] = pd.to_datetime(holidays_events_df['date'])\n",
    "oil_df['date'] = pd.to_datetime(oil_df['date'])\n",
    "\n",
    "# Merge train_df with stores_df based on 'store_nbr' column\n",
    "df1 = train_df.merge(stores_df, on='store_nbr', how='inner')\n",
    "\n",
    "# Merge merged_df1 with transactions_df based on 'date' and 'store_nbr' columns\n",
    "df2 = df1.merge(transactions_df, on=['date', 'store_nbr'], how='inner')\n",
    "\n",
    "# Merge merged_df2 with holidays_events_df based on 'date' column\n",
    "df3 = df2.merge(holidays_events_df, on='date', how='inner')\n",
    "\n",
    "# Merge merged_df3 with oil_df based on 'date' column\n",
    "merged_df =df3.merge(oil_df, on='date', how='inner')\n",
    "\n",
    "# View the first five rows of the merged dataset\n",
    "merged_df.head()\n"
   ]
  },
  {
   "cell_type": "code",
   "execution_count": null,
   "metadata": {},
   "outputs": [
    {
     "data": {
      "text/html": [
       "<div>\n",
       "<style scoped>\n",
       "    .dataframe tbody tr th:only-of-type {\n",
       "        vertical-align: middle;\n",
       "    }\n",
       "\n",
       "    .dataframe tbody tr th {\n",
       "        vertical-align: top;\n",
       "    }\n",
       "\n",
       "    .dataframe thead th {\n",
       "        text-align: right;\n",
       "    }\n",
       "</style>\n",
       "<table border=\"1\" class=\"dataframe\">\n",
       "  <thead>\n",
       "    <tr style=\"text-align: right;\">\n",
       "      <th></th>\n",
       "      <th>id</th>\n",
       "      <th>date</th>\n",
       "      <th>store_nbr</th>\n",
       "      <th>family</th>\n",
       "      <th>sales</th>\n",
       "      <th>onpromotion</th>\n",
       "      <th>city</th>\n",
       "      <th>state</th>\n",
       "      <th>type_x</th>\n",
       "      <th>cluster</th>\n",
       "      <th>transactions</th>\n",
       "      <th>type_y</th>\n",
       "      <th>locale</th>\n",
       "      <th>locale_name</th>\n",
       "      <th>description</th>\n",
       "      <th>transferred</th>\n",
       "      <th>dcoilwtico</th>\n",
       "    </tr>\n",
       "  </thead>\n",
       "  <tbody>\n",
       "    <tr>\n",
       "      <th>0</th>\n",
       "      <td>561</td>\n",
       "      <td>2013-01-01</td>\n",
       "      <td>25</td>\n",
       "      <td>AUTOMOTIVE</td>\n",
       "      <td>0.0</td>\n",
       "      <td>0</td>\n",
       "      <td>Salinas</td>\n",
       "      <td>Santa Elena</td>\n",
       "      <td>D</td>\n",
       "      <td>1</td>\n",
       "      <td>770</td>\n",
       "      <td>Holiday</td>\n",
       "      <td>National</td>\n",
       "      <td>Ecuador</td>\n",
       "      <td>Primer dia del ano</td>\n",
       "      <td>False</td>\n",
       "      <td>93.139999</td>\n",
       "    </tr>\n",
       "    <tr>\n",
       "      <th>1</th>\n",
       "      <td>562</td>\n",
       "      <td>2013-01-01</td>\n",
       "      <td>25</td>\n",
       "      <td>BABY CARE</td>\n",
       "      <td>0.0</td>\n",
       "      <td>0</td>\n",
       "      <td>Salinas</td>\n",
       "      <td>Santa Elena</td>\n",
       "      <td>D</td>\n",
       "      <td>1</td>\n",
       "      <td>770</td>\n",
       "      <td>Holiday</td>\n",
       "      <td>National</td>\n",
       "      <td>Ecuador</td>\n",
       "      <td>Primer dia del ano</td>\n",
       "      <td>False</td>\n",
       "      <td>93.139999</td>\n",
       "    </tr>\n",
       "    <tr>\n",
       "      <th>2</th>\n",
       "      <td>563</td>\n",
       "      <td>2013-01-01</td>\n",
       "      <td>25</td>\n",
       "      <td>BEAUTY</td>\n",
       "      <td>2.0</td>\n",
       "      <td>0</td>\n",
       "      <td>Salinas</td>\n",
       "      <td>Santa Elena</td>\n",
       "      <td>D</td>\n",
       "      <td>1</td>\n",
       "      <td>770</td>\n",
       "      <td>Holiday</td>\n",
       "      <td>National</td>\n",
       "      <td>Ecuador</td>\n",
       "      <td>Primer dia del ano</td>\n",
       "      <td>False</td>\n",
       "      <td>93.139999</td>\n",
       "    </tr>\n",
       "    <tr>\n",
       "      <th>3</th>\n",
       "      <td>564</td>\n",
       "      <td>2013-01-01</td>\n",
       "      <td>25</td>\n",
       "      <td>BEVERAGES</td>\n",
       "      <td>810.0</td>\n",
       "      <td>0</td>\n",
       "      <td>Salinas</td>\n",
       "      <td>Santa Elena</td>\n",
       "      <td>D</td>\n",
       "      <td>1</td>\n",
       "      <td>770</td>\n",
       "      <td>Holiday</td>\n",
       "      <td>National</td>\n",
       "      <td>Ecuador</td>\n",
       "      <td>Primer dia del ano</td>\n",
       "      <td>False</td>\n",
       "      <td>93.139999</td>\n",
       "    </tr>\n",
       "    <tr>\n",
       "      <th>4</th>\n",
       "      <td>565</td>\n",
       "      <td>2013-01-01</td>\n",
       "      <td>25</td>\n",
       "      <td>BOOKS</td>\n",
       "      <td>0.0</td>\n",
       "      <td>0</td>\n",
       "      <td>Salinas</td>\n",
       "      <td>Santa Elena</td>\n",
       "      <td>D</td>\n",
       "      <td>1</td>\n",
       "      <td>770</td>\n",
       "      <td>Holiday</td>\n",
       "      <td>National</td>\n",
       "      <td>Ecuador</td>\n",
       "      <td>Primer dia del ano</td>\n",
       "      <td>False</td>\n",
       "      <td>93.139999</td>\n",
       "    </tr>\n",
       "  </tbody>\n",
       "</table>\n",
       "</div>"
      ],
      "text/plain": [
       "    id       date  store_nbr      family  sales  onpromotion     city  \\\n",
       "0  561 2013-01-01         25  AUTOMOTIVE    0.0            0  Salinas   \n",
       "1  562 2013-01-01         25   BABY CARE    0.0            0  Salinas   \n",
       "2  563 2013-01-01         25      BEAUTY    2.0            0  Salinas   \n",
       "3  564 2013-01-01         25   BEVERAGES  810.0            0  Salinas   \n",
       "4  565 2013-01-01         25       BOOKS    0.0            0  Salinas   \n",
       "\n",
       "         state type_x  cluster  transactions   type_y    locale locale_name  \\\n",
       "0  Santa Elena      D        1           770  Holiday  National     Ecuador   \n",
       "1  Santa Elena      D        1           770  Holiday  National     Ecuador   \n",
       "2  Santa Elena      D        1           770  Holiday  National     Ecuador   \n",
       "3  Santa Elena      D        1           770  Holiday  National     Ecuador   \n",
       "4  Santa Elena      D        1           770  Holiday  National     Ecuador   \n",
       "\n",
       "          description  transferred  dcoilwtico  \n",
       "0  Primer dia del ano        False   93.139999  \n",
       "1  Primer dia del ano        False   93.139999  \n",
       "2  Primer dia del ano        False   93.139999  \n",
       "3  Primer dia del ano        False   93.139999  \n",
       "4  Primer dia del ano        False   93.139999  "
      ]
     },
     "execution_count": 23,
     "metadata": {},
     "output_type": "execute_result"
    }
   ],
   "source": [
    "# For purposes of EDA make a copy of the dataset\n",
    "\n",
    "merged_eda_df = merged_df.copy() \n",
    "merged_eda_df.head() "
   ]
  },
  {
   "cell_type": "code",
   "execution_count": null,
   "metadata": {},
   "outputs": [
    {
     "name": "stdout",
     "output_type": "stream",
     "text": [
      "<class 'pandas.core.frame.DataFrame'>\n",
      "RangeIndex: 322047 entries, 0 to 322046\n",
      "Data columns (total 17 columns):\n",
      " #   Column        Non-Null Count   Dtype         \n",
      "---  ------        --------------   -----         \n",
      " 0   id            322047 non-null  int64         \n",
      " 1   date          322047 non-null  datetime64[ns]\n",
      " 2   store_nbr     322047 non-null  int64         \n",
      " 3   family        322047 non-null  object        \n",
      " 4   sales         322047 non-null  float64       \n",
      " 5   onpromotion   322047 non-null  int64         \n",
      " 6   city          322047 non-null  object        \n",
      " 7   state         322047 non-null  object        \n",
      " 8   type_x        322047 non-null  object        \n",
      " 9   cluster       322047 non-null  int64         \n",
      " 10  transactions  322047 non-null  int64         \n",
      " 11  type_y        322047 non-null  object        \n",
      " 12  locale        322047 non-null  object        \n",
      " 13  locale_name   322047 non-null  object        \n",
      " 14  description   322047 non-null  object        \n",
      " 15  transferred   322047 non-null  bool          \n",
      " 16  dcoilwtico    322047 non-null  float64       \n",
      "dtypes: bool(1), datetime64[ns](1), float64(2), int64(5), object(8)\n",
      "memory usage: 39.6+ MB\n"
     ]
    }
   ],
   "source": [
    "# Column information of merged dataset\n",
    "merged_eda_df.info() "
   ]
  },
  {
   "cell_type": "markdown",
   "metadata": {},
   "source": [
    "There seems to be some additional columns after the merge."
   ]
  },
  {
   "cell_type": "code",
   "execution_count": null,
   "metadata": {},
   "outputs": [
    {
     "name": "stdout",
     "output_type": "stream",
     "text": [
      "Values of 'type_x':\n",
      "['D' 'C' 'B' 'E' 'A']\n",
      "\n",
      "Values of 'type_y':\n",
      "['Holiday' 'Additional' 'Transfer' 'Event' 'Bridge']\n"
     ]
    }
   ],
   "source": [
    "# Check the unique values of the additional unknown columns\n",
    "\n",
    "print(\"Values of 'type_x':\")\n",
    "print(merged_eda_df['type_x'].unique())\n",
    "print()\n",
    "print(\"Values of 'type_y':\")\n",
    "print(merged_eda_df['type_y'].unique())"
   ]
  },
  {
   "cell_type": "code",
   "execution_count": null,
   "metadata": {},
   "outputs": [],
   "source": [
    "# Renaming type_x and type_y columns\n",
    "\n",
    "merged_eda_df.rename(columns={'type_x': 'store_type', 'type_y': 'holiday_type'}, inplace=True)"
   ]
  },
  {
   "cell_type": "code",
   "execution_count": null,
   "metadata": {},
   "outputs": [
    {
     "data": {
      "text/plain": [
       "Index(['id', 'date', 'store_nbr', 'family', 'sales', 'onpromotion', 'city',\n",
       "       'state', 'store_type', 'cluster', 'transactions', 'holiday_type',\n",
       "       'locale', 'locale_name', 'description', 'transferred', 'dcoilwtico'],\n",
       "      dtype='object')"
      ]
     },
     "execution_count": 27,
     "metadata": {},
     "output_type": "execute_result"
    }
   ],
   "source": [
    "merged_eda_df.columns"
   ]
  },
  {
   "cell_type": "code",
   "execution_count": null,
   "metadata": {},
   "outputs": [
    {
     "data": {
      "text/html": [
       "<div>\n",
       "<style scoped>\n",
       "    .dataframe tbody tr th:only-of-type {\n",
       "        vertical-align: middle;\n",
       "    }\n",
       "\n",
       "    .dataframe tbody tr th {\n",
       "        vertical-align: top;\n",
       "    }\n",
       "\n",
       "    .dataframe thead th {\n",
       "        text-align: right;\n",
       "    }\n",
       "</style>\n",
       "<table border=\"1\" class=\"dataframe\">\n",
       "  <thead>\n",
       "    <tr style=\"text-align: right;\">\n",
       "      <th></th>\n",
       "      <th>count</th>\n",
       "      <th>mean</th>\n",
       "      <th>min</th>\n",
       "      <th>25%</th>\n",
       "      <th>50%</th>\n",
       "      <th>75%</th>\n",
       "      <th>max</th>\n",
       "      <th>std</th>\n",
       "    </tr>\n",
       "  </thead>\n",
       "  <tbody>\n",
       "    <tr>\n",
       "      <th>id</th>\n",
       "      <td>322047.0</td>\n",
       "      <td>1682979.459576</td>\n",
       "      <td>561.0</td>\n",
       "      <td>1010616.5</td>\n",
       "      <td>1842406.0</td>\n",
       "      <td>2209555.5</td>\n",
       "      <td>3000887.0</td>\n",
       "      <td>786249.257767</td>\n",
       "    </tr>\n",
       "    <tr>\n",
       "      <th>date</th>\n",
       "      <td>322047</td>\n",
       "      <td>2015-08-04 23:49:57.971104</td>\n",
       "      <td>2013-01-01 00:00:00</td>\n",
       "      <td>2014-07-23 00:00:00</td>\n",
       "      <td>2015-11-02 00:00:00</td>\n",
       "      <td>2016-05-27 00:00:00</td>\n",
       "      <td>2017-08-15 00:00:00</td>\n",
       "      <td>NaN</td>\n",
       "    </tr>\n",
       "    <tr>\n",
       "      <th>store_nbr</th>\n",
       "      <td>322047.0</td>\n",
       "      <td>26.994672</td>\n",
       "      <td>1.0</td>\n",
       "      <td>13.0</td>\n",
       "      <td>27.0</td>\n",
       "      <td>40.0</td>\n",
       "      <td>54.0</td>\n",
       "      <td>15.595174</td>\n",
       "    </tr>\n",
       "    <tr>\n",
       "      <th>sales</th>\n",
       "      <td>322047.0</td>\n",
       "      <td>406.383452</td>\n",
       "      <td>0.0</td>\n",
       "      <td>1.0</td>\n",
       "      <td>19.0</td>\n",
       "      <td>241.260505</td>\n",
       "      <td>124717.0</td>\n",
       "      <td>1246.88124</td>\n",
       "    </tr>\n",
       "    <tr>\n",
       "      <th>onpromotion</th>\n",
       "      <td>322047.0</td>\n",
       "      <td>3.727136</td>\n",
       "      <td>0.0</td>\n",
       "      <td>0.0</td>\n",
       "      <td>0.0</td>\n",
       "      <td>1.0</td>\n",
       "      <td>716.0</td>\n",
       "      <td>15.512095</td>\n",
       "    </tr>\n",
       "    <tr>\n",
       "      <th>cluster</th>\n",
       "      <td>322047.0</td>\n",
       "      <td>8.531202</td>\n",
       "      <td>1.0</td>\n",
       "      <td>4.0</td>\n",
       "      <td>9.0</td>\n",
       "      <td>13.0</td>\n",
       "      <td>17.0</td>\n",
       "      <td>4.713809</td>\n",
       "    </tr>\n",
       "    <tr>\n",
       "      <th>transactions</th>\n",
       "      <td>322047.0</td>\n",
       "      <td>1734.11784</td>\n",
       "      <td>54.0</td>\n",
       "      <td>1030.0</td>\n",
       "      <td>1409.0</td>\n",
       "      <td>2148.0</td>\n",
       "      <td>8359.0</td>\n",
       "      <td>1050.335018</td>\n",
       "    </tr>\n",
       "    <tr>\n",
       "      <th>dcoilwtico</th>\n",
       "      <td>322047.0</td>\n",
       "      <td>63.636381</td>\n",
       "      <td>27.959999</td>\n",
       "      <td>44.880001</td>\n",
       "      <td>51.98</td>\n",
       "      <td>94.089996</td>\n",
       "      <td>107.949997</td>\n",
       "      <td>24.855753</td>\n",
       "    </tr>\n",
       "  </tbody>\n",
       "</table>\n",
       "</div>"
      ],
      "text/plain": [
       "                 count                        mean                  min  \\\n",
       "id            322047.0              1682979.459576                561.0   \n",
       "date            322047  2015-08-04 23:49:57.971104  2013-01-01 00:00:00   \n",
       "store_nbr     322047.0                   26.994672                  1.0   \n",
       "sales         322047.0                  406.383452                  0.0   \n",
       "onpromotion   322047.0                    3.727136                  0.0   \n",
       "cluster       322047.0                    8.531202                  1.0   \n",
       "transactions  322047.0                  1734.11784                 54.0   \n",
       "dcoilwtico    322047.0                   63.636381            27.959999   \n",
       "\n",
       "                              25%                  50%                  75%  \\\n",
       "id                      1010616.5            1842406.0            2209555.5   \n",
       "date          2014-07-23 00:00:00  2015-11-02 00:00:00  2016-05-27 00:00:00   \n",
       "store_nbr                    13.0                 27.0                 40.0   \n",
       "sales                         1.0                 19.0           241.260505   \n",
       "onpromotion                   0.0                  0.0                  1.0   \n",
       "cluster                       4.0                  9.0                 13.0   \n",
       "transactions               1030.0               1409.0               2148.0   \n",
       "dcoilwtico              44.880001                51.98            94.089996   \n",
       "\n",
       "                              max            std  \n",
       "id                      3000887.0  786249.257767  \n",
       "date          2017-08-15 00:00:00            NaN  \n",
       "store_nbr                    54.0      15.595174  \n",
       "sales                    124717.0     1246.88124  \n",
       "onpromotion                 716.0      15.512095  \n",
       "cluster                      17.0       4.713809  \n",
       "transactions               8359.0    1050.335018  \n",
       "dcoilwtico             107.949997      24.855753  "
      ]
     },
     "execution_count": 28,
     "metadata": {},
     "output_type": "execute_result"
    }
   ],
   "source": [
    "# Summary statistics of merged data\n",
    "\n",
    "merged_eda_df.describe().T"
   ]
  },
  {
   "cell_type": "code",
   "execution_count": null,
   "metadata": {},
   "outputs": [
    {
     "data": {
      "text/plain": [
       "id              0\n",
       "date            0\n",
       "store_nbr       0\n",
       "family          0\n",
       "sales           0\n",
       "onpromotion     0\n",
       "city            0\n",
       "state           0\n",
       "store_type      0\n",
       "cluster         0\n",
       "transactions    0\n",
       "holiday_type    0\n",
       "locale          0\n",
       "locale_name     0\n",
       "description     0\n",
       "transferred     0\n",
       "dcoilwtico      0\n",
       "dtype: int64"
      ]
     },
     "execution_count": 29,
     "metadata": {},
     "output_type": "execute_result"
    }
   ],
   "source": [
    "# Check for missing values in the merged datasets\n",
    "\n",
    "missing_values = merged_eda_df.isnull().sum()\n",
    "missing_values"
   ]
  },
  {
   "cell_type": "code",
   "execution_count": null,
   "metadata": {},
   "outputs": [],
   "source": [
    "merged_df.to_csv('Merged_Data.csv', index=False)"
   ]
  },
  {
   "cell_type": "code",
   "execution_count": null,
   "metadata": {},
   "outputs": [],
   "source": [
    "merged_eda_df.to_csv('Merged_Clean_Data.csv', index=False)"
   ]
  },
  {
   "cell_type": "code",
   "execution_count": 3,
   "metadata": {},
   "outputs": [
    {
     "data": {
      "text/html": [
       "<div>\n",
       "<style scoped>\n",
       "    .dataframe tbody tr th:only-of-type {\n",
       "        vertical-align: middle;\n",
       "    }\n",
       "\n",
       "    .dataframe tbody tr th {\n",
       "        vertical-align: top;\n",
       "    }\n",
       "\n",
       "    .dataframe thead th {\n",
       "        text-align: right;\n",
       "    }\n",
       "</style>\n",
       "<table border=\"1\" class=\"dataframe\">\n",
       "  <thead>\n",
       "    <tr style=\"text-align: right;\">\n",
       "      <th></th>\n",
       "      <th>id</th>\n",
       "      <th>date</th>\n",
       "      <th>store_nbr</th>\n",
       "      <th>family</th>\n",
       "      <th>sales</th>\n",
       "      <th>onpromotion</th>\n",
       "      <th>city</th>\n",
       "      <th>state</th>\n",
       "      <th>store_type</th>\n",
       "      <th>cluster</th>\n",
       "      <th>transactions</th>\n",
       "      <th>holiday_type</th>\n",
       "      <th>locale</th>\n",
       "      <th>locale_name</th>\n",
       "      <th>description</th>\n",
       "      <th>transferred</th>\n",
       "      <th>dcoilwtico</th>\n",
       "    </tr>\n",
       "  </thead>\n",
       "  <tbody>\n",
       "    <tr>\n",
       "      <th>0</th>\n",
       "      <td>561</td>\n",
       "      <td>2013-01-01</td>\n",
       "      <td>25</td>\n",
       "      <td>AUTOMOTIVE</td>\n",
       "      <td>0.0</td>\n",
       "      <td>0</td>\n",
       "      <td>Salinas</td>\n",
       "      <td>Santa Elena</td>\n",
       "      <td>D</td>\n",
       "      <td>1</td>\n",
       "      <td>770</td>\n",
       "      <td>Holiday</td>\n",
       "      <td>National</td>\n",
       "      <td>Ecuador</td>\n",
       "      <td>Primer dia del ano</td>\n",
       "      <td>False</td>\n",
       "      <td>93.139999</td>\n",
       "    </tr>\n",
       "    <tr>\n",
       "      <th>1</th>\n",
       "      <td>562</td>\n",
       "      <td>2013-01-01</td>\n",
       "      <td>25</td>\n",
       "      <td>BABY CARE</td>\n",
       "      <td>0.0</td>\n",
       "      <td>0</td>\n",
       "      <td>Salinas</td>\n",
       "      <td>Santa Elena</td>\n",
       "      <td>D</td>\n",
       "      <td>1</td>\n",
       "      <td>770</td>\n",
       "      <td>Holiday</td>\n",
       "      <td>National</td>\n",
       "      <td>Ecuador</td>\n",
       "      <td>Primer dia del ano</td>\n",
       "      <td>False</td>\n",
       "      <td>93.139999</td>\n",
       "    </tr>\n",
       "    <tr>\n",
       "      <th>2</th>\n",
       "      <td>563</td>\n",
       "      <td>2013-01-01</td>\n",
       "      <td>25</td>\n",
       "      <td>BEAUTY</td>\n",
       "      <td>2.0</td>\n",
       "      <td>0</td>\n",
       "      <td>Salinas</td>\n",
       "      <td>Santa Elena</td>\n",
       "      <td>D</td>\n",
       "      <td>1</td>\n",
       "      <td>770</td>\n",
       "      <td>Holiday</td>\n",
       "      <td>National</td>\n",
       "      <td>Ecuador</td>\n",
       "      <td>Primer dia del ano</td>\n",
       "      <td>False</td>\n",
       "      <td>93.139999</td>\n",
       "    </tr>\n",
       "    <tr>\n",
       "      <th>3</th>\n",
       "      <td>564</td>\n",
       "      <td>2013-01-01</td>\n",
       "      <td>25</td>\n",
       "      <td>BEVERAGES</td>\n",
       "      <td>810.0</td>\n",
       "      <td>0</td>\n",
       "      <td>Salinas</td>\n",
       "      <td>Santa Elena</td>\n",
       "      <td>D</td>\n",
       "      <td>1</td>\n",
       "      <td>770</td>\n",
       "      <td>Holiday</td>\n",
       "      <td>National</td>\n",
       "      <td>Ecuador</td>\n",
       "      <td>Primer dia del ano</td>\n",
       "      <td>False</td>\n",
       "      <td>93.139999</td>\n",
       "    </tr>\n",
       "    <tr>\n",
       "      <th>4</th>\n",
       "      <td>565</td>\n",
       "      <td>2013-01-01</td>\n",
       "      <td>25</td>\n",
       "      <td>BOOKS</td>\n",
       "      <td>0.0</td>\n",
       "      <td>0</td>\n",
       "      <td>Salinas</td>\n",
       "      <td>Santa Elena</td>\n",
       "      <td>D</td>\n",
       "      <td>1</td>\n",
       "      <td>770</td>\n",
       "      <td>Holiday</td>\n",
       "      <td>National</td>\n",
       "      <td>Ecuador</td>\n",
       "      <td>Primer dia del ano</td>\n",
       "      <td>False</td>\n",
       "      <td>93.139999</td>\n",
       "    </tr>\n",
       "  </tbody>\n",
       "</table>\n",
       "</div>"
      ],
      "text/plain": [
       "    id        date  store_nbr      family  sales  onpromotion     city  \\\n",
       "0  561  2013-01-01         25  AUTOMOTIVE    0.0            0  Salinas   \n",
       "1  562  2013-01-01         25   BABY CARE    0.0            0  Salinas   \n",
       "2  563  2013-01-01         25      BEAUTY    2.0            0  Salinas   \n",
       "3  564  2013-01-01         25   BEVERAGES  810.0            0  Salinas   \n",
       "4  565  2013-01-01         25       BOOKS    0.0            0  Salinas   \n",
       "\n",
       "         state store_type  cluster  transactions holiday_type    locale  \\\n",
       "0  Santa Elena          D        1           770      Holiday  National   \n",
       "1  Santa Elena          D        1           770      Holiday  National   \n",
       "2  Santa Elena          D        1           770      Holiday  National   \n",
       "3  Santa Elena          D        1           770      Holiday  National   \n",
       "4  Santa Elena          D        1           770      Holiday  National   \n",
       "\n",
       "  locale_name         description  transferred  dcoilwtico  \n",
       "0     Ecuador  Primer dia del ano        False   93.139999  \n",
       "1     Ecuador  Primer dia del ano        False   93.139999  \n",
       "2     Ecuador  Primer dia del ano        False   93.139999  \n",
       "3     Ecuador  Primer dia del ano        False   93.139999  \n",
       "4     Ecuador  Primer dia del ano        False   93.139999  "
      ]
     },
     "execution_count": 3,
     "metadata": {},
     "output_type": "execute_result"
    }
   ],
   "source": [
    "merged_eda_df = pd.read_csv(r'C:\\Users\\james\\OneDrive\\Documents\\Sales Prediction Model\\Merged_Clean_Data.csv')\n",
    "merged_eda_df.head()"
   ]
  },
  {
   "cell_type": "markdown",
   "metadata": {},
   "source": [
    "### Univariate, Multivariate and Bivariate Analysis"
   ]
  },
  {
   "cell_type": "markdown",
   "metadata": {},
   "source": [
    "#### Univariate Analysis"
   ]
  },
  {
   "cell_type": "markdown",
   "metadata": {},
   "source": [
    "##### Distribution"
   ]
  },
  {
   "cell_type": "markdown",
   "metadata": {},
   "source": [
    "##### c"
   ]
  },
  {
   "cell_type": "code",
   "execution_count": 4,
   "metadata": {},
   "outputs": [
    {
     "data": {
      "image/png": "[encoded data removed]",
      "text/plain": [
       "<Figure size 640x480 with 1 Axes>"
      ]
     },
     "metadata": {},
     "output_type": "display_data"
    },
    {
     "data": {
      "image/png": "[encoded data removed]",
      "text/plain": [
       "<Figure size 640x480 with 1 Axes>"
      ]
     },
     "metadata": {},
     "output_type": "display_data"
    }
   ],
   "source": [
    "# Histogram\n",
    "plt.hist(merged_eda_df['sales'], bins=20)\n",
    "plt.xlabel('Sales')\n",
    "plt.ylabel('Frequency')\n",
    "plt.title('Distribution of Sales')\n",
    "plt.show()\n",
    "\n",
    "# Boxplot\n",
    "plt.boxplot(merged_eda_df['sales'])\n",
    "plt.ylabel('Sales')\n",
    "plt.title('Boxplot of Sales')\n",
    "plt.show()"
   ]
  },
  {
   "cell_type": "markdown",
   "metadata": {},
   "source": [
    "\n",
    "The Sales histogram shows the data spread is from about 0 to 20,000 while the peak occurs in a range of 0 to 10,000. Skewness indicates that the data may not be normally distributed in this case, a right skewed distribution. The box plot further indicates that sales contains extremes, that is, outliers as indicated by the points beyond the whiskers."
   ]
  },
  {
   "cell_type": "markdown",
   "metadata": {},
   "source": [
    "##### Transactions Distribution"
   ]
  },
  {
   "cell_type": "code",
   "execution_count": 5,
   "metadata": {},
   "outputs": [
    {
     "data": {
      "image/png": "[encoded data removed]",
      "text/plain": [
       "<Figure size 640x480 with 1 Axes>"
      ]
     },
     "metadata": {},
     "output_type": "display_data"
    },
    {
     "data": {
      "image/png": "[encoded data removed]",
      "text/plain": [
       "<Figure size 640x480 with 1 Axes>"
      ]
     },
     "metadata": {},
     "output_type": "display_data"
    }
   ],
   "source": [
    "\n",
    "# Histogram\n",
    "plt.hist(merged_eda_df['transactions'], bins=20)\n",
    "plt.xlabel('Transactions')\n",
    "plt.ylabel('Frequency')\n",
    "plt.title('Distribution of Transactions')\n",
    "plt.show()\n",
    "\n",
    "# Boxplot\n",
    "plt.boxplot(merged_eda_df['transactions'])\n",
    "plt.ylabel('Transactions')\n",
    "plt.title('Boxplot of Transactions')\n",
    "plt.show()"
   ]
  },
  {
   "cell_type": "markdown",
   "metadata": {},
   "source": [
    "The transactions histogram shows the data spread is from about 0 to 8,000 transactions while the peak occurs from a range of 500 to 1500 which decreases from there on. The data is left skewed as most of the transactions fall under a specific range. It also seemsthat as the transactions increases, the frequency gradually decreases making it inversely propotional. The box plot further indicates outliers as indicated by the points beyond the whiskers."
   ]
  },
  {
   "cell_type": "markdown",
   "metadata": {},
   "source": [
    "##### Oil Distribution"
   ]
  },
  {
   "cell_type": "code",
   "execution_count": 6,
   "metadata": {},
   "outputs": [
    {
     "data": {
      "image/png": "[encoded data removed]",
      "text/plain": [
       "<Figure size 640x480 with 1 Axes>"
      ]
     },
     "metadata": {},
     "output_type": "display_data"
    },
    {
     "data": {
      "image/png": "[encoded data removed]",
      "text/plain": [
       "<Figure size 640x480 with 1 Axes>"
      ]
     },
     "metadata": {},
     "output_type": "display_data"
    }
   ],
   "source": [
    "# Histogram\n",
    "plt.hist(merged_eda_df['dcoilwtico'], bins=20)\n",
    "plt.xlabel('Oil Price')\n",
    "plt.ylabel('Frequency')\n",
    "plt.title('Distribution of Oil Price')\n",
    "plt.show()\n",
    "\n",
    "# Boxplot\n",
    "plt.boxplot(merged_eda_df['dcoilwtico'])\n",
    "plt.ylabel('Oil Price')\n",
    "plt.title('Boxplot of Oil Price')\n",
    "plt.show()"
   ]
  },
  {
   "cell_type": "markdown",
   "metadata": {},
   "source": [
    "The distribution of oil shows multi-modal data have more than one peak indicating high frequencies at different points."
   ]
  },
  {
   "cell_type": "markdown",
   "metadata": {},
   "source": [
    "#### Bivariate Analysis"
   ]
  },
  {
   "cell_type": "code",
   "execution_count": null,
   "metadata": {},
   "outputs": [],
   "source": []
  },
  {
   "cell_type": "markdown",
   "metadata": {},
   "source": [
    "##### Sales Overtime"
   ]
  },
  {
   "cell_type": "code",
   "execution_count": 7,
   "metadata": {},
   "outputs": [
    {
     "data": {
      "application/vnd.plotly.v1+json": {
       "config": {
        "plotlyServerURL": "https://plot.ly"
       },
       "data": [
        {
         "hovertemplate": "date=%{x}<br>sales=%{y}<extra></extra>",
         "legendgroup": "",
         "line": {
          "color": "#636efa",
          "dash": "solid"
         },
         "marker": {
          "symbol": "circle"
         },
         "mode": "lines",
         "name": "",
         "orientation": "v",
         "showlegend": false,
         "type": "scatter",
         "x": [
          "2013-01-01",
          "2013-02-11",
          "2013-02-12",
          "2013-04-01",
          "2013-04-12",
          "2013-04-29",
          "2013-05-01",
          "2013-05-24",
          "2013-06-25",
          "2013-07-03",
          "2013-07-23",
          "2013-07-24",
          "2013-07-25",
          "2013-08-05",
          "2013-08-15",
          "2013-10-07",
          "2013-10-09",
          "2013-10-11",
          "2013-11-06",
          "2013-11-07",
          "2013-11-11",
          "2013-11-12",
          "2013-12-05",
          "2013-12-06",
          "2013-12-23",
          "2013-12-24",
          "2013-12-26",
          "2013-12-31",
          "2014-01-01",
          "2014-03-03",
          "2014-03-04",
          "2014-04-01",
          "2014-04-14",
          "2014-04-18",
          "2014-04-21",
          "2014-05-01",
          "2014-05-12",
          "2014-06-12",
          "2014-06-20",
          "2014-06-23",
          "2014-06-25",
          "2014-06-30",
          "2014-07-01",
          "2014-07-03",
          "2014-07-04",
          "2014-07-08",
          "2014-07-09",
          "2014-07-23",
          "2014-07-24",
          "2014-07-25",
          "2014-08-05",
          "2014-08-15",
          "2014-10-07",
          "2014-10-09",
          "2014-10-10",
          "2014-11-03",
          "2014-11-06",
          "2014-11-07",
          "2014-11-10",
          "2014-11-11",
          "2014-11-12",
          "2014-11-28",
          "2014-12-01",
          "2014-12-05",
          "2014-12-08",
          "2014-12-22",
          "2014-12-23",
          "2014-12-24",
          "2014-12-26",
          "2014-12-31",
          "2015-01-01",
          "2015-01-02",
          "2015-02-16",
          "2015-02-17",
          "2015-03-02",
          "2015-04-01",
          "2015-04-03",
          "2015-04-14",
          "2015-04-21",
          "2015-05-01",
          "2015-05-12",
          "2015-06-23",
          "2015-06-25",
          "2015-07-03",
          "2015-07-23",
          "2015-07-24",
          "2015-08-05",
          "2015-08-10",
          "2015-08-24",
          "2015-09-28",
          "2015-10-07",
          "2015-10-09",
          "2015-11-02",
          "2015-11-03",
          "2015-11-06",
          "2015-11-10",
          "2015-11-11",
          "2015-11-12",
          "2015-11-27",
          "2015-11-30",
          "2015-12-08",
          "2015-12-21",
          "2015-12-22",
          "2015-12-23",
          "2015-12-24",
          "2015-12-31",
          "2016-02-08",
          "2016-02-09",
          "2016-03-02",
          "2016-03-25",
          "2016-04-01",
          "2016-04-12",
          "2016-04-14",
          "2016-04-18",
          "2016-04-19",
          "2016-04-20",
          "2016-04-21",
          "2016-04-22",
          "2016-04-25",
          "2016-04-26",
          "2016-04-27",
          "2016-04-28",
          "2016-04-29",
          "2016-05-02",
          "2016-05-03",
          "2016-05-04",
          "2016-05-05",
          "2016-05-06",
          "2016-05-09",
          "2016-05-10",
          "2016-05-11",
          "2016-05-12",
          "2016-05-13",
          "2016-05-16",
          "2016-05-24",
          "2016-05-27",
          "2016-06-23",
          "2016-07-25",
          "2016-08-05",
          "2016-08-10",
          "2016-08-12",
          "2016-08-15",
          "2016-08-24",
          "2016-09-28",
          "2016-10-07",
          "2016-11-02",
          "2016-11-03",
          "2016-11-04",
          "2016-11-07",
          "2016-11-10",
          "2016-11-11",
          "2016-11-25",
          "2016-11-28",
          "2016-12-05",
          "2016-12-06",
          "2016-12-08",
          "2016-12-21",
          "2016-12-22",
          "2016-12-23",
          "2016-12-26",
          "2017-01-02",
          "2017-02-27",
          "2017-02-28",
          "2017-03-02",
          "2017-04-12",
          "2017-04-13",
          "2017-04-14",
          "2017-04-21",
          "2017-05-01",
          "2017-05-12",
          "2017-05-24",
          "2017-05-26",
          "2017-06-23",
          "2017-07-03",
          "2017-07-24",
          "2017-07-25",
          "2017-08-10",
          "2017-08-11",
          "2017-08-15"
         ],
         "xaxis": "x",
         "y": [
          2511.618999,
          278627.588926,
          308800.7909121,
          428816.447912,
          314394.967035,
          328795.874018,
          507974.636889,
          398389.241982,
          915358.590192,
          749103.835898,
          316257.463107,
          309243.7899995,
          298074.2249247,
          407033.810946,
          311043.17291,
          373387.109043,
          322529.418957,
          402913.849028,
          386426.9788195,
          346293.3400477,
          374087.890067,
          373277.748034,
          386406.804985,
          432661.755068,
          792865.284427,
          620663.290732,
          470731.1624137,
          507264.6630475,
          8602.065404,
          613973.031386,
          748930.902096,
          485079.887001,
          381386.309033,
          394392.184115,
          398677.396998,
          530380.848064,
          398251.889006,
          329408.06736,
          369206.789547,
          414929.6359765,
          1421369.592068,
          429324.0552005,
          720480.616788,
          1167689.4415844,
          595424.31324,
          557291.4975265,
          574451.409963,
          574168.635995,
          484618.8170115,
          579767.285128,
          417197.476176,
          402631.8400593,
          586410.2709706,
          510519.923104,
          702470.317955,
          973192.041735,
          566118.381055,
          585330.25773,
          593376.793073,
          552505.750307,
          588093.484021,
          559619.825094,
          817413.561974,
          635445.153317,
          790283.289992,
          2016286.6920386,
          1064977.9730725,
          965982.871715,
          1744196.91359,
          844380.469674,
          12773.61698,
          657763.391981,
          420740.903983,
          483088.13409300003,
          546037.787999,
          557223.161038,
          510296.785948,
          403623.396979,
          426018.313035,
          674509.400095,
          452162.874045,
          640322.326029,
          1556102.8676919,
          1545546.78784,
          541511.421067,
          635244.2449785,
          724346.594,
          785477.934216,
          681575.9899773,
          671261.0640092,
          720562.330573,
          873934.7190479999,
          762549.794932,
          1033439.132986,
          671145.788057,
          623529.1790699,
          689746.212316,
          506937.6640027,
          645087.0350447,
          762036.1239965,
          712569.16983,
          1072887.476889,
          2283723.81852,
          1196146.056374,
          1083680.315238,
          964641.5415009999,
          636542.677274,
          746939.64016,
          878452.364907,
          633524.200062,
          872467.3200749999,
          651657.0342615,
          546785.2089455,
          1345920.6048929,
          1152089.208085,
          1062426.2900389,
          2002159.558336,
          857059.24399,
          680000.753839,
          704799.4182328,
          670288.098041,
          543339.849013,
          708711.428894,
          973985.670432,
          792205.5501393,
          798654.4540987,
          648701.6029645,
          761422.5161262,
          771767.6541339,
          693010.486981,
          727543.4630335,
          1206788.4141994,
          666833.8999414,
          748112.686851,
          606377.2052165,
          852689.219312,
          559653.337429,
          697383.602092,
          704092.7391311,
          658457.436112,
          745662.5051491,
          720032.299881,
          674613.0479498,
          631761.1750463,
          797612.239327,
          969033.618953,
          793811.6841115,
          858468.216477,
          849451.0429045,
          588241.7590247,
          713396.4541223,
          737819.484836,
          752583.7680527,
          896824.938971,
          932546.385931,
          674077.382905,
          1181307.3270735,
          2271698.782168,
          1282145.5171351,
          1032770.748898,
          1402306.370834,
          744956.948138,
          949366.8290505,
          836225.179072,
          791762.312883,
          737029.565183,
          1481778.973658,
          795795.893872,
          1306699.366897,
          764812.415784,
          746303.6271255,
          984511.1521135,
          761049.7450639,
          1850286.817632,
          816564.327096,
          713581.632609,
          651386.9119697,
          826373.722022,
          762661.935939
         ],
         "yaxis": "y"
        }
       ],
       "layout": {
        "legend": {
         "tracegroupgap": 0
        },
        "margin": {
         "t": 60
        },
        "template": {
         "data": {
          "bar": [
           {
            "error_x": {
             "color": "#2a3f5f"
            },
            "error_y": {
             "color": "#2a3f5f"
            },
            "marker": {
             "line": {
              "color": "#E5ECF6",
              "width": 0.5
             },
             "pattern": {
              "fillmode": "overlay",
              "size": 10,
              "solidity": 0.2
             }
            },
            "type": "bar"
           }
          ],
          "barpolar": [
           {
            "marker": {
             "line": {
              "color": "#E5ECF6",
              "width": 0.5
             },
             "pattern": {
              "fillmode": "overlay",
              "size": 10,
              "solidity": 0.2
             }
            },
            "type": "barpolar"
           }
          ],
          "carpet": [
           {
            "aaxis": {
             "endlinecolor": "#2a3f5f",
             "gridcolor": "white",
             "linecolor": "white",
             "minorgridcolor": "white",
             "startlinecolor": "#2a3f5f"
            },
            "baxis": {
             "endlinecolor": "#2a3f5f",
             "gridcolor": "white",
             "linecolor": "white",
             "minorgridcolor": "white",
             "startlinecolor": "#2a3f5f"
            },
            "type": "carpet"
           }
          ],
          "choropleth": [
           {
            "colorbar": {
             "outlinewidth": 0,
             "ticks": ""
            },
            "type": "choropleth"
           }
          ],
          "contour": [
           {
            "colorbar": {
             "outlinewidth": 0,
             "ticks": ""
            },
            "colorscale": [
             [
              0,
              "#0d0887"
             ],
             [
              0.1111111111111111,
              "#46039f"
             ],
             [
              0.2222222222222222,
              "#7201a8"
             ],
             [
              0.3333333333333333,
              "#9c179e"
             ],
             [
              0.4444444444444444,
              "#bd3786"
             ],
             [
              0.5555555555555556,
              "#d8576b"
             ],
             [
              0.6666666666666666,
              "#ed7953"
             ],
             [
              0.7777777777777778,
              "#fb9f3a"
             ],
             [
              0.8888888888888888,
              "#fdca26"
             ],
             [
              1,
              "#f0f921"
             ]
            ],
            "type": "contour"
           }
          ],
          "contourcarpet": [
           {
            "colorbar": {
             "outlinewidth": 0,
             "ticks": ""
            },
            "type": "contourcarpet"
           }
          ],
          "heatmap": [
           {
            "colorbar": {
             "outlinewidth": 0,
             "ticks": ""
            },
            "colorscale": [
             [
              0,
              "#0d0887"
             ],
             [
              0.1111111111111111,
              "#46039f"
             ],
             [
              0.2222222222222222,
              "#7201a8"
             ],
             [
              0.3333333333333333,
              "#9c179e"
             ],
             [
              0.4444444444444444,
              "#bd3786"
             ],
             [
              0.5555555555555556,
              "#d8576b"
             ],
             [
              0.6666666666666666,
              "#ed7953"
             ],
             [
              0.7777777777777778,
              "#fb9f3a"
             ],
             [
              0.8888888888888888,
              "#fdca26"
             ],
             [
              1,
              "#f0f921"
             ]
            ],
            "type": "heatmap"
           }
          ],
          "heatmapgl": [
           {
            "colorbar": {
             "outlinewidth": 0,
             "ticks": ""
            },
            "colorscale": [
             [
              0,
              "#0d0887"
             ],
             [
              0.1111111111111111,
              "#46039f"
             ],
             [
              0.2222222222222222,
              "#7201a8"
             ],
             [
              0.3333333333333333,
              "#9c179e"
             ],
             [
              0.4444444444444444,
              "#bd3786"
             ],
             [
              0.5555555555555556,
              "#d8576b"
             ],
             [
              0.6666666666666666,
              "#ed7953"
             ],
             [
              0.7777777777777778,
              "#fb9f3a"
             ],
             [
              0.8888888888888888,
              "#fdca26"
             ],
             [
              1,
              "#f0f921"
             ]
            ],
            "type": "heatmapgl"
           }
          ],
          "histogram": [
           {
            "marker": {
             "pattern": {
              "fillmode": "overlay",
              "size": 10,
              "solidity": 0.2
             }
            },
            "type": "histogram"
           }
          ],
          "histogram2d": [
           {
            "colorbar": {
             "outlinewidth": 0,
             "ticks": ""
            },
            "colorscale": [
             [
              0,
              "#0d0887"
             ],
             [
              0.1111111111111111,
              "#46039f"
             ],
             [
              0.2222222222222222,
              "#7201a8"
             ],
             [
              0.3333333333333333,
              "#9c179e"
             ],
             [
              0.4444444444444444,
              "#bd3786"
             ],
             [
              0.5555555555555556,
              "#d8576b"
             ],
             [
              0.6666666666666666,
              "#ed7953"
             ],
             [
              0.7777777777777778,
              "#fb9f3a"
             ],
             [
              0.8888888888888888,
              "#fdca26"
             ],
             [
              1,
              "#f0f921"
             ]
            ],
            "type": "histogram2d"
           }
          ],
          "histogram2dcontour": [
           {
            "colorbar": {
             "outlinewidth": 0,
             "ticks": ""
            },
            "colorscale": [
             [
              0,
              "#0d0887"
             ],
             [
              0.1111111111111111,
              "#46039f"
             ],
             [
              0.2222222222222222,
              "#7201a8"
             ],
             [
              0.3333333333333333,
              "#9c179e"
             ],
             [
              0.4444444444444444,
              "#bd3786"
             ],
             [
              0.5555555555555556,
              "#d8576b"
             ],
             [
              0.6666666666666666,
              "#ed7953"
             ],
             [
              0.7777777777777778,
              "#fb9f3a"
             ],
             [
              0.8888888888888888,
              "#fdca26"
             ],
             [
              1,
              "#f0f921"
             ]
            ],
            "type": "histogram2dcontour"
           }
          ],
          "mesh3d": [
           {
            "colorbar": {
             "outlinewidth": 0,
             "ticks": ""
            },
            "type": "mesh3d"
           }
          ],
          "parcoords": [
           {
            "line": {
             "colorbar": {
              "outlinewidth": 0,
              "ticks": ""
             }
            },
            "type": "parcoords"
           }
          ],
          "pie": [
           {
            "automargin": true,
            "type": "pie"
           }
          ],
          "scatter": [
           {
            "fillpattern": {
             "fillmode": "overlay",
             "size": 10,
             "solidity": 0.2
            },
            "type": "scatter"
           }
          ],
          "scatter3d": [
           {
            "line": {
             "colorbar": {
              "outlinewidth": 0,
              "ticks": ""
             }
            },
            "marker": {
             "colorbar": {
              "outlinewidth": 0,
              "ticks": ""
             }
            },
            "type": "scatter3d"
           }
          ],
          "scattercarpet": [
           {
            "marker": {
             "colorbar": {
              "outlinewidth": 0,
              "ticks": ""
             }
            },
            "type": "scattercarpet"
           }
          ],
          "scattergeo": [
           {
            "marker": {
             "colorbar": {
              "outlinewidth": 0,
              "ticks": ""
             }
            },
            "type": "scattergeo"
           }
          ],
          "scattergl": [
           {
            "marker": {
             "colorbar": {
              "outlinewidth": 0,
              "ticks": ""
             }
            },
            "type": "scattergl"
           }
          ],
          "scattermapbox": [
           {
            "marker": {
             "colorbar": {
              "outlinewidth": 0,
              "ticks": ""
             }
            },
            "type": "scattermapbox"
           }
          ],
          "scatterpolar": [
           {
            "marker": {
             "colorbar": {
              "outlinewidth": 0,
              "ticks": ""
             }
            },
            "type": "scatterpolar"
           }
          ],
          "scatterpolargl": [
           {
            "marker": {
             "colorbar": {
              "outlinewidth": 0,
              "ticks": ""
             }
            },
            "type": "scatterpolargl"
           }
          ],
          "scatterternary": [
           {
            "marker": {
             "colorbar": {
              "outlinewidth": 0,
              "ticks": ""
             }
            },
            "type": "scatterternary"
           }
          ],
          "surface": [
           {
            "colorbar": {
             "outlinewidth": 0,
             "ticks": ""
            },
            "colorscale": [
             [
              0,
              "#0d0887"
             ],
             [
              0.1111111111111111,
              "#46039f"
             ],
             [
              0.2222222222222222,
              "#7201a8"
             ],
             [
              0.3333333333333333,
              "#9c179e"
             ],
             [
              0.4444444444444444,
              "#bd3786"
             ],
             [
              0.5555555555555556,
              "#d8576b"
             ],
             [
              0.6666666666666666,
              "#ed7953"
             ],
             [
              0.7777777777777778,
              "#fb9f3a"
             ],
             [
              0.8888888888888888,
              "#fdca26"
             ],
             [
              1,
              "#f0f921"
             ]
            ],
            "type": "surface"
           }
          ],
          "table": [
           {
            "cells": {
             "fill": {
              "color": "#EBF0F8"
             },
             "line": {
              "color": "white"
             }
            },
            "header": {
             "fill": {
              "color": "#C8D4E3"
             },
             "line": {
              "color": "white"
             }
            },
            "type": "table"
           }
          ]
         },
         "layout": {
          "annotationdefaults": {
           "arrowcolor": "#2a3f5f",
           "arrowhead": 0,
           "arrowwidth": 1
          },
          "autotypenumbers": "strict",
          "coloraxis": {
           "colorbar": {
            "outlinewidth": 0,
            "ticks": ""
           }
          },
          "colorscale": {
           "diverging": [
            [
             0,
             "#8e0152"
            ],
            [
             0.1,
             "#c51b7d"
            ],
            [
             0.2,
             "#de77ae"
            ],
            [
             0.3,
             "#f1b6da"
            ],
            [
             0.4,
             "#fde0ef"
            ],
            [
             0.5,
             "#f7f7f7"
            ],
            [
             0.6,
             "#e6f5d0"
            ],
            [
             0.7,
             "#b8e186"
            ],
            [
             0.8,
             "#7fbc41"
            ],
            [
             0.9,
             "#4d9221"
            ],
            [
             1,
             "#276419"
            ]
           ],
           "sequential": [
            [
             0,
             "#0d0887"
            ],
            [
             0.1111111111111111,
             "#46039f"
            ],
            [
             0.2222222222222222,
             "#7201a8"
            ],
            [
             0.3333333333333333,
             "#9c179e"
            ],
            [
             0.4444444444444444,
             "#bd3786"
            ],
            [
             0.5555555555555556,
             "#d8576b"
            ],
            [
             0.6666666666666666,
             "#ed7953"
            ],
            [
             0.7777777777777778,
             "#fb9f3a"
            ],
            [
             0.8888888888888888,
             "#fdca26"
            ],
            [
             1,
             "#f0f921"
            ]
           ],
           "sequentialminus": [
            [
             0,
             "#0d0887"
            ],
            [
             0.1111111111111111,
             "#46039f"
            ],
            [
             0.2222222222222222,
             "#7201a8"
            ],
            [
             0.3333333333333333,
             "#9c179e"
            ],
            [
             0.4444444444444444,
             "#bd3786"
            ],
            [
             0.5555555555555556,
             "#d8576b"
            ],
            [
             0.6666666666666666,
             "#ed7953"
            ],
            [
             0.7777777777777778,
             "#fb9f3a"
            ],
            [
             0.8888888888888888,
             "#fdca26"
            ],
            [
             1,
             "#f0f921"
            ]
           ]
          },
          "colorway": [
           "#636efa",
           "#EF553B",
           "#00cc96",
           "#ab63fa",
           "#FFA15A",
           "#19d3f3",
           "#FF6692",
           "#B6E880",
           "#FF97FF",
           "#FECB52"
          ],
          "font": {
           "color": "#2a3f5f"
          },
          "geo": {
           "bgcolor": "white",
           "lakecolor": "white",
           "landcolor": "#E5ECF6",
           "showlakes": true,
           "showland": true,
           "subunitcolor": "white"
          },
          "hoverlabel": {
           "align": "left"
          },
          "hovermode": "closest",
          "mapbox": {
           "style": "light"
          },
          "paper_bgcolor": "white",
          "plot_bgcolor": "#E5ECF6",
          "polar": {
           "angularaxis": {
            "gridcolor": "white",
            "linecolor": "white",
            "ticks": ""
           },
           "bgcolor": "#E5ECF6",
           "radialaxis": {
            "gridcolor": "white",
            "linecolor": "white",
            "ticks": ""
           }
          },
          "scene": {
           "xaxis": {
            "backgroundcolor": "#E5ECF6",
            "gridcolor": "white",
            "gridwidth": 2,
            "linecolor": "white",
            "showbackground": true,
            "ticks": "",
            "zerolinecolor": "white"
           },
           "yaxis": {
            "backgroundcolor": "#E5ECF6",
            "gridcolor": "white",
            "gridwidth": 2,
            "linecolor": "white",
            "showbackground": true,
            "ticks": "",
            "zerolinecolor": "white"
           },
           "zaxis": {
            "backgroundcolor": "#E5ECF6",
            "gridcolor": "white",
            "gridwidth": 2,
            "linecolor": "white",
            "showbackground": true,
            "ticks": "",
            "zerolinecolor": "white"
           }
          },
          "shapedefaults": {
           "line": {
            "color": "#2a3f5f"
           }
          },
          "ternary": {
           "aaxis": {
            "gridcolor": "white",
            "linecolor": "white",
            "ticks": ""
           },
           "baxis": {
            "gridcolor": "white",
            "linecolor": "white",
            "ticks": ""
           },
           "bgcolor": "#E5ECF6",
           "caxis": {
            "gridcolor": "white",
            "linecolor": "white",
            "ticks": ""
           }
          },
          "title": {
           "x": 0.05
          },
          "xaxis": {
           "automargin": true,
           "gridcolor": "white",
           "linecolor": "white",
           "ticks": "",
           "title": {
            "standoff": 15
           },
           "zerolinecolor": "white",
           "zerolinewidth": 2
          },
          "yaxis": {
           "automargin": true,
           "gridcolor": "white",
           "linecolor": "white",
           "ticks": "",
           "title": {
            "standoff": 15
           },
           "zerolinecolor": "white",
           "zerolinewidth": 2
          }
         }
        },
        "title": {
         "text": "Trend of Sales Over Time",
         "x": 0.5
        },
        "xaxis": {
         "anchor": "y",
         "domain": [
          0,
          1
         ],
         "rangeslider": {
          "visible": true
         },
         "title": {
          "text": "date"
         }
        },
        "yaxis": {
         "anchor": "x",
         "domain": [
          0,
          1
         ],
         "title": {
          "text": "sales"
         }
        }
       }
      }
     },
     "metadata": {},
     "output_type": "display_data"
    }
   ],
   "source": [
    "# Group the data by date and calculate the total sales\n",
    "daily_sales = merged_eda_df.groupby('date')['sales'].sum().reset_index()\n",
    "\n",
    "# Create a time series plot with slider\n",
    "fig = px.line(daily_sales, x='date', y='sales')\n",
    "fig.update_xaxes(rangeslider_visible=True)\n",
    "fig.update_layout(title='Trend of Sales Over Time', title_x=0.5)\n",
    "fig.show()"
   ]
  },
  {
   "cell_type": "markdown",
   "metadata": {},
   "source": [
    "At this point, it would be difficult to dig into specific factors as many could be directly or indirectly influencing the sales behavious as there are both high and low peaks at various istances."
   ]
  },
  {
   "cell_type": "markdown",
   "metadata": {},
   "source": [
    "##### Oil Price Over Time"
   ]
  },
  {
   "cell_type": "code",
   "execution_count": null,
   "metadata": {},
   "outputs": [],
   "source": [
    "# Visualizing the 'dcoilwtico' column to confirm if the trend is consistent.\n",
    "\n",
    "fig = px.line(oil_df, x='date', y='dcoilwtico')\n",
    "fig.update_layout(title='Trend of Oil Prices Over Time', title_x=0.5, xaxis_title='Date', yaxis_title='Oil Price')\n",
    "fig.show()"
   ]
  },
  {
   "cell_type": "code",
   "execution_count": null,
   "metadata": {},
   "outputs": [],
   "source": [
    "# Lets plot the trend of oil Prices over time using a lineplot\n",
    "\n",
    "plt.figure(figsize=(12,6))\n",
    "\n",
    "sns.lineplot(x='date', y='oil_price', data = merged_eda_df)\n",
    "plt.title(\"Trend of Oil Price Over Time\", fontsize=(16) )\n",
    "plt.xlabel(\"Date\")\n",
    "plt.ylabel(\"Oil Price\")\n",
    "plt.show()"
   ]
  },
  {
   "cell_type": "markdown",
   "metadata": {},
   "source": [
    "This is the same case with the oil trend as it seems to have started off on a high but then gradually decreased at around 2015, maintaining this range till the end of 2017. Again a couple of factors may be at play given the fluctuations"
   ]
  },
  {
   "cell_type": "markdown",
   "metadata": {},
   "source": [
    "##### Count Of Sales By Store Type"
   ]
  },
  {
   "cell_type": "code",
   "execution_count": 8,
   "metadata": {},
   "outputs": [
    {
     "data": {
      "image/png": "[encoded data removed]",
      "text/plain": [
       "<Figure size 800x600 with 1 Axes>"
      ]
     },
     "metadata": {},
     "output_type": "display_data"
    }
   ],
   "source": [
    "# Calculate the total count and total sales per store type\n",
    "store_type_counts = merged_eda_df['store_type'].value_counts()\n",
    "store_type_sales = merged_eda_df.groupby('store_type')['sales'].sum()\n",
    "\n",
    "# Create a bar plot with \"viridis\" color palette for total count\n",
    "plt.figure(figsize=(8, 6))\n",
    "sns.barplot(x=store_type_counts.index, y=store_type_counts.values, palette=\"viridis\")\n",
    "plt.xlabel('Store Type')\n",
    "plt.ylabel('Count')\n",
    "plt.title('Total Count by Store Type')\n",
    "plt.show()"
   ]
  },
  {
   "cell_type": "markdown",
   "metadata": {},
   "source": [
    "Sales by store type shows a significance in the store type with store D taking the lead with over 100,000 counts followedby store C coming close by a little over 80,000 counts. This could be due to various reasons such as customer loyalty, shopping experience, popularity among other factors. On the other hand, store type A, B and E seem to be having quite a low moderate performance which again, could be attrbuted to other reasons."
   ]
  },
  {
   "cell_type": "markdown",
   "metadata": {},
   "source": [
    "##### Amount Of Sales By Store Type"
   ]
  },
  {
   "cell_type": "code",
   "execution_count": null,
   "metadata": {},
   "outputs": [],
   "source": [
    "# Order the store types by total sales\n",
    "store_type_sales = store_type_sales.sort_values(ascending=False)\n",
    "\n",
    "# Create a bar plot with \"viridis\" color palette for total sales\n",
    "plt.figure(figsize=(8, 8))\n",
    "sns.barplot(x=store_type_sales.index, y=store_type_sales.values, order=store_type_sales.index, palette=\"viridis\")\n",
    "plt.xlabel('Store Type')\n",
    "plt.ylabel('Total Sales')\n",
    "plt.title('Total Sales by Store Type')\n",
    "plt.show()"
   ]
  },
  {
   "cell_type": "markdown",
   "metadata": {},
   "source": [
    "When it comes to the overall sales, store type D takes the lead followed closely by store type A thereby having a significant impacton revenue in total. Store type C comes in followed by store type B and E with low sales volume. This indicates an area for improvement with the three stores as this would drag down the overall revenue."
   ]
  },
  {
   "cell_type": "markdown",
   "metadata": {},
   "source": [
    "#### Multivariate Analysis"
   ]
  },
  {
   "cell_type": "code",
   "execution_count": 9,
   "metadata": {},
   "outputs": [
    {
     "data": {
      "image/png": "[encoded data removed]",
      "text/plain": [
       "<Figure size 640x480 with 2 Axes>"
      ]
     },
     "metadata": {},
     "output_type": "display_data"
    }
   ],
   "source": [
    "# Select numerical variables for correlation analysis\n",
    "numerical_variables = ['sales', 'transactions', 'dcoilwtico']\n",
    "\n",
    "# Compute correlation matrix\n",
    "corr_matrix = merged_eda_df[numerical_variables].corr()\n",
    "\n",
    "# Plot heatmap\n",
    "sns.heatmap(corr_matrix, annot=True, cmap='coolwarm')\n",
    "plt.title('Correlation Matrix')\n",
    "plt.show()"
   ]
  },
  {
   "cell_type": "markdown",
   "metadata": {},
   "source": [
    "- A correlation matrix is a square matrix showing the correlation coefficients between two variables. It is a table of correlation coefficients for a set of variables used to determine if a relationship exists between the variables. \n",
    "- The coefficient indicates both the strength of the relationship as well as the direction.  \n",
    "- Correlation values range from -1 to 1, where -1 signifies a perfect negative correlation, 1 signifies a perfect positive correlation, and 0 indicates no correlation. This matrix illustrates the relationships between variables, offering insights into their interactions:\n",
    "\n",
    "Sales and Transactions:\n",
    "A weak positive correlation of about 0.200 is observed between \"Sales\" and \"Transactions,\" suggesting a slight positive relationship. As the number of transactions increases, sales tend to increase slightly as well, though the correlation is not strong.\n",
    "\n",
    "Sales and Dcoilwito (Oil Prices):\n",
    "A weak negative correlation of approximately -0.062 is noted between \"Sales\" and \"Dcoilwito\" (Oil Prices). This indicates a minor negative relationship, where higher oil prices are slightly associated with a decrease in sales, but the correlation is not significant.\n",
    "\n",
    "Transactions and Dcoilwito (Oil Prices):\n",
    "A very weak negative correlation of around -0.017 is seen between \"Transactions\" and \"Dcoilwito\" (Oil Prices). This suggests almost no relationship between the number of transactions and oil prices, indicating that fluctuations in oil prices have minimal impact on transaction numbers.\n",
    "\n",
    "Overall, the low correlation values reflect weak relationships between these variables. Other factors not included in this matrix might also influence sales, transactions, and oil prices. Further investigation into additional variables is necessary for a more comprehensive understanding of their impacts."
   ]
  },
  {
   "cell_type": "code",
   "execution_count": 10,
   "metadata": {},
   "outputs": [
    {
     "data": {
      "image/png": "[encoded data removed]",
      "text/plain": [
       "<Figure size 750x750 with 12 Axes>"
      ]
     },
     "metadata": {},
     "output_type": "display_data"
    }
   ],
   "source": [
    "# Select numerical variables for correlation analysis\n",
    "numerical_variables = ['sales', 'transactions', 'dcoilwtico']\n",
    "\n",
    "# Plot scatter plot matrix\n",
    "sns.pairplot(merged_eda_df[numerical_variables])\n",
    "plt.show()"
   ]
  },
  {
   "cell_type": "markdown",
   "metadata": {},
   "source": [
    "The scatter plot matrix observations confirm the findings from the correlation matrix."
   ]
  },
  {
   "cell_type": "code",
   "execution_count": null,
   "metadata": {},
   "outputs": [],
   "source": [
    "# Define the columns to include in the correlation analysis\n",
    "\n",
    "multivariate_columns = ['sales', 'transactions', 'cluster', 'onpromotion',\"oil_price\"]\n",
    "# Calculate the correlation matrix\n",
    "corr = merged_eda_df[multivariate_columns].corr()\n",
    "\n",
    "# Plot a heatmap for the correlation matrix\n",
    "plt.figure(figsize=(12, 8))\n",
    "heatmap = sns.heatmap(data=corr, annot=True, cmap='Greens', fmt=\".2f\")\n",
    "plt.title(\"Correlation Matrix\")\n",
    "plt.show()"
   ]
  },
  {
   "cell_type": "markdown",
   "metadata": {},
   "source": [
    "### Analytical Questions"
   ]
  },
  {
   "cell_type": "markdown",
   "metadata": {},
   "source": [
    "#### 1. Is the train dataset complete (has all the required dates)?"
   ]
  },
  {
   "cell_type": "code",
   "execution_count": 31,
   "metadata": {},
   "outputs": [
    {
     "data": {
      "text/plain": [
       "'\\n# Ensure the date column is in datetime format\\ntrain_df[\\'date\\'] = pd.to_datetime(train_df[\\'date\\'])\\n\\n# Generate a full date range\\nfull_range = pd.date_range(start=train_df[\\'date\\'].min(), end=train_df[\\'date\\'].max())\\n\\n# Find the missing dates\\nmissing_dates = full_range.difference(train_df[\\'date\\'])\\n\\nprint(\"Missing Dates:\")\\nprint(missing_dates)\\n'"
      ]
     },
     "execution_count": 31,
     "metadata": {},
     "output_type": "execute_result"
    }
   ],
   "source": [
    "\n",
    "# Ensure the date column is in datetime format\n",
    "train_df['date'] = pd.to_datetime(train_df['date'])\n",
    "\n",
    "# Generate a full date range\n",
    "full_range = pd.date_range(start=train_df['date'].min(), end=train_df['date'].max())\n",
    "\n",
    "# Find the missing dates\n",
    "missing_dates = full_range.difference(train_df['date'])\n",
    "\n",
    "print(\"Missing Dates:\")\n",
    "print(missing_dates)\n"
   ]
  },
  {
   "cell_type": "code",
   "execution_count": null,
   "metadata": {},
   "outputs": [],
   "source": [
    "# Complete the missing dates in the train dataset\n",
    "# Create an index of the missing dates as a DatetimeIndex object\n",
    "missing_dates = pd.Index(['2013-12-25', '2014-12-25', '2015-12-25', '2016-12-25'], dtype='datetime64[ns]')\n",
    "\n",
    "# Create a DataFrame with the missing dates, using the 'date' column\n",
    "missing_data = pd.DataFrame({'date': missing_dates})\n",
    "\n",
    "# Concatenate the original train dataset and the missing data DataFrame\n",
    "# ignore_index=True ensures a new index is assigned to the resulting DataFrame\n",
    "train_df = pd.concat([train_df, missing_data], ignore_index=True)\n",
    "\n",
    "# Sort the DataFrame based on the 'date' column in ascending order\n",
    "train_df.sort_values('date', inplace=True)"
   ]
  },
  {
   "cell_type": "code",
   "execution_count": null,
   "metadata": {},
   "outputs": [],
   "source": [
    "# Check the completeness of the train dataset\n",
    "min_date = train_df['date'].min()\n",
    "max_date = train_df['date'].max()\n",
    "expected_dates = pd.date_range(start=min_date, end=max_date)\n",
    "\n",
    "missing_dates = expected_dates[~expected_dates.isin(train_df['date'])]\n",
    "\n",
    "if len(missing_dates) == 0:\n",
    "    print(\"The train dataset is complete. It includes all the required dates.\")\n",
    "else:\n",
    "    print(\"The train dataset is incomplete. The following dates are missing:\")\n",
    "    print(missing_dates)"
   ]
  },
  {
   "cell_type": "markdown",
   "metadata": {},
   "source": [
    "#### 2. Which dates have the lowest and highest sales for each year?"
   ]
  },
  {
   "cell_type": "code",
   "execution_count": 11,
   "metadata": {},
   "outputs": [
    {
     "name": "stdout",
     "output_type": "stream",
     "text": [
      "Dates with the lowest sales for each year:\n",
      " year\n",
      "2013   2013-01-01\n",
      "2014   2014-01-01\n",
      "2015   2015-01-01\n",
      "2016   2016-02-08\n",
      "2017   2017-01-02\n",
      "Name: date, dtype: datetime64[ns]\n",
      "==================================================\n",
      "Dates with the highest sales for each year:\n",
      " year\n",
      "2013   2013-12-31\n",
      "2014   2014-12-31\n",
      "2015   2015-12-31\n",
      "2016   2016-12-26\n",
      "2017   2017-08-15\n",
      "Name: date, dtype: datetime64[ns]\n"
     ]
    }
   ],
   "source": [
    "# Ensure the date column is in datetime format\n",
    "merged_eda_df['date'] = pd.to_datetime(merged_eda_df['date'])\n",
    "\n",
    "# Extract year from date\n",
    "merged_eda_df['year'] = merged_eda_df['date'].dt.year\n",
    "\n",
    "# Find dates with the highest sales for each year\n",
    "lowest_sales_dates = merged_eda_df.groupby('year')['date'].min()\n",
    "highest_sales_dates = merged_eda_df.groupby('year')['date'].max()\n",
    "\n",
    "print(\"Dates with the lowest sales for each year:\\n\", lowest_sales_dates)\n",
    "print(\"=\"*50)\n",
    "print(\"Dates with the highest sales for each year:\\n\", highest_sales_dates)"
   ]
  },
  {
   "cell_type": "markdown",
   "metadata": {},
   "source": [
    "#### 3. Analyze the impact of the earthquake on sales"
   ]
  },
  {
   "cell_type": "code",
   "execution_count": 32,
   "metadata": {},
   "outputs": [
    {
     "data": {
      "text/plain": [
       "'\\n# Date the earthquake took place (April 16, 2016)\\n\\nearthquake_date = pd.to_datetime(\\'2016-04-16\\')\\n\\n# Filter the data for the period before and after the earthquake\\nsales_before_earthquake = train_df[train_df[\\'date\\'] < earthquake_date][\\'sales\\']\\nsales_after_earthquake = train_df[train_df[\\'date\\'] > earthquake_date][\\'sales\\']\\n\\n# Calculate total sales before and after the earthquake\\ntotal_sales_before = sales_before_earthquake.sum()\\ntotal_sales_after = sales_after_earthquake.sum()\\n\\nprint(f\"Total sales one month before the earthquake: {total_sales_before}\")\\nprint(f\"Total sales one month after the earthquake: {total_sales_after}\")\\n'"
      ]
     },
     "execution_count": 32,
     "metadata": {},
     "output_type": "execute_result"
    }
   ],
   "source": [
    "\n",
    "# Date the earthquake took place (April 16, 2016)\n",
    "\n",
    "earthquake_date = pd.to_datetime('2016-04-16')\n",
    "\n",
    "# Filter the data for the period before and after the earthquake\n",
    "sales_before_earthquake = train_df[train_df['date'] < earthquake_date]['sales']\n",
    "sales_after_earthquake = train_df[train_df['date'] > earthquake_date]['sales']\n",
    "\n",
    "# Calculate total sales before and after the earthquake\n",
    "total_sales_before = sales_before_earthquake.sum()\n",
    "total_sales_after = sales_after_earthquake.sum()\n",
    "\n",
    "print(f\"Total sales one month before the earthquake: {total_sales_before}\")\n",
    "print(f\"Total sales one month after the earthquake: {total_sales_after}\")\n"
   ]
  },
  {
   "cell_type": "code",
   "execution_count": null,
   "metadata": {},
   "outputs": [],
   "source": [
    "# Set the colormap to viridis\n",
    "colormap = cm.get_cmap('viridis')\n",
    "\n",
    "# Plot the sales before and after the earthquake\n",
    "plt.plot(sales_before_earthquake, color=colormap(0.2), label='Sales Before Earthquake')\n",
    "plt.plot(sales_after_earthquake, color=colormap(0.8), label='Sales After Earthquake')\n",
    "plt.xlabel('Time')\n",
    "plt.ylabel('Sales')\n",
    "plt.legend()\n",
    "plt.show()"
   ]
  },
  {
   "cell_type": "markdown",
   "metadata": {},
   "source": [
    "#### 4. Determine if certain groups of stores sell more products"
   ]
  },
  {
   "cell_type": "markdown",
   "metadata": {},
   "source": [
    "###### Average Sales By Store Type"
   ]
  },
  {
   "cell_type": "code",
   "execution_count": 12,
   "metadata": {},
   "outputs": [
    {
     "data": {
      "image/png": "[encoded data removed]",
      "text/plain": [
       "<Figure size 640x480 with 1 Axes>"
      ]
     },
     "metadata": {},
     "output_type": "display_data"
    }
   ],
   "source": [
    "# Group by store type and calculate the average sales\n",
    "\n",
    "average_sales_by_store_type = merged_eda_df.groupby('store_type')['sales'].mean()\n",
    "\n",
    "# Plot the average sales by store type\n",
    "colors = ['#003366', '#004d00', '#660000', '#4d004d', '#333333']\n",
    "plt.bar(average_sales_by_store_type.index, average_sales_by_store_type.values, color=colors)\n",
    "plt.xlabel('Store Type')\n",
    "plt.ylabel('Average Sales')\n",
    "plt.title('Average Sales by Store Type')\n",
    "plt.show()"
   ]
  },
  {
   "cell_type": "markdown",
   "metadata": {},
   "source": [
    "###### Average Sales By State"
   ]
  },
  {
   "cell_type": "code",
   "execution_count": null,
   "metadata": {},
   "outputs": [],
   "source": [
    "# Group by state and calculate the average sales\n",
    "average_sales_by_state = merged_eda_df.groupby('state')['sales'].mean()\n",
    "\n",
    "# Sort the data by average sales in descending order\n",
    "average_sales_by_state = average_sales_by_state.sort_values(ascending=True)\n",
    "\n",
    "# Plot the average sales by state\n",
    "plt.figure(figsize=(8, 8))\n",
    "plt.barh(average_sales_by_state.index, average_sales_by_state.values, color=colors)\n",
    "plt.xlabel('Average Sales')\n",
    "plt.ylabel('State')\n",
    "plt.title('Average Sales by State')\n",
    "plt.xticks(rotation=45)\n",
    "plt.show()"
   ]
  },
  {
   "cell_type": "markdown",
   "metadata": {},
   "source": [
    "Pichincha has the highest number of stores, primarily due to the presence of Quito, the capital city. Guayas is the second most populous state in terms of stores, with Guayaquil being a major city. Santo Domingo de los Tsachilas, Azuay, Manabi, Cotopaxi, Tungurahua, Los Rios, El Oro, Chimborazo, Imbabura, Bolivar, Pastaza, Santa Elena, and Loja have a moderate number of stores."
   ]
  },
  {
   "cell_type": "markdown",
   "metadata": {},
   "source": [
    "###### Average Sales By City"
   ]
  },
  {
   "cell_type": "code",
   "execution_count": null,
   "metadata": {},
   "outputs": [],
   "source": [
    "# Group by city and calculate the average sales\n",
    "average_sales_by_city = merged_eda_df.groupby('city')['sales'].mean()\n",
    "\n",
    "# Sort the data by average sales in ascending order\n",
    "average_sales_by_city = average_sales_by_city.sort_values(ascending=True)\n",
    "\n",
    "# Define colors for the bar plot using 'viridis' color palette\n",
    "colors = cm.viridis(np.linspace(0, 1, len(average_sales_by_city)))\n",
    "\n",
    "# Plot the average sales by city horizontally\n",
    "plt.figure(figsize=(8, 8))\n",
    "plt.barh(average_sales_by_city.index, average_sales_by_city.values, color=colors)\n",
    "plt.xlabel('Average Sales')\n",
    "plt.ylabel('City')\n",
    "plt.title('Average Sales by City')\n",
    "plt.show()"
   ]
  },
  {
   "cell_type": "markdown",
   "metadata": {},
   "source": [
    "Quito has the highest number of stores. Cayambe is the second most populated city in terms of stores followed by Ambato, Daule and Loja. Some cities have a moderate number of stores while others have a lower number of stores. Puyo has the lowest number of sales."
   ]
  },
  {
   "cell_type": "markdown",
   "metadata": {},
   "source": [
    "###### Average Sales By Cluster"
   ]
  },
  {
   "cell_type": "code",
   "execution_count": null,
   "metadata": {},
   "outputs": [],
   "source": [
    "# Group by cluster and calculate the average sales\n",
    "average_sales_by_cluster = merged_df.groupby('cluster')['sales'].mean()\n",
    "\n",
    "# Group by city and calculate the average sales\n",
    "average_sales_by_city = merged_df.groupby('city')['sales'].mean()\n",
    "\n",
    "# Group by state and calculate the average sales\n",
    "average_sales_by_state = merged_df.groupby('state')['sales'].mean()\n",
    "\n",
    "# Group by store type and calculate the average sales\n",
    "average_sales_by_store_type = merged_df.groupby('store_type')['sales'].mean()\n",
    "\n",
    "# Set the number of bars in each plot\n",
    "num_bars = len(average_sales_by_cluster)\n",
    "\n",
    "# Generate the colors using the viridis palette\n",
    "colors = plt.cm.viridis(np.linspace(0, 1, num_bars))"
   ]
  },
  {
   "cell_type": "code",
   "execution_count": null,
   "metadata": {},
   "outputs": [],
   "source": [
    "# Sort the data by average sales in descending order\n",
    "average_sales_by_cluster = average_sales_by_cluster.sort_values(ascending=False)\n",
    "\n",
    "# Plot the average sales by cluster\n",
    "plt.figure(figsize=(10, 8))\n",
    "plt.bar(average_sales_by_cluster.index, average_sales_by_cluster.values, color=colors)\n",
    "plt.xlabel('Cluster')\n",
    "plt.ylabel('Average Sales')\n",
    "plt.title('Average Sales by Cluster')\n",
    "\n",
    "# Set the x-tick labels as integers\n",
    "plt.xticks(range(1, len(average_sales_by_cluster.index) + 1))\n",
    "plt.show()"
   ]
  },
  {
   "cell_type": "markdown",
   "metadata": {},
   "source": [
    "#### 5. Are sales affected by promotions, oil prices and holidays?"
   ]
  },
  {
   "cell_type": "code",
   "execution_count": 13,
   "metadata": {},
   "outputs": [
    {
     "name": "stdout",
     "output_type": "stream",
     "text": [
      "Correlation between Sales and Promotions: 0.4180289197242383\n",
      "Correlation between Sales and Oil Prices: -0.061509152610695554\n",
      "Correlation between Sales and Holidays: -0.03706892930251701\n"
     ]
    }
   ],
   "source": [
    "# Calculate correlations between sales and promotions, oil prices, holidays\n",
    "\n",
    "corr_sales_promotions = merged_eda_df['sales'].corr(merged_eda_df['onpromotion'])\n",
    "corr_sales_oil = merged_eda_df['sales'].corr(merged_eda_df['dcoilwtico'])\n",
    "corr_sales_holidays = merged_eda_df['sales'].corr(merged_eda_df['holiday_type'] == 'Holiday')\n",
    "\n",
    "# Print the correlation values\n",
    "print(f\"Correlation between Sales and Promotions: {corr_sales_promotions}\")\n",
    "print(f\"Correlation between Sales and Oil Prices: {corr_sales_oil}\")\n",
    "print(f\"Correlation between Sales and Holidays: {corr_sales_holidays}\")"
   ]
  },
  {
   "cell_type": "code",
   "execution_count": null,
   "metadata": {},
   "outputs": [],
   "source": [
    "# Prepare data for plotting\n",
    "labels = ['Sales vs Promotions', 'Sales vs Oil Prices', 'Sales vs Holidays']\n",
    "correlations = [corr_sales_promotions, corr_sales_oil, corr_sales_holidays]\n",
    "\n",
    "# Create a DataFrame to sort the correlations\n",
    "correlation_df = pd.DataFrame({'Feature Pair': labels, 'Correlation': correlations})\n",
    "correlation_df = correlation_df.sort_values(by='Correlation', ascending=False).reset_index(drop=True)\n",
    "\n",
    "# Plot the correlations\n",
    "fig, ax = plt.subplots(figsize=(8, 5))  # Reduced figure size\n",
    "bars = sns.barplot(data=correlation_df, x='Correlation', y='Feature Pair', palette='viridis', orient='h', ax=ax)\n",
    "\n",
    "# Add value annotations\n",
    "for p in bars.patches:\n",
    "    bars.annotate(f'{p.get_width():.2f}', (p.get_width() + 0.02, p.get_y() + p.get_height()/2),\n",
    "                  ha='left', va='center', fontsize=10, color='black')\n",
    "\n",
    "# Add titles and labels\n",
    "plt.title('Correlation between Sales and Various Factors', fontsize=14)\n",
    "plt.xlabel('Correlation', fontsize=12)\n",
    "plt.ylabel('Feature Pair', fontsize=12)\n",
    "plt.grid(axis='x', linestyle='--', alpha=0.7)\n",
    "\n",
    "plt.show()"
   ]
  },
  {
   "cell_type": "markdown",
   "metadata": {},
   "source": [
    "Sales and Promotions: 0.418\n",
    "\n",
    "- This positive correlation suggests a moderate relationship between sales and promotions. As promotions increase, sales tend to increase as well. A correlation of 0.418 indicates that promotions have a noticeable, but not overwhelmingly strong, impact on sales.\n",
    "Sales and Oil Prices: -0.062\n",
    "\n",
    "Sales and Oil Prices: 0.062\n",
    "- This near-zero negative correlation implies a very weak inverse relationship between sales and oil prices. Oil prices have minimal impact on sales, with little to no meaningful correlation.\n",
    "Sales and Holidays: -0.037\n",
    "\n",
    "Sales and Holidays: 0.037\n",
    "Interpretation: This correlation is very close to zero and slightly negative, indicating an almost negligible relationship between sales and holidays. The presence of holidays has very little effect on sales based on this correlation."
   ]
  },
  {
   "cell_type": "markdown",
   "metadata": {},
   "source": [
    "#### 6. What analysis can we get from the date and its extractable features?"
   ]
  },
  {
   "cell_type": "code",
   "execution_count": 14,
   "metadata": {},
   "outputs": [],
   "source": [
    "# Extract features from the date\n",
    "\n",
    "merged_eda_df['year'] = merged_eda_df['date'].dt.year\n",
    "merged_eda_df['month'] = merged_eda_df['date'].dt.month\n",
    "merged_eda_df['day'] = merged_eda_df['date'].dt.day\n",
    "merged_eda_df['day_of_week'] = merged_eda_df['date'].dt.day_name()\n",
    "merged_eda_df['quarter'] = merged_eda_df['date'].dt.quarter\n",
    "merged_eda_df['week_of_year'] = merged_eda_df['date'].dt.isocalendar().week\n",
    "merged_eda_df['is_weekend'] = merged_eda_df['date'].dt.dayofweek >= 5"
   ]
  },
  {
   "cell_type": "markdown",
   "metadata": {},
   "source": [
    "##### Quarterly Trend"
   ]
  },
  {
   "cell_type": "code",
   "execution_count": 15,
   "metadata": {},
   "outputs": [
    {
     "data": {
      "image/png": "[encoded data removed]",
      "text/plain": [
       "<Figure size 1000x600 with 1 Axes>"
      ]
     },
     "metadata": {},
     "output_type": "display_data"
    }
   ],
   "source": [
    "# Average sales by quarter\n",
    "average_sales_by_quarter = merged_eda_df.groupby('quarter')['sales'].mean()\n",
    "\n",
    "sns.set_palette('viridis')\n",
    "colors = ['#003366', '#004d00', '#660000', '#4d004d', '#333333']\n",
    "plt.figure(figsize=(10, 6))\n",
    "plt.bar(average_sales_by_quarter.index, average_sales_by_quarter.values, color = colors)\n",
    "plt.xlabel('Quarter')\n",
    "plt.ylabel('Average Sales')\n",
    "plt.title('Average Sales by Quarter')\n",
    "plt.xticks(ticks=range(1, 5), labels=['Q1', 'Q2', 'Q3', 'Q4'])\n",
    "plt.show()\n"
   ]
  },
  {
   "cell_type": "markdown",
   "metadata": {},
   "source": [
    "##### Yearly Trend"
   ]
  },
  {
   "cell_type": "code",
   "execution_count": 16,
   "metadata": {},
   "outputs": [
    {
     "data": {
      "image/png": "[encoded data removed]",
      "text/plain": [
       "<Figure size 1000x600 with 1 Axes>"
      ]
     },
     "metadata": {},
     "output_type": "display_data"
    }
   ],
   "source": [
    "# Average sales by year\n",
    "average_sales_by_year = merged_eda_df.groupby('year')['sales'].mean()\n",
    "\n",
    "plt.figure(figsize=(10, 6))\n",
    "plt.plot(average_sales_by_year.index, average_sales_by_year.values, marker='o', color='blue')\n",
    "plt.xlabel('Year')\n",
    "plt.ylabel('Average Sales')\n",
    "plt.title('Average Sales by Year')\n",
    "plt.grid(False)\n",
    "plt.show()\n"
   ]
  },
  {
   "cell_type": "markdown",
   "metadata": {},
   "source": [
    "##### Monthly Trend"
   ]
  },
  {
   "cell_type": "code",
   "execution_count": 17,
   "metadata": {},
   "outputs": [
    {
     "data": {
      "image/png": "[encoded data removed]",
      "text/plain": [
       "<Figure size 1000x600 with 1 Axes>"
      ]
     },
     "metadata": {},
     "output_type": "display_data"
    }
   ],
   "source": [
    "\n",
    "# Average sales by month\n",
    "average_sales_by_month = merged_eda_df.groupby('month')['sales'].mean()\n",
    "\n",
    "\n",
    "# Calculating average sales by month\n",
    "average_sales_by_month = merged_eda_df.groupby('month')['sales'].mean().reset_index()\n",
    "\n",
    "plt.figure(figsize=(10, 6))\n",
    "# Using seaborn barplot\n",
    "sns.barplot(x='month', y='sales', data=average_sales_by_month, palette='viridis')\n",
    "\n",
    "# Customizing the plot\n",
    "plt.xlabel('Month')\n",
    "plt.ylabel('Average Sales')\n",
    "plt.title('Average Sales by Month')\n",
    "plt.xticks(ticks=range(12), labels=['Jan', 'Feb', 'Mar', 'Apr', 'May', 'Jun', 'Jul', 'Aug', 'Sep', 'Oct', 'Nov', 'Dec'])\n",
    "plt.show()\n"
   ]
  },
  {
   "cell_type": "code",
   "execution_count": null,
   "metadata": {},
   "outputs": [],
   "source": [
    "# Set distinct colors for each year\n",
    "colors = sns.color_palette(\"husl\", n_colors=len(merged_eda_df['year'].unique()))\n",
    "\n",
    "# Visualize the Monthly Sales Trend\n",
    "monthly_sales = merged_eda_df.groupby(['year', 'month'])['sales'].sum().reset_index()\n",
    "plt.figure(figsize=(10, 6))\n",
    "sns.lineplot(data=monthly_sales, x='month', y='sales', hue='year', palette=colors)\n",
    "plt.title('Monthly Sales Trend')\n",
    "plt.xlabel('Month')\n",
    "plt.ylabel('Total Sales')\n",
    "plt.xticks(range(1, 13), labels=['Jan', 'Feb', 'Mar', 'Apr', 'May', 'Jun', 'Jul', 'Aug', 'Sep', 'Oct', 'Nov', 'Dec'])\n",
    "plt.legend(title='Year')\n",
    "plt.show()"
   ]
  },
  {
   "cell_type": "markdown",
   "metadata": {},
   "source": [
    "The onset of the year seem to have the highest sales, that is, beginning of the year January and towards the end of the year December. The rest of the months seem to perform faily the same but with a slight dip during the month of June then picks up to perform moderately from there on."
   ]
  },
  {
   "cell_type": "markdown",
   "metadata": {},
   "source": [
    "##### Weekly Trend"
   ]
  },
  {
   "cell_type": "code",
   "execution_count": 18,
   "metadata": {},
   "outputs": [
    {
     "data": {
      "image/png": "[encoded data removed]",
      "text/plain": [
       "<Figure size 1000x600 with 1 Axes>"
      ]
     },
     "metadata": {},
     "output_type": "display_data"
    }
   ],
   "source": [
    "# Average sales by day of the week\n",
    "average_sales_by_day_of_week = merged_eda_df.groupby('day_of_week')['sales'].mean()\n",
    "ordered_days = ['Monday', 'Tuesday', 'Wednesday', 'Thursday', 'Friday', 'Saturday', 'Sunday']\n",
    "\n",
    "colors = ['#003366', '#004d00', '#660000', '#4d004d', '#333333']\n",
    "\n",
    "plt.figure(figsize=(10, 6))\n",
    "plt.bar(ordered_days, average_sales_by_day_of_week.reindex(ordered_days), color = colors)\n",
    "plt.xlabel('Day of the Week')\n",
    "plt.ylabel('Average Sales')\n",
    "plt.title('Average Sales by Day of the Week')\n",
    "plt.show()\n"
   ]
  },
  {
   "cell_type": "markdown",
   "metadata": {},
   "source": [
    "Similarly to the year, the days of the week seem to be also performing in the same manner with the highest sales being in the beginning and end of the week. There also seems to be a sliht pick during the mid week particularly on Wednesday."
   ]
  },
  {
   "cell_type": "markdown",
   "metadata": {},
   "source": [
    "##### Weekend/Weekday Trend"
   ]
  },
  {
   "cell_type": "code",
   "execution_count": 19,
   "metadata": {},
   "outputs": [
    {
     "data": {
      "image/png": "[encoded data removed]",
      "text/plain": [
       "<Figure size 800x600 with 1 Axes>"
      ]
     },
     "metadata": {},
     "output_type": "display_data"
    }
   ],
   "source": [
    "# Average sales by weekend/weekday\n",
    "average_sales_by_weekend = merged_eda_df.groupby('is_weekend')['sales'].mean()\n",
    "\n",
    "colors = ['#003366', '#004d00', '#660000', '#4d004d', '#333333']\n",
    "plt.figure(figsize=(8, 6))\n",
    "plt.bar(['Weekday', 'Weekend'], average_sales_by_weekend, color = colors)\n",
    "plt.xlabel('Day Type')\n",
    "plt.ylabel('Average Sales')\n",
    "plt.title('Average Sales by Weekday vs. Weekend')\n",
    "plt.show()\n"
   ]
  },
  {
   "cell_type": "markdown",
   "metadata": {},
   "source": [
    "There seems to be a slight to no difference when it comes to the average weekday sales and the average weekend sales"
   ]
  },
  {
   "cell_type": "markdown",
   "metadata": {},
   "source": [
    "#### 7. Are there certain product families types that exhibit higher sales performance?"
   ]
  },
  {
   "cell_type": "code",
   "execution_count": 20,
   "metadata": {},
   "outputs": [
    {
     "data": {
      "image/png": "[encoded data removed]",
      "text/plain": [
       "<Figure size 1200x600 with 1 Axes>"
      ]
     },
     "metadata": {},
     "output_type": "display_data"
    }
   ],
   "source": [
    "# Group the data by product family and sales\n",
    "family_sales = merged_eda_df.groupby('family')['sales'].sum().sort_values(ascending=False)\n",
    "\n",
    "# Select the top 10 product families\n",
    "top_10_families = family_sales.head(10)\n",
    "\n",
    "# Plot the family groups\n",
    "plt.figure(figsize=(12, 6))\n",
    "sns.barplot(x=top_10_families.index, y=top_10_families.values, palette='viridis')\n",
    "plt.xlabel('Product Family')\n",
    "plt.ylabel('Total Sales')\n",
    "plt.title('Total Sales by Product Family (Top 10)')\n",
    "plt.xticks(rotation=45, ha='right')\n",
    "plt.show()"
   ]
  },
  {
   "cell_type": "markdown",
   "metadata": {},
   "source": [
    "Groceries take the lead when it comes to total sales by product family followed by bevarages and produce. From the results we can conclude that any product family that has anything to do with food is doing well on average in comparison to non - food products."
   ]
  },
  {
   "cell_type": "markdown",
   "metadata": {},
   "source": [
    "#### 8. How does the sales trend vary across different store numbers?"
   ]
  },
  {
   "cell_type": "code",
   "execution_count": 21,
   "metadata": {},
   "outputs": [
    {
     "data": {
      "image/png": "[encoded data removed]",
      "text/plain": [
       "<Figure size 1000x600 with 1 Axes>"
      ]
     },
     "metadata": {},
     "output_type": "display_data"
    }
   ],
   "source": [
    "# Calculate average sales per store\n",
    "\n",
    "average_sales_by_store = merged_eda_df.groupby('store_nbr')['sales'].mean()\n",
    "\n",
    "plt.figure(figsize=(10, 6))\n",
    "\n",
    "# Plot average sales per store\n",
    "plt.bar(average_sales_by_store.index, average_sales_by_store.values, color = '#4d004d')\n",
    "plt.xlabel('Store Number')\n",
    "plt.ylabel('Average Sales')\n",
    "plt.title('Average Sales by Store Number')\n",
    "plt.xticks(rotation=45)\n",
    "plt.show()"
   ]
  },
  {
   "cell_type": "markdown",
   "metadata": {},
   "source": [
    "#### Q8. What is the difference between RMSLE, RMSE, MSE (or why is the MAE greater than all of them?)"
   ]
  },
  {
   "cell_type": "markdown",
   "metadata": {},
   "source": [
    "- RMSE (Root Mean Squared Error): Measures the square root of the average of the squared differences between predicted and actual values. It penalizes larger errors more than smaller ones because the errors are squared.\n",
    "\n",
    "- MSE (Mean Squared Error): Measures the average of the squared differences between predicted and actual values. Like RMSE, it penalizes larger errors more heavily.\n",
    "\n",
    "- MAE (Mean Absolute Error): Measures the average of the absolute differences between predicted and actual values. It is less sensitive to outliers compared to RMSE and MSE.\n",
    "\n",
    "Why MAE Is Greater Than All\n",
    "- MAE provides a linear penalty for errors, while MSE and RMSE square the errors, which makes them more sensitive to larger errors.\n",
    "- If the errors are small and relatively consistent, MAE can be greater than RMSE or MSE because the latter metrics are more affected by large deviations.\n",
    "- MAE does not exaggerate larger errors, so if there are a few large errors, MSE and RMSE might be smaller due to their penalization, whereas MAE remains steady.\n",
    "\n",
    "- MAE gives a straightforward measure of average error sizewhile MSE and RMSE provide a more severe penalty for larger errors.\n"
   ]
  },
  {
   "cell_type": "markdown",
   "metadata": {},
   "source": [
    "#### Q9.  Does the payment of wages in the public sector on the 15th and last days of the month influence the store sales"
   ]
  },
  {
   "cell_type": "code",
   "execution_count": null,
   "metadata": {},
   "outputs": [],
   "source": [
    "# Create a new column to identify if the date is the 15th or the last day of the month\n",
    "merged_eda_df['day'] = merged_eda_df['date'].dt.day\n",
    "merged_eda_df['last_day_of_month'] = merged_eda_df['date'] + pd.offsets.MonthEnd(0)\n",
    "merged_eda_df['is_wage_day'] = merged_eda_df.apply(lambda row: 1 if row['day'] == 15 or row['date'] == row['last_day_of_month'] else 0, axis=1)\n",
    "\n",
    "# Calculate correlation matrix\n",
    "correlation_matrix = merged_eda_df[['sales', 'is_wage_day']].corr()\n",
    "\n",
    "# Plot the heatmap\n",
    "plt.figure(figsize=(8, 6))\n",
    "sns.heatmap(correlation_matrix, annot=True, cmap='coolwarm', center=0, fmt='.2f', vmin=-1, vmax=1, linewidths=0.5)\n",
    "plt.title('Correlation Matrix Between Sales and Wage Days', fontsize=16)\n",
    "plt.show()\n",
    "\n",
    "# Print the correlation value\n",
    "correlation = correlation_matrix.loc['sales', 'is_wage_day']\n",
    "print(f\"Correlation between Sales and Wage Days: {correlation:.2f}\")\n"
   ]
  },
  {
   "cell_type": "markdown",
   "metadata": {},
   "source": [
    "Different stores seem to be performing differently and sales seem to be different with accordance to the store numbers"
   ]
  },
  {
   "cell_type": "markdown",
   "metadata": {},
   "source": [
    "### Hypothesis Testing"
   ]
  },
  {
   "cell_type": "code",
   "execution_count": 23,
   "metadata": {},
   "outputs": [
    {
     "name": "stdout",
     "output_type": "stream",
     "text": [
      "Hypothesis Testing for Promotional Activities:\n",
      "Null Hypothesis (H0): The promotional activities do not have a significant impact on store sales.\n",
      "Alternative Hypothesis (H1): The promotional activities have a significant impact on store sales.\n",
      "--------------------------------------------------\n",
      "Test Statistic: 68.21684266478506\n",
      "P-value: 0.0\n",
      "==================================================\n",
      "Reject the null hypothesis. Promotional activities have a significant impact on store sales at Corporation Favorita.\n"
     ]
    }
   ],
   "source": [
    "# Extract the relevant variables for the hypothesis test\n",
    "promo_sales = merged_eda_df[merged_eda_df['onpromotion'] == 1]['sales']\n",
    "non_promo_sales = merged_eda_df[merged_eda_df['onpromotion'] == 0]['sales']\n",
    "\n",
    "# Perform a two-sample t-test to compare sales between promotional and non-promotional periods\n",
    "t_statistic, p_value = ttest_ind(promo_sales, non_promo_sales)\n",
    "\n",
    "# Extract the relevant variables for the hypothesis test\n",
    "promo_sales = merged_eda_df[merged_eda_df['onpromotion'] == 1]['sales']\n",
    "non_promo_sales = merged_eda_df[merged_eda_df['onpromotion'] == 0]['sales']\n",
    "\n",
    "# Perform a two-sample t-test to compare sales between promotional and non-promotional periods\n",
    "t_statistic, p_value = ttest_ind(promo_sales, non_promo_sales)\n",
    "\n",
    "# Print the test result\n",
    "print(\"Hypothesis Testing for Promotional Activities:\")\n",
    "print(\"Null Hypothesis (H0): The promotional activities do not have a significant impact on store sales.\")\n",
    "print(\"Alternative Hypothesis (H1): The promotional activities have a significant impact on store sales.\")\n",
    "print(\"-\" * 50)\n",
    "print(\"Test Statistic:\", t_statistic)\n",
    "print(\"P-value:\", p_value)\n",
    "print(\"=\" * 50)\n",
    "if p_value < 0.05:\n",
    "    print(\"Reject the null hypothesis. Promotional activities have a significant impact on store sales at Corporation Favorita.\")\n",
    "else:\n",
    "    print(\"Fail to reject the null hypothesis. Promotional activities do not have a significant impact on store sales at Corporation Favorita.\")\n"
   ]
  },
  {
   "cell_type": "markdown",
   "metadata": {},
   "source": [
    "### Stationarity Test"
   ]
  },
  {
   "cell_type": "code",
   "execution_count": 4,
   "metadata": {},
   "outputs": [
    {
     "name": "stdout",
     "output_type": "stream",
     "text": [
      "ADF Test Statistics: -36.021872310135365\n",
      "P-value: 0.0\n",
      "Critical Values:\n",
      "   1%: -3.4303703113224735\n",
      "   5%: -2.861548977354518\n",
      "   10%: -2.566774778319785\n",
      "Reject the null hypothesis: The sales data is stationary.\n"
     ]
    }
   ],
   "source": [
    "\n",
    "# Statistical Test of the 'sales' column in the merged_eda_df using Adfuller\n",
    "sales_data = merged_eda_df['sales']\n",
    "\n",
    "# Perform ADF test\n",
    "result = adfuller(sales_data)\n",
    "\n",
    "# Extract the test statistics and p-value from the result\n",
    "test_statistic = result[0]\n",
    "p_value = result[1]\n",
    "critical_values = result[4]\n",
    "\n",
    "# Print the test statistics and critical values\n",
    "print(f\"ADF Test Statistics: {test_statistic}\")\n",
    "print(f\"P-value: {p_value}\")\n",
    "print(\"Critical Values:\")\n",
    "for key, value in critical_values.items():\n",
    "    print(f\"   {key}: {value}\")\n",
    "\n",
    "# Check the p-value against a significance level (e.g., 0.05)\n",
    "if p_value <= 0.05:\n",
    "    print(\"Reject the null hypothesis: The sales data is stationary.\")\n",
    "else:\n",
    "    print(\"Fail to reject the null hypothesis: The sales data is non-stationary.\")\n"
   ]
  },
  {
   "cell_type": "markdown",
   "metadata": {},
   "source": [
    "# Data Pre-Processing"
   ]
  },
  {
   "cell_type": "code",
   "execution_count": 24,
   "metadata": {},
   "outputs": [],
   "source": [
    "merged_model_df = merged_eda_df.copy()"
   ]
  },
  {
   "cell_type": "markdown",
   "metadata": {},
   "source": [
    "Getting An Overview Of The Data Before Modelling"
   ]
  },
  {
   "cell_type": "code",
   "execution_count": 25,
   "metadata": {},
   "outputs": [
    {
     "data": {
      "text/html": [
       "<div>\n",
       "<style scoped>\n",
       "    .dataframe tbody tr th:only-of-type {\n",
       "        vertical-align: middle;\n",
       "    }\n",
       "\n",
       "    .dataframe tbody tr th {\n",
       "        vertical-align: top;\n",
       "    }\n",
       "\n",
       "    .dataframe thead th {\n",
       "        text-align: right;\n",
       "    }\n",
       "</style>\n",
       "<table border=\"1\" class=\"dataframe\">\n",
       "  <thead>\n",
       "    <tr style=\"text-align: right;\">\n",
       "      <th></th>\n",
       "      <th>id</th>\n",
       "      <th>date</th>\n",
       "      <th>store_nbr</th>\n",
       "      <th>family</th>\n",
       "      <th>sales</th>\n",
       "      <th>onpromotion</th>\n",
       "      <th>city</th>\n",
       "      <th>state</th>\n",
       "      <th>store_type</th>\n",
       "      <th>cluster</th>\n",
       "      <th>...</th>\n",
       "      <th>description</th>\n",
       "      <th>transferred</th>\n",
       "      <th>dcoilwtico</th>\n",
       "      <th>year</th>\n",
       "      <th>month</th>\n",
       "      <th>day</th>\n",
       "      <th>day_of_week</th>\n",
       "      <th>quarter</th>\n",
       "      <th>week_of_year</th>\n",
       "      <th>is_weekend</th>\n",
       "    </tr>\n",
       "  </thead>\n",
       "  <tbody>\n",
       "    <tr>\n",
       "      <th>0</th>\n",
       "      <td>561</td>\n",
       "      <td>2013-01-01</td>\n",
       "      <td>25</td>\n",
       "      <td>AUTOMOTIVE</td>\n",
       "      <td>0.0</td>\n",
       "      <td>0</td>\n",
       "      <td>Salinas</td>\n",
       "      <td>Santa Elena</td>\n",
       "      <td>D</td>\n",
       "      <td>1</td>\n",
       "      <td>...</td>\n",
       "      <td>Primer dia del ano</td>\n",
       "      <td>False</td>\n",
       "      <td>93.139999</td>\n",
       "      <td>2013</td>\n",
       "      <td>1</td>\n",
       "      <td>1</td>\n",
       "      <td>Tuesday</td>\n",
       "      <td>1</td>\n",
       "      <td>1</td>\n",
       "      <td>False</td>\n",
       "    </tr>\n",
       "    <tr>\n",
       "      <th>1</th>\n",
       "      <td>562</td>\n",
       "      <td>2013-01-01</td>\n",
       "      <td>25</td>\n",
       "      <td>BABY CARE</td>\n",
       "      <td>0.0</td>\n",
       "      <td>0</td>\n",
       "      <td>Salinas</td>\n",
       "      <td>Santa Elena</td>\n",
       "      <td>D</td>\n",
       "      <td>1</td>\n",
       "      <td>...</td>\n",
       "      <td>Primer dia del ano</td>\n",
       "      <td>False</td>\n",
       "      <td>93.139999</td>\n",
       "      <td>2013</td>\n",
       "      <td>1</td>\n",
       "      <td>1</td>\n",
       "      <td>Tuesday</td>\n",
       "      <td>1</td>\n",
       "      <td>1</td>\n",
       "      <td>False</td>\n",
       "    </tr>\n",
       "    <tr>\n",
       "      <th>2</th>\n",
       "      <td>563</td>\n",
       "      <td>2013-01-01</td>\n",
       "      <td>25</td>\n",
       "      <td>BEAUTY</td>\n",
       "      <td>2.0</td>\n",
       "      <td>0</td>\n",
       "      <td>Salinas</td>\n",
       "      <td>Santa Elena</td>\n",
       "      <td>D</td>\n",
       "      <td>1</td>\n",
       "      <td>...</td>\n",
       "      <td>Primer dia del ano</td>\n",
       "      <td>False</td>\n",
       "      <td>93.139999</td>\n",
       "      <td>2013</td>\n",
       "      <td>1</td>\n",
       "      <td>1</td>\n",
       "      <td>Tuesday</td>\n",
       "      <td>1</td>\n",
       "      <td>1</td>\n",
       "      <td>False</td>\n",
       "    </tr>\n",
       "    <tr>\n",
       "      <th>3</th>\n",
       "      <td>564</td>\n",
       "      <td>2013-01-01</td>\n",
       "      <td>25</td>\n",
       "      <td>BEVERAGES</td>\n",
       "      <td>810.0</td>\n",
       "      <td>0</td>\n",
       "      <td>Salinas</td>\n",
       "      <td>Santa Elena</td>\n",
       "      <td>D</td>\n",
       "      <td>1</td>\n",
       "      <td>...</td>\n",
       "      <td>Primer dia del ano</td>\n",
       "      <td>False</td>\n",
       "      <td>93.139999</td>\n",
       "      <td>2013</td>\n",
       "      <td>1</td>\n",
       "      <td>1</td>\n",
       "      <td>Tuesday</td>\n",
       "      <td>1</td>\n",
       "      <td>1</td>\n",
       "      <td>False</td>\n",
       "    </tr>\n",
       "    <tr>\n",
       "      <th>4</th>\n",
       "      <td>565</td>\n",
       "      <td>2013-01-01</td>\n",
       "      <td>25</td>\n",
       "      <td>BOOKS</td>\n",
       "      <td>0.0</td>\n",
       "      <td>0</td>\n",
       "      <td>Salinas</td>\n",
       "      <td>Santa Elena</td>\n",
       "      <td>D</td>\n",
       "      <td>1</td>\n",
       "      <td>...</td>\n",
       "      <td>Primer dia del ano</td>\n",
       "      <td>False</td>\n",
       "      <td>93.139999</td>\n",
       "      <td>2013</td>\n",
       "      <td>1</td>\n",
       "      <td>1</td>\n",
       "      <td>Tuesday</td>\n",
       "      <td>1</td>\n",
       "      <td>1</td>\n",
       "      <td>False</td>\n",
       "    </tr>\n",
       "  </tbody>\n",
       "</table>\n",
       "<p>5 rows × 24 columns</p>\n",
       "</div>"
      ],
      "text/plain": [
       "    id       date  store_nbr      family  sales  onpromotion     city  \\\n",
       "0  561 2013-01-01         25  AUTOMOTIVE    0.0            0  Salinas   \n",
       "1  562 2013-01-01         25   BABY CARE    0.0            0  Salinas   \n",
       "2  563 2013-01-01         25      BEAUTY    2.0            0  Salinas   \n",
       "3  564 2013-01-01         25   BEVERAGES  810.0            0  Salinas   \n",
       "4  565 2013-01-01         25       BOOKS    0.0            0  Salinas   \n",
       "\n",
       "         state store_type  cluster  ...         description transferred  \\\n",
       "0  Santa Elena          D        1  ...  Primer dia del ano       False   \n",
       "1  Santa Elena          D        1  ...  Primer dia del ano       False   \n",
       "2  Santa Elena          D        1  ...  Primer dia del ano       False   \n",
       "3  Santa Elena          D        1  ...  Primer dia del ano       False   \n",
       "4  Santa Elena          D        1  ...  Primer dia del ano       False   \n",
       "\n",
       "  dcoilwtico  year month  day  day_of_week  quarter  week_of_year  is_weekend  \n",
       "0  93.139999  2013     1    1      Tuesday        1             1       False  \n",
       "1  93.139999  2013     1    1      Tuesday        1             1       False  \n",
       "2  93.139999  2013     1    1      Tuesday        1             1       False  \n",
       "3  93.139999  2013     1    1      Tuesday        1             1       False  \n",
       "4  93.139999  2013     1    1      Tuesday        1             1       False  \n",
       "\n",
       "[5 rows x 24 columns]"
      ]
     },
     "execution_count": 25,
     "metadata": {},
     "output_type": "execute_result"
    }
   ],
   "source": [
    "merged_model_df.head()"
   ]
  },
  {
   "cell_type": "code",
   "execution_count": 26,
   "metadata": {},
   "outputs": [
    {
     "data": {
      "text/plain": [
       "id              0\n",
       "date            0\n",
       "store_nbr       0\n",
       "family          0\n",
       "sales           0\n",
       "onpromotion     0\n",
       "city            0\n",
       "state           0\n",
       "store_type      0\n",
       "cluster         0\n",
       "transactions    0\n",
       "holiday_type    0\n",
       "locale          0\n",
       "locale_name     0\n",
       "description     0\n",
       "transferred     0\n",
       "dcoilwtico      0\n",
       "year            0\n",
       "month           0\n",
       "day             0\n",
       "day_of_week     0\n",
       "quarter         0\n",
       "week_of_year    0\n",
       "is_weekend      0\n",
       "dtype: int64"
      ]
     },
     "execution_count": 26,
     "metadata": {},
     "output_type": "execute_result"
    }
   ],
   "source": [
    "merged_model_df.isna().sum()"
   ]
  },
  {
   "cell_type": "code",
   "execution_count": 28,
   "metadata": {},
   "outputs": [
    {
     "data": {
      "text/plain": [
       "Index(['id', 'date', 'store_nbr', 'family', 'sales', 'onpromotion', 'city',\n",
       "       'state', 'store_type', 'cluster', 'transactions', 'holiday_type',\n",
       "       'locale', 'locale_name', 'description', 'transferred', 'dcoilwtico',\n",
       "       'year', 'month', 'day', 'day_of_week', 'quarter', 'week_of_year',\n",
       "       'is_weekend'],\n",
       "      dtype='object')"
      ]
     },
     "execution_count": 28,
     "metadata": {},
     "output_type": "execute_result"
    }
   ],
   "source": [
    "merged_model_df.columns"
   ]
  },
  {
   "cell_type": "markdown",
   "metadata": {},
   "source": [
    "## Feature Engineering"
   ]
  },
  {
   "cell_type": "markdown",
   "metadata": {},
   "source": [
    "### Product Categorization"
   ]
  },
  {
   "cell_type": "code",
   "execution_count": 29,
   "metadata": {},
   "outputs": [
    {
     "data": {
      "text/plain": [
       "array(['AUTOMOTIVE', 'BABY CARE', 'BEAUTY', 'BEVERAGES', 'BOOKS',\n",
       "       'BREAD/BAKERY', 'CELEBRATION', 'CLEANING', 'DAIRY', 'DELI', 'EGGS',\n",
       "       'FROZEN FOODS', 'GROCERY I', 'GROCERY II', 'HARDWARE',\n",
       "       'HOME AND KITCHEN I', 'HOME AND KITCHEN II', 'HOME APPLIANCES',\n",
       "       'HOME CARE', 'LADIESWEAR', 'LAWN AND GARDEN', 'LINGERIE',\n",
       "       'LIQUOR,WINE,BEER', 'MAGAZINES', 'MEATS', 'PERSONAL CARE',\n",
       "       'PET SUPPLIES', 'PLAYERS AND ELECTRONICS', 'POULTRY',\n",
       "       'PREPARED FOODS', 'PRODUCE', 'SCHOOL AND OFFICE SUPPLIES',\n",
       "       'SEAFOOD'], dtype=object)"
      ]
     },
     "execution_count": 29,
     "metadata": {},
     "output_type": "execute_result"
    }
   ],
   "source": [
    "merged_model_df['family'].unique()"
   ]
  },
  {
   "cell_type": "code",
   "execution_count": 30,
   "metadata": {},
   "outputs": [
    {
     "data": {
      "text/html": [
       "<div>\n",
       "<style scoped>\n",
       "    .dataframe tbody tr th:only-of-type {\n",
       "        vertical-align: middle;\n",
       "    }\n",
       "\n",
       "    .dataframe tbody tr th {\n",
       "        vertical-align: top;\n",
       "    }\n",
       "\n",
       "    .dataframe thead th {\n",
       "        text-align: right;\n",
       "    }\n",
       "</style>\n",
       "<table border=\"1\" class=\"dataframe\">\n",
       "  <thead>\n",
       "    <tr style=\"text-align: right;\">\n",
       "      <th></th>\n",
       "      <th>id</th>\n",
       "      <th>date</th>\n",
       "      <th>store_nbr</th>\n",
       "      <th>family</th>\n",
       "      <th>sales</th>\n",
       "      <th>onpromotion</th>\n",
       "      <th>city</th>\n",
       "      <th>state</th>\n",
       "      <th>store_type</th>\n",
       "      <th>cluster</th>\n",
       "      <th>...</th>\n",
       "      <th>description</th>\n",
       "      <th>transferred</th>\n",
       "      <th>dcoilwtico</th>\n",
       "      <th>year</th>\n",
       "      <th>month</th>\n",
       "      <th>day</th>\n",
       "      <th>day_of_week</th>\n",
       "      <th>quarter</th>\n",
       "      <th>week_of_year</th>\n",
       "      <th>is_weekend</th>\n",
       "    </tr>\n",
       "  </thead>\n",
       "  <tbody>\n",
       "    <tr>\n",
       "      <th>0</th>\n",
       "      <td>561</td>\n",
       "      <td>2013-01-01</td>\n",
       "      <td>25</td>\n",
       "      <td>AUTOMOTIVE</td>\n",
       "      <td>0.0</td>\n",
       "      <td>0</td>\n",
       "      <td>Salinas</td>\n",
       "      <td>Santa Elena</td>\n",
       "      <td>D</td>\n",
       "      <td>1</td>\n",
       "      <td>...</td>\n",
       "      <td>Primer dia del ano</td>\n",
       "      <td>False</td>\n",
       "      <td>93.139999</td>\n",
       "      <td>2013</td>\n",
       "      <td>1</td>\n",
       "      <td>1</td>\n",
       "      <td>Tuesday</td>\n",
       "      <td>1</td>\n",
       "      <td>1</td>\n",
       "      <td>False</td>\n",
       "    </tr>\n",
       "    <tr>\n",
       "      <th>1</th>\n",
       "      <td>562</td>\n",
       "      <td>2013-01-01</td>\n",
       "      <td>25</td>\n",
       "      <td>PERSONAL &amp; BEAUTY CARE</td>\n",
       "      <td>0.0</td>\n",
       "      <td>0</td>\n",
       "      <td>Salinas</td>\n",
       "      <td>Santa Elena</td>\n",
       "      <td>D</td>\n",
       "      <td>1</td>\n",
       "      <td>...</td>\n",
       "      <td>Primer dia del ano</td>\n",
       "      <td>False</td>\n",
       "      <td>93.139999</td>\n",
       "      <td>2013</td>\n",
       "      <td>1</td>\n",
       "      <td>1</td>\n",
       "      <td>Tuesday</td>\n",
       "      <td>1</td>\n",
       "      <td>1</td>\n",
       "      <td>False</td>\n",
       "    </tr>\n",
       "    <tr>\n",
       "      <th>2</th>\n",
       "      <td>563</td>\n",
       "      <td>2013-01-01</td>\n",
       "      <td>25</td>\n",
       "      <td>PERSONAL &amp; BEAUTY CARE</td>\n",
       "      <td>2.0</td>\n",
       "      <td>0</td>\n",
       "      <td>Salinas</td>\n",
       "      <td>Santa Elena</td>\n",
       "      <td>D</td>\n",
       "      <td>1</td>\n",
       "      <td>...</td>\n",
       "      <td>Primer dia del ano</td>\n",
       "      <td>False</td>\n",
       "      <td>93.139999</td>\n",
       "      <td>2013</td>\n",
       "      <td>1</td>\n",
       "      <td>1</td>\n",
       "      <td>Tuesday</td>\n",
       "      <td>1</td>\n",
       "      <td>1</td>\n",
       "      <td>False</td>\n",
       "    </tr>\n",
       "    <tr>\n",
       "      <th>3</th>\n",
       "      <td>564</td>\n",
       "      <td>2013-01-01</td>\n",
       "      <td>25</td>\n",
       "      <td>FOOD &amp; BEVARAGES</td>\n",
       "      <td>810.0</td>\n",
       "      <td>0</td>\n",
       "      <td>Salinas</td>\n",
       "      <td>Santa Elena</td>\n",
       "      <td>D</td>\n",
       "      <td>1</td>\n",
       "      <td>...</td>\n",
       "      <td>Primer dia del ano</td>\n",
       "      <td>False</td>\n",
       "      <td>93.139999</td>\n",
       "      <td>2013</td>\n",
       "      <td>1</td>\n",
       "      <td>1</td>\n",
       "      <td>Tuesday</td>\n",
       "      <td>1</td>\n",
       "      <td>1</td>\n",
       "      <td>False</td>\n",
       "    </tr>\n",
       "    <tr>\n",
       "      <th>4</th>\n",
       "      <td>565</td>\n",
       "      <td>2013-01-01</td>\n",
       "      <td>25</td>\n",
       "      <td>STATIONERY SUPPLIES</td>\n",
       "      <td>0.0</td>\n",
       "      <td>0</td>\n",
       "      <td>Salinas</td>\n",
       "      <td>Santa Elena</td>\n",
       "      <td>D</td>\n",
       "      <td>1</td>\n",
       "      <td>...</td>\n",
       "      <td>Primer dia del ano</td>\n",
       "      <td>False</td>\n",
       "      <td>93.139999</td>\n",
       "      <td>2013</td>\n",
       "      <td>1</td>\n",
       "      <td>1</td>\n",
       "      <td>Tuesday</td>\n",
       "      <td>1</td>\n",
       "      <td>1</td>\n",
       "      <td>False</td>\n",
       "    </tr>\n",
       "  </tbody>\n",
       "</table>\n",
       "<p>5 rows × 24 columns</p>\n",
       "</div>"
      ],
      "text/plain": [
       "    id       date  store_nbr                  family  sales  onpromotion  \\\n",
       "0  561 2013-01-01         25              AUTOMOTIVE    0.0            0   \n",
       "1  562 2013-01-01         25  PERSONAL & BEAUTY CARE    0.0            0   \n",
       "2  563 2013-01-01         25  PERSONAL & BEAUTY CARE    2.0            0   \n",
       "3  564 2013-01-01         25        FOOD & BEVARAGES  810.0            0   \n",
       "4  565 2013-01-01         25     STATIONERY SUPPLIES    0.0            0   \n",
       "\n",
       "      city        state store_type  cluster  ...         description  \\\n",
       "0  Salinas  Santa Elena          D        1  ...  Primer dia del ano   \n",
       "1  Salinas  Santa Elena          D        1  ...  Primer dia del ano   \n",
       "2  Salinas  Santa Elena          D        1  ...  Primer dia del ano   \n",
       "3  Salinas  Santa Elena          D        1  ...  Primer dia del ano   \n",
       "4  Salinas  Santa Elena          D        1  ...  Primer dia del ano   \n",
       "\n",
       "  transferred dcoilwtico  year month  day  day_of_week  quarter  week_of_year  \\\n",
       "0       False  93.139999  2013     1    1      Tuesday        1             1   \n",
       "1       False  93.139999  2013     1    1      Tuesday        1             1   \n",
       "2       False  93.139999  2013     1    1      Tuesday        1             1   \n",
       "3       False  93.139999  2013     1    1      Tuesday        1             1   \n",
       "4       False  93.139999  2013     1    1      Tuesday        1             1   \n",
       "\n",
       "   is_weekend  \n",
       "0       False  \n",
       "1       False  \n",
       "2       False  \n",
       "3       False  \n",
       "4       False  \n",
       "\n",
       "[5 rows x 24 columns]"
      ]
     },
     "execution_count": 30,
     "metadata": {},
     "output_type": "execute_result"
    }
   ],
   "source": [
    "# Category lists for each product category\n",
    "food_bevarages = ['BEVERAGES', 'BREAD/BAKERY', 'DAIRY', 'DELI', 'EGGS', 'FROZEN FOODS', 'GROCERY I', 'GROCERY II', 'LIQUOR, WINE, BEER', 'MEATS', 'POULTRY', 'PREPARED FOODS', 'PRODUCE', 'SEAFOOD']\n",
    "household_items = ['HOME AND KITCHEN I', 'HOME AND KITCHEN II', 'HOME APPLIANCES', 'HOME CARE', 'CLEANING']\n",
    "clothing_accessories = ['LINGERIE', 'LADYSWARE']\n",
    "grocery_products = ['GROCERY I', 'GROCERY II']\n",
    "stationery_supplies = ['BOOKS', 'MAGAZINES','SCHOOL AND OFFICE SUPPLIES']\n",
    "beauty_care = ['BEAUTY', 'BABY CARE','PERSONAL CARE']\n",
    "electronics_hardware = ['PLAYERS AND ELECTRONICS','HARDWARE']\n",
    "pets_outdoor = ['LAWN AND GARDEN', 'PET SUPPLIES']\n",
    "automotive = ['AUTOMOTIVE']\n",
    "\n",
    "def categorize_family(family):\n",
    "    if family in food_bevarages:\n",
    "        return 'FOOD & BEVARAGES'\n",
    "    elif family in household_items:\n",
    "        return 'HOUSEHOLD ITEMS'\n",
    "    elif family in clothing_accessories:\n",
    "        return 'CLOTHING ACCESSORIES'\n",
    "    elif family in grocery_products:\n",
    "        return 'GROCERY'\n",
    "    elif family in stationery_supplies:\n",
    "        return 'STATIONERY SUPPLIES'\n",
    "    elif family in beauty_care:\n",
    "        return 'PERSONAL & BEAUTY CARE'\n",
    "    elif family in electronics_hardware:\n",
    "        return 'HARDWARE & ELECTRONICS'\n",
    "    elif family in pets_outdoor:\n",
    "        return 'PETS & OUTDOORS'\n",
    "    elif family in automotive:\n",
    "        return 'AUTOMOTIVE'\n",
    "    else:\n",
    "        return family\n",
    "\n",
    "# Apply the custom function to the 'family' column\n",
    "merged_model_df['family'] = merged_model_df['family'].apply(categorize_family)\n",
    "\n",
    "\n",
    "merged_model_df.head()"
   ]
  },
  {
   "cell_type": "code",
   "execution_count": 31,
   "metadata": {},
   "outputs": [
    {
     "data": {
      "text/plain": [
       "array(['AUTOMOTIVE', 'PERSONAL & BEAUTY CARE', 'FOOD & BEVARAGES',\n",
       "       'STATIONERY SUPPLIES', 'CELEBRATION', 'HOUSEHOLD ITEMS',\n",
       "       'HARDWARE & ELECTRONICS', 'LADIESWEAR', 'PETS & OUTDOORS',\n",
       "       'CLOTHING ACCESSORIES', 'LIQUOR,WINE,BEER'], dtype=object)"
      ]
     },
     "execution_count": 31,
     "metadata": {},
     "output_type": "execute_result"
    }
   ],
   "source": [
    "merged_model_df['family'].unique()"
   ]
  },
  {
   "cell_type": "markdown",
   "metadata": {},
   "source": [
    "Drop Unnecesary Columns"
   ]
  },
  {
   "cell_type": "code",
   "execution_count": 32,
   "metadata": {},
   "outputs": [
    {
     "data": {
      "text/plain": [
       "Index(['id', 'date', 'store_nbr', 'family', 'sales', 'onpromotion', 'city',\n",
       "       'state', 'store_type', 'cluster', 'transactions', 'holiday_type',\n",
       "       'locale', 'locale_name', 'description', 'transferred', 'dcoilwtico',\n",
       "       'year', 'month', 'day', 'day_of_week', 'quarter', 'week_of_year',\n",
       "       'is_weekend'],\n",
       "      dtype='object')"
      ]
     },
     "execution_count": 32,
     "metadata": {},
     "output_type": "execute_result"
    }
   ],
   "source": [
    "merged_model_df.columns"
   ]
  },
  {
   "cell_type": "code",
   "execution_count": null,
   "metadata": {},
   "outputs": [],
   "source": [
    "columns_to_drop = ['date','id', 'locale_name', 'description', 'transferred', 'state', 'city', 'is_weekend', 'week_of_year', 'day']\n",
    "\n",
    "merged_model_df = merged_model_df.drop(columns=columns_to_drop)\n",
    "\n",
    "merged_model_df.head()"
   ]
  },
  {
   "cell_type": "code",
   "execution_count": 35,
   "metadata": {},
   "outputs": [
    {
     "data": {
      "text/plain": [
       "Index(['store_nbr', 'family', 'sales', 'onpromotion', 'store_type', 'cluster',\n",
       "       'transactions', 'holiday_type', 'locale', 'dcoilwtico', 'year', 'month',\n",
       "       'day_of_week', 'quarter'],\n",
       "      dtype='object')"
      ]
     },
     "execution_count": 35,
     "metadata": {},
     "output_type": "execute_result"
    }
   ],
   "source": [
    "merged_model_df.columns"
   ]
  },
  {
   "cell_type": "markdown",
   "metadata": {},
   "source": [
    "Defining Numerical and Categorical Columns"
   ]
  },
  {
   "cell_type": "code",
   "execution_count": 36,
   "metadata": {},
   "outputs": [
    {
     "name": "stdout",
     "output_type": "stream",
     "text": [
      "<class 'pandas.core.frame.DataFrame'>\n",
      "RangeIndex: 322047 entries, 0 to 322046\n",
      "Data columns (total 14 columns):\n",
      " #   Column        Non-Null Count   Dtype  \n",
      "---  ------        --------------   -----  \n",
      " 0   store_nbr     322047 non-null  int64  \n",
      " 1   family        322047 non-null  object \n",
      " 2   sales         322047 non-null  float64\n",
      " 3   onpromotion   322047 non-null  int64  \n",
      " 4   store_type    322047 non-null  object \n",
      " 5   cluster       322047 non-null  int64  \n",
      " 6   transactions  322047 non-null  int64  \n",
      " 7   holiday_type  322047 non-null  object \n",
      " 8   locale        322047 non-null  object \n",
      " 9   dcoilwtico    322047 non-null  float64\n",
      " 10  year          322047 non-null  int32  \n",
      " 11  month         322047 non-null  int32  \n",
      " 12  day_of_week   322047 non-null  object \n",
      " 13  quarter       322047 non-null  int32  \n",
      "dtypes: float64(2), int32(3), int64(4), object(5)\n",
      "memory usage: 30.7+ MB\n"
     ]
    }
   ],
   "source": [
    "merged_model_df.info()"
   ]
  },
  {
   "cell_type": "markdown",
   "metadata": {},
   "source": [
    "### Feature Scaling"
   ]
  },
  {
   "cell_type": "code",
   "execution_count": 37,
   "metadata": {},
   "outputs": [
    {
     "data": {
      "text/html": [
       "<div>\n",
       "<style scoped>\n",
       "    .dataframe tbody tr th:only-of-type {\n",
       "        vertical-align: middle;\n",
       "    }\n",
       "\n",
       "    .dataframe tbody tr th {\n",
       "        vertical-align: top;\n",
       "    }\n",
       "\n",
       "    .dataframe thead th {\n",
       "        text-align: right;\n",
       "    }\n",
       "</style>\n",
       "<table border=\"1\" class=\"dataframe\">\n",
       "  <thead>\n",
       "    <tr style=\"text-align: right;\">\n",
       "      <th></th>\n",
       "      <th>store_nbr</th>\n",
       "      <th>family</th>\n",
       "      <th>sales</th>\n",
       "      <th>onpromotion</th>\n",
       "      <th>store_type</th>\n",
       "      <th>cluster</th>\n",
       "      <th>transactions</th>\n",
       "      <th>holiday_type</th>\n",
       "      <th>locale</th>\n",
       "      <th>dcoilwtico</th>\n",
       "      <th>year</th>\n",
       "      <th>month</th>\n",
       "      <th>day_of_week</th>\n",
       "      <th>quarter</th>\n",
       "    </tr>\n",
       "  </thead>\n",
       "  <tbody>\n",
       "    <tr>\n",
       "      <th>0</th>\n",
       "      <td>25</td>\n",
       "      <td>AUTOMOTIVE</td>\n",
       "      <td>-0.079081</td>\n",
       "      <td>0</td>\n",
       "      <td>D</td>\n",
       "      <td>1</td>\n",
       "      <td>-0.571556</td>\n",
       "      <td>Holiday</td>\n",
       "      <td>National</td>\n",
       "      <td>0.836415</td>\n",
       "      <td>2013</td>\n",
       "      <td>1</td>\n",
       "      <td>Tuesday</td>\n",
       "      <td>1</td>\n",
       "    </tr>\n",
       "    <tr>\n",
       "      <th>1</th>\n",
       "      <td>25</td>\n",
       "      <td>PERSONAL &amp; BEAUTY CARE</td>\n",
       "      <td>-0.079081</td>\n",
       "      <td>0</td>\n",
       "      <td>D</td>\n",
       "      <td>1</td>\n",
       "      <td>-0.571556</td>\n",
       "      <td>Holiday</td>\n",
       "      <td>National</td>\n",
       "      <td>0.836415</td>\n",
       "      <td>2013</td>\n",
       "      <td>1</td>\n",
       "      <td>Tuesday</td>\n",
       "      <td>1</td>\n",
       "    </tr>\n",
       "    <tr>\n",
       "      <th>2</th>\n",
       "      <td>25</td>\n",
       "      <td>PERSONAL &amp; BEAUTY CARE</td>\n",
       "      <td>-0.070757</td>\n",
       "      <td>0</td>\n",
       "      <td>D</td>\n",
       "      <td>1</td>\n",
       "      <td>-0.571556</td>\n",
       "      <td>Holiday</td>\n",
       "      <td>National</td>\n",
       "      <td>0.836415</td>\n",
       "      <td>2013</td>\n",
       "      <td>1</td>\n",
       "      <td>Tuesday</td>\n",
       "      <td>1</td>\n",
       "    </tr>\n",
       "    <tr>\n",
       "      <th>3</th>\n",
       "      <td>25</td>\n",
       "      <td>FOOD &amp; BEVARAGES</td>\n",
       "      <td>3.292260</td>\n",
       "      <td>0</td>\n",
       "      <td>D</td>\n",
       "      <td>1</td>\n",
       "      <td>-0.571556</td>\n",
       "      <td>Holiday</td>\n",
       "      <td>National</td>\n",
       "      <td>0.836415</td>\n",
       "      <td>2013</td>\n",
       "      <td>1</td>\n",
       "      <td>Tuesday</td>\n",
       "      <td>1</td>\n",
       "    </tr>\n",
       "    <tr>\n",
       "      <th>4</th>\n",
       "      <td>25</td>\n",
       "      <td>STATIONERY SUPPLIES</td>\n",
       "      <td>-0.079081</td>\n",
       "      <td>0</td>\n",
       "      <td>D</td>\n",
       "      <td>1</td>\n",
       "      <td>-0.571556</td>\n",
       "      <td>Holiday</td>\n",
       "      <td>National</td>\n",
       "      <td>0.836415</td>\n",
       "      <td>2013</td>\n",
       "      <td>1</td>\n",
       "      <td>Tuesday</td>\n",
       "      <td>1</td>\n",
       "    </tr>\n",
       "  </tbody>\n",
       "</table>\n",
       "</div>"
      ],
      "text/plain": [
       "   store_nbr                  family     sales  onpromotion store_type  \\\n",
       "0         25              AUTOMOTIVE -0.079081            0          D   \n",
       "1         25  PERSONAL & BEAUTY CARE -0.079081            0          D   \n",
       "2         25  PERSONAL & BEAUTY CARE -0.070757            0          D   \n",
       "3         25        FOOD & BEVARAGES  3.292260            0          D   \n",
       "4         25     STATIONERY SUPPLIES -0.079081            0          D   \n",
       "\n",
       "   cluster  transactions holiday_type    locale  dcoilwtico  year  month  \\\n",
       "0        1     -0.571556      Holiday  National    0.836415  2013      1   \n",
       "1        1     -0.571556      Holiday  National    0.836415  2013      1   \n",
       "2        1     -0.571556      Holiday  National    0.836415  2013      1   \n",
       "3        1     -0.571556      Holiday  National    0.836415  2013      1   \n",
       "4        1     -0.571556      Holiday  National    0.836415  2013      1   \n",
       "\n",
       "  day_of_week  quarter  \n",
       "0     Tuesday        1  \n",
       "1     Tuesday        1  \n",
       "2     Tuesday        1  \n",
       "3     Tuesday        1  \n",
       "4     Tuesday        1  "
      ]
     },
     "execution_count": 37,
     "metadata": {},
     "output_type": "execute_result"
    }
   ],
   "source": [
    "# Scaling Numeric Variables (Min-Max Scaling)\n",
    "# create an instance of StandardScaler\n",
    "scaler = RobustScaler()\n",
    "\n",
    "# select numerical columns\n",
    "numerical_columns = ['sales', 'transactions', 'dcoilwtico']\n",
    "\n",
    "# fit and transform the numerical columns\n",
    "merged_model_df[numerical_columns] = scaler.fit_transform(merged_model_df[numerical_columns])\n",
    "\n",
    "# Display the updated dataframe\n",
    "merged_model_df.head()"
   ]
  },
  {
   "cell_type": "markdown",
   "metadata": {},
   "source": [
    "### Encoding Categorical Data"
   ]
  },
  {
   "cell_type": "code",
   "execution_count": 38,
   "metadata": {},
   "outputs": [
    {
     "data": {
      "text/html": [
       "<div>\n",
       "<style scoped>\n",
       "    .dataframe tbody tr th:only-of-type {\n",
       "        vertical-align: middle;\n",
       "    }\n",
       "\n",
       "    .dataframe tbody tr th {\n",
       "        vertical-align: top;\n",
       "    }\n",
       "\n",
       "    .dataframe thead th {\n",
       "        text-align: right;\n",
       "    }\n",
       "</style>\n",
       "<table border=\"1\" class=\"dataframe\">\n",
       "  <thead>\n",
       "    <tr style=\"text-align: right;\">\n",
       "      <th></th>\n",
       "      <th>store_nbr</th>\n",
       "      <th>sales</th>\n",
       "      <th>onpromotion</th>\n",
       "      <th>cluster</th>\n",
       "      <th>transactions</th>\n",
       "      <th>dcoilwtico</th>\n",
       "      <th>year</th>\n",
       "      <th>month</th>\n",
       "      <th>quarter</th>\n",
       "      <th>family_AUTOMOTIVE</th>\n",
       "      <th>...</th>\n",
       "      <th>day_of_week_Friday</th>\n",
       "      <th>day_of_week_Monday</th>\n",
       "      <th>day_of_week_Thursday</th>\n",
       "      <th>day_of_week_Tuesday</th>\n",
       "      <th>day_of_week_Wednesday</th>\n",
       "      <th>store_type_A</th>\n",
       "      <th>store_type_B</th>\n",
       "      <th>store_type_C</th>\n",
       "      <th>store_type_D</th>\n",
       "      <th>store_type_E</th>\n",
       "    </tr>\n",
       "  </thead>\n",
       "  <tbody>\n",
       "    <tr>\n",
       "      <th>0</th>\n",
       "      <td>25</td>\n",
       "      <td>-0.079081</td>\n",
       "      <td>0</td>\n",
       "      <td>1</td>\n",
       "      <td>-0.571556</td>\n",
       "      <td>0.836415</td>\n",
       "      <td>2013</td>\n",
       "      <td>1</td>\n",
       "      <td>1</td>\n",
       "      <td>1.0</td>\n",
       "      <td>...</td>\n",
       "      <td>0.0</td>\n",
       "      <td>0.0</td>\n",
       "      <td>0.0</td>\n",
       "      <td>1.0</td>\n",
       "      <td>0.0</td>\n",
       "      <td>0.0</td>\n",
       "      <td>0.0</td>\n",
       "      <td>0.0</td>\n",
       "      <td>1.0</td>\n",
       "      <td>0.0</td>\n",
       "    </tr>\n",
       "    <tr>\n",
       "      <th>1</th>\n",
       "      <td>25</td>\n",
       "      <td>-0.079081</td>\n",
       "      <td>0</td>\n",
       "      <td>1</td>\n",
       "      <td>-0.571556</td>\n",
       "      <td>0.836415</td>\n",
       "      <td>2013</td>\n",
       "      <td>1</td>\n",
       "      <td>1</td>\n",
       "      <td>0.0</td>\n",
       "      <td>...</td>\n",
       "      <td>0.0</td>\n",
       "      <td>0.0</td>\n",
       "      <td>0.0</td>\n",
       "      <td>1.0</td>\n",
       "      <td>0.0</td>\n",
       "      <td>0.0</td>\n",
       "      <td>0.0</td>\n",
       "      <td>0.0</td>\n",
       "      <td>1.0</td>\n",
       "      <td>0.0</td>\n",
       "    </tr>\n",
       "    <tr>\n",
       "      <th>2</th>\n",
       "      <td>25</td>\n",
       "      <td>-0.070757</td>\n",
       "      <td>0</td>\n",
       "      <td>1</td>\n",
       "      <td>-0.571556</td>\n",
       "      <td>0.836415</td>\n",
       "      <td>2013</td>\n",
       "      <td>1</td>\n",
       "      <td>1</td>\n",
       "      <td>0.0</td>\n",
       "      <td>...</td>\n",
       "      <td>0.0</td>\n",
       "      <td>0.0</td>\n",
       "      <td>0.0</td>\n",
       "      <td>1.0</td>\n",
       "      <td>0.0</td>\n",
       "      <td>0.0</td>\n",
       "      <td>0.0</td>\n",
       "      <td>0.0</td>\n",
       "      <td>1.0</td>\n",
       "      <td>0.0</td>\n",
       "    </tr>\n",
       "    <tr>\n",
       "      <th>3</th>\n",
       "      <td>25</td>\n",
       "      <td>3.292260</td>\n",
       "      <td>0</td>\n",
       "      <td>1</td>\n",
       "      <td>-0.571556</td>\n",
       "      <td>0.836415</td>\n",
       "      <td>2013</td>\n",
       "      <td>1</td>\n",
       "      <td>1</td>\n",
       "      <td>0.0</td>\n",
       "      <td>...</td>\n",
       "      <td>0.0</td>\n",
       "      <td>0.0</td>\n",
       "      <td>0.0</td>\n",
       "      <td>1.0</td>\n",
       "      <td>0.0</td>\n",
       "      <td>0.0</td>\n",
       "      <td>0.0</td>\n",
       "      <td>0.0</td>\n",
       "      <td>1.0</td>\n",
       "      <td>0.0</td>\n",
       "    </tr>\n",
       "    <tr>\n",
       "      <th>4</th>\n",
       "      <td>25</td>\n",
       "      <td>-0.079081</td>\n",
       "      <td>0</td>\n",
       "      <td>1</td>\n",
       "      <td>-0.571556</td>\n",
       "      <td>0.836415</td>\n",
       "      <td>2013</td>\n",
       "      <td>1</td>\n",
       "      <td>1</td>\n",
       "      <td>0.0</td>\n",
       "      <td>...</td>\n",
       "      <td>0.0</td>\n",
       "      <td>0.0</td>\n",
       "      <td>0.0</td>\n",
       "      <td>1.0</td>\n",
       "      <td>0.0</td>\n",
       "      <td>0.0</td>\n",
       "      <td>0.0</td>\n",
       "      <td>0.0</td>\n",
       "      <td>1.0</td>\n",
       "      <td>0.0</td>\n",
       "    </tr>\n",
       "  </tbody>\n",
       "</table>\n",
       "<p>5 rows × 38 columns</p>\n",
       "</div>"
      ],
      "text/plain": [
       "   store_nbr     sales  onpromotion  cluster  transactions  dcoilwtico  year  \\\n",
       "0         25 -0.079081            0        1     -0.571556    0.836415  2013   \n",
       "1         25 -0.079081            0        1     -0.571556    0.836415  2013   \n",
       "2         25 -0.070757            0        1     -0.571556    0.836415  2013   \n",
       "3         25  3.292260            0        1     -0.571556    0.836415  2013   \n",
       "4         25 -0.079081            0        1     -0.571556    0.836415  2013   \n",
       "\n",
       "   month  quarter  family_AUTOMOTIVE  ...  day_of_week_Friday  \\\n",
       "0      1        1                1.0  ...                 0.0   \n",
       "1      1        1                0.0  ...                 0.0   \n",
       "2      1        1                0.0  ...                 0.0   \n",
       "3      1        1                0.0  ...                 0.0   \n",
       "4      1        1                0.0  ...                 0.0   \n",
       "\n",
       "   day_of_week_Monday  day_of_week_Thursday  day_of_week_Tuesday  \\\n",
       "0                 0.0                   0.0                  1.0   \n",
       "1                 0.0                   0.0                  1.0   \n",
       "2                 0.0                   0.0                  1.0   \n",
       "3                 0.0                   0.0                  1.0   \n",
       "4                 0.0                   0.0                  1.0   \n",
       "\n",
       "   day_of_week_Wednesday  store_type_A  store_type_B  store_type_C  \\\n",
       "0                    0.0           0.0           0.0           0.0   \n",
       "1                    0.0           0.0           0.0           0.0   \n",
       "2                    0.0           0.0           0.0           0.0   \n",
       "3                    0.0           0.0           0.0           0.0   \n",
       "4                    0.0           0.0           0.0           0.0   \n",
       "\n",
       "   store_type_D  store_type_E  \n",
       "0           1.0           0.0  \n",
       "1           1.0           0.0  \n",
       "2           1.0           0.0  \n",
       "3           1.0           0.0  \n",
       "4           1.0           0.0  \n",
       "\n",
       "[5 rows x 38 columns]"
      ]
     },
     "execution_count": 38,
     "metadata": {},
     "output_type": "execute_result"
    }
   ],
   "source": [
    "# Define the categorical columns to encode\n",
    "categorical_columns = ['family', 'holiday_type', 'locale', 'day_of_week', 'store_type']\n",
    "\n",
    "# Perform one-hot encoding\n",
    "encoder = OneHotEncoder()\n",
    "one_hot_encoded_data = encoder.fit_transform(merged_model_df[categorical_columns])\n",
    "\n",
    "# Create column names for the one-hot encoded data\n",
    "column_names = encoder.get_feature_names_out(categorical_columns)\n",
    "\n",
    "# Convert the one-hot encoded data to a DataFrame\n",
    "merged_model_encoded = pd.DataFrame(one_hot_encoded_data.toarray(), columns=column_names)\n",
    "\n",
    "# Concatenate the original dataframe with the one-hot encoded data\n",
    "merged_model_encoded = pd.concat([merged_model_df, merged_model_encoded], axis=1)\n",
    "\n",
    "# Drop the original categorical columns\n",
    "merged_model_encoded.drop(categorical_columns, axis=1, inplace=True)\n",
    "\n",
    "# Print the head of the encoded DataFrame\n",
    "merged_model_encoded.head()"
   ]
  },
  {
   "cell_type": "markdown",
   "metadata": {},
   "source": [
    "### Test Dataset"
   ]
  },
  {
   "cell_type": "code",
   "execution_count": 39,
   "metadata": {},
   "outputs": [
    {
     "data": {
      "text/html": [
       "<div>\n",
       "<style scoped>\n",
       "    .dataframe tbody tr th:only-of-type {\n",
       "        vertical-align: middle;\n",
       "    }\n",
       "\n",
       "    .dataframe tbody tr th {\n",
       "        vertical-align: top;\n",
       "    }\n",
       "\n",
       "    .dataframe thead th {\n",
       "        text-align: right;\n",
       "    }\n",
       "</style>\n",
       "<table border=\"1\" class=\"dataframe\">\n",
       "  <thead>\n",
       "    <tr style=\"text-align: right;\">\n",
       "      <th></th>\n",
       "      <th>id</th>\n",
       "      <th>date</th>\n",
       "      <th>store_nbr</th>\n",
       "      <th>family</th>\n",
       "      <th>onpromotion</th>\n",
       "    </tr>\n",
       "  </thead>\n",
       "  <tbody>\n",
       "    <tr>\n",
       "      <th>0</th>\n",
       "      <td>3000888</td>\n",
       "      <td>2017-08-16</td>\n",
       "      <td>1</td>\n",
       "      <td>AUTOMOTIVE</td>\n",
       "      <td>0</td>\n",
       "    </tr>\n",
       "    <tr>\n",
       "      <th>1</th>\n",
       "      <td>3000889</td>\n",
       "      <td>2017-08-16</td>\n",
       "      <td>1</td>\n",
       "      <td>BABY CARE</td>\n",
       "      <td>0</td>\n",
       "    </tr>\n",
       "    <tr>\n",
       "      <th>2</th>\n",
       "      <td>3000890</td>\n",
       "      <td>2017-08-16</td>\n",
       "      <td>1</td>\n",
       "      <td>BEAUTY</td>\n",
       "      <td>2</td>\n",
       "    </tr>\n",
       "    <tr>\n",
       "      <th>3</th>\n",
       "      <td>3000891</td>\n",
       "      <td>2017-08-16</td>\n",
       "      <td>1</td>\n",
       "      <td>BEVERAGES</td>\n",
       "      <td>20</td>\n",
       "    </tr>\n",
       "    <tr>\n",
       "      <th>4</th>\n",
       "      <td>3000892</td>\n",
       "      <td>2017-08-16</td>\n",
       "      <td>1</td>\n",
       "      <td>BOOKS</td>\n",
       "      <td>0</td>\n",
       "    </tr>\n",
       "  </tbody>\n",
       "</table>\n",
       "</div>"
      ],
      "text/plain": [
       "        id        date  store_nbr      family  onpromotion\n",
       "0  3000888  2017-08-16          1  AUTOMOTIVE            0\n",
       "1  3000889  2017-08-16          1   BABY CARE            0\n",
       "2  3000890  2017-08-16          1      BEAUTY            2\n",
       "3  3000891  2017-08-16          1   BEVERAGES           20\n",
       "4  3000892  2017-08-16          1       BOOKS            0"
      ]
     },
     "execution_count": 39,
     "metadata": {},
     "output_type": "execute_result"
    }
   ],
   "source": [
    "test_df = pd.read_csv(\"test.csv\")\n",
    "test_df.head()"
   ]
  },
  {
   "cell_type": "code",
   "execution_count": 40,
   "metadata": {},
   "outputs": [
    {
     "data": {
      "text/html": [
       "<div>\n",
       "<style scoped>\n",
       "    .dataframe tbody tr th:only-of-type {\n",
       "        vertical-align: middle;\n",
       "    }\n",
       "\n",
       "    .dataframe tbody tr th {\n",
       "        vertical-align: top;\n",
       "    }\n",
       "\n",
       "    .dataframe thead th {\n",
       "        text-align: right;\n",
       "    }\n",
       "</style>\n",
       "<table border=\"1\" class=\"dataframe\">\n",
       "  <thead>\n",
       "    <tr style=\"text-align: right;\">\n",
       "      <th></th>\n",
       "      <th>id</th>\n",
       "      <th>date</th>\n",
       "      <th>store_nbr</th>\n",
       "      <th>family</th>\n",
       "      <th>onpromotion</th>\n",
       "      <th>year</th>\n",
       "      <th>month</th>\n",
       "      <th>day</th>\n",
       "    </tr>\n",
       "  </thead>\n",
       "  <tbody>\n",
       "    <tr>\n",
       "      <th>0</th>\n",
       "      <td>3000888</td>\n",
       "      <td>2017-08-16</td>\n",
       "      <td>1</td>\n",
       "      <td>AUTOMOTIVE</td>\n",
       "      <td>0</td>\n",
       "      <td>2017</td>\n",
       "      <td>8</td>\n",
       "      <td>16</td>\n",
       "    </tr>\n",
       "    <tr>\n",
       "      <th>1</th>\n",
       "      <td>3000889</td>\n",
       "      <td>2017-08-16</td>\n",
       "      <td>1</td>\n",
       "      <td>BABY CARE</td>\n",
       "      <td>0</td>\n",
       "      <td>2017</td>\n",
       "      <td>8</td>\n",
       "      <td>16</td>\n",
       "    </tr>\n",
       "    <tr>\n",
       "      <th>2</th>\n",
       "      <td>3000890</td>\n",
       "      <td>2017-08-16</td>\n",
       "      <td>1</td>\n",
       "      <td>BEAUTY</td>\n",
       "      <td>2</td>\n",
       "      <td>2017</td>\n",
       "      <td>8</td>\n",
       "      <td>16</td>\n",
       "    </tr>\n",
       "    <tr>\n",
       "      <th>3</th>\n",
       "      <td>3000891</td>\n",
       "      <td>2017-08-16</td>\n",
       "      <td>1</td>\n",
       "      <td>BEVERAGES</td>\n",
       "      <td>20</td>\n",
       "      <td>2017</td>\n",
       "      <td>8</td>\n",
       "      <td>16</td>\n",
       "    </tr>\n",
       "    <tr>\n",
       "      <th>4</th>\n",
       "      <td>3000892</td>\n",
       "      <td>2017-08-16</td>\n",
       "      <td>1</td>\n",
       "      <td>BOOKS</td>\n",
       "      <td>0</td>\n",
       "      <td>2017</td>\n",
       "      <td>8</td>\n",
       "      <td>16</td>\n",
       "    </tr>\n",
       "  </tbody>\n",
       "</table>\n",
       "</div>"
      ],
      "text/plain": [
       "        id       date  store_nbr      family  onpromotion  year  month  day\n",
       "0  3000888 2017-08-16          1  AUTOMOTIVE            0  2017      8   16\n",
       "1  3000889 2017-08-16          1   BABY CARE            0  2017      8   16\n",
       "2  3000890 2017-08-16          1      BEAUTY            2  2017      8   16\n",
       "3  3000891 2017-08-16          1   BEVERAGES           20  2017      8   16\n",
       "4  3000892 2017-08-16          1       BOOKS            0  2017      8   16"
      ]
     },
     "execution_count": 40,
     "metadata": {},
     "output_type": "execute_result"
    }
   ],
   "source": [
    "# Extracting Date Components\n",
    "\n",
    "test_df['date'] = pd.to_datetime(test_df['date'])\n",
    "test_df['year'] = test_df['date'].dt.year\n",
    "test_df['month'] = test_df['date'].dt.month\n",
    "test_df['day'] = test_df['date'].dt.day\n",
    "test_df.head()"
   ]
  },
  {
   "cell_type": "code",
   "execution_count": 41,
   "metadata": {},
   "outputs": [
    {
     "data": {
      "text/html": [
       "<div>\n",
       "<style scoped>\n",
       "    .dataframe tbody tr th:only-of-type {\n",
       "        vertical-align: middle;\n",
       "    }\n",
       "\n",
       "    .dataframe tbody tr th {\n",
       "        vertical-align: top;\n",
       "    }\n",
       "\n",
       "    .dataframe thead th {\n",
       "        text-align: right;\n",
       "    }\n",
       "</style>\n",
       "<table border=\"1\" class=\"dataframe\">\n",
       "  <thead>\n",
       "    <tr style=\"text-align: right;\">\n",
       "      <th></th>\n",
       "      <th>store_nbr</th>\n",
       "      <th>family</th>\n",
       "      <th>onpromotion</th>\n",
       "      <th>year</th>\n",
       "      <th>month</th>\n",
       "      <th>day</th>\n",
       "    </tr>\n",
       "  </thead>\n",
       "  <tbody>\n",
       "    <tr>\n",
       "      <th>0</th>\n",
       "      <td>1</td>\n",
       "      <td>AUTOMOTIVE</td>\n",
       "      <td>0</td>\n",
       "      <td>2017</td>\n",
       "      <td>8</td>\n",
       "      <td>16</td>\n",
       "    </tr>\n",
       "    <tr>\n",
       "      <th>1</th>\n",
       "      <td>1</td>\n",
       "      <td>BABY CARE</td>\n",
       "      <td>0</td>\n",
       "      <td>2017</td>\n",
       "      <td>8</td>\n",
       "      <td>16</td>\n",
       "    </tr>\n",
       "    <tr>\n",
       "      <th>2</th>\n",
       "      <td>1</td>\n",
       "      <td>BEAUTY</td>\n",
       "      <td>2</td>\n",
       "      <td>2017</td>\n",
       "      <td>8</td>\n",
       "      <td>16</td>\n",
       "    </tr>\n",
       "    <tr>\n",
       "      <th>3</th>\n",
       "      <td>1</td>\n",
       "      <td>BEVERAGES</td>\n",
       "      <td>20</td>\n",
       "      <td>2017</td>\n",
       "      <td>8</td>\n",
       "      <td>16</td>\n",
       "    </tr>\n",
       "    <tr>\n",
       "      <th>4</th>\n",
       "      <td>1</td>\n",
       "      <td>BOOKS</td>\n",
       "      <td>0</td>\n",
       "      <td>2017</td>\n",
       "      <td>8</td>\n",
       "      <td>16</td>\n",
       "    </tr>\n",
       "  </tbody>\n",
       "</table>\n",
       "</div>"
      ],
      "text/plain": [
       "   store_nbr      family  onpromotion  year  month  day\n",
       "0          1  AUTOMOTIVE            0  2017      8   16\n",
       "1          1   BABY CARE            0  2017      8   16\n",
       "2          1      BEAUTY            2  2017      8   16\n",
       "3          1   BEVERAGES           20  2017      8   16\n",
       "4          1       BOOKS            0  2017      8   16"
      ]
     },
     "execution_count": 41,
     "metadata": {},
     "output_type": "execute_result"
    }
   ],
   "source": [
    "# Dropping Unnecessary Columns\n",
    "\n",
    "columns_to_drop = ['date', 'id']\n",
    "test_df = test_df.drop(columns=columns_to_drop)\n",
    "test_df.head()"
   ]
  },
  {
   "cell_type": "code",
   "execution_count": 42,
   "metadata": {},
   "outputs": [
    {
     "data": {
      "text/html": [
       "<div>\n",
       "<style scoped>\n",
       "    .dataframe tbody tr th:only-of-type {\n",
       "        vertical-align: middle;\n",
       "    }\n",
       "\n",
       "    .dataframe tbody tr th {\n",
       "        vertical-align: top;\n",
       "    }\n",
       "\n",
       "    .dataframe thead th {\n",
       "        text-align: right;\n",
       "    }\n",
       "</style>\n",
       "<table border=\"1\" class=\"dataframe\">\n",
       "  <thead>\n",
       "    <tr style=\"text-align: right;\">\n",
       "      <th></th>\n",
       "      <th>store_nbr</th>\n",
       "      <th>family</th>\n",
       "      <th>onpromotion</th>\n",
       "      <th>year</th>\n",
       "      <th>month</th>\n",
       "      <th>day</th>\n",
       "    </tr>\n",
       "  </thead>\n",
       "  <tbody>\n",
       "    <tr>\n",
       "      <th>0</th>\n",
       "      <td>1</td>\n",
       "      <td>AUTOMOTIVE</td>\n",
       "      <td>0</td>\n",
       "      <td>2017</td>\n",
       "      <td>8</td>\n",
       "      <td>16</td>\n",
       "    </tr>\n",
       "    <tr>\n",
       "      <th>1</th>\n",
       "      <td>1</td>\n",
       "      <td>PERSONAL &amp; BEAUTY CARE</td>\n",
       "      <td>0</td>\n",
       "      <td>2017</td>\n",
       "      <td>8</td>\n",
       "      <td>16</td>\n",
       "    </tr>\n",
       "    <tr>\n",
       "      <th>2</th>\n",
       "      <td>1</td>\n",
       "      <td>PERSONAL &amp; BEAUTY CARE</td>\n",
       "      <td>2</td>\n",
       "      <td>2017</td>\n",
       "      <td>8</td>\n",
       "      <td>16</td>\n",
       "    </tr>\n",
       "    <tr>\n",
       "      <th>3</th>\n",
       "      <td>1</td>\n",
       "      <td>FOOD &amp; BEVARAGES</td>\n",
       "      <td>20</td>\n",
       "      <td>2017</td>\n",
       "      <td>8</td>\n",
       "      <td>16</td>\n",
       "    </tr>\n",
       "    <tr>\n",
       "      <th>4</th>\n",
       "      <td>1</td>\n",
       "      <td>STATIONERY SUPPLIES</td>\n",
       "      <td>0</td>\n",
       "      <td>2017</td>\n",
       "      <td>8</td>\n",
       "      <td>16</td>\n",
       "    </tr>\n",
       "  </tbody>\n",
       "</table>\n",
       "</div>"
      ],
      "text/plain": [
       "   store_nbr                  family  onpromotion  year  month  day\n",
       "0          1              AUTOMOTIVE            0  2017      8   16\n",
       "1          1  PERSONAL & BEAUTY CARE            0  2017      8   16\n",
       "2          1  PERSONAL & BEAUTY CARE            2  2017      8   16\n",
       "3          1        FOOD & BEVARAGES           20  2017      8   16\n",
       "4          1     STATIONERY SUPPLIES            0  2017      8   16"
      ]
     },
     "execution_count": 42,
     "metadata": {},
     "output_type": "execute_result"
    }
   ],
   "source": [
    "# Category lists for each product category\n",
    "\n",
    "food_bevarages = ['BEVERAGES', 'BREAD/BAKERY', 'DAIRY', 'DELI', 'EGGS', 'FROZEN FOODS', 'GROCERY I', 'GROCERY II', 'LIQUOR, WINE, BEER', 'MEATS', 'POULTRY', 'PREPARED FOODS', 'PRODUCE', 'SEAFOOD']\n",
    "household_items = ['HOME AND KITCHEN I', 'HOME AND KITCHEN II', 'HOME APPLIANCES', 'HOME CARE', 'CLEANING']\n",
    "clothing_accessories = ['LINGERIE', 'LADYSWARE']\n",
    "grocery_products = ['GROCERY I', 'GROCERY II']\n",
    "stationery_supplies = ['BOOKS', 'MAGAZINES','SCHOOL AND OFFICE SUPPLIES']\n",
    "beauty_care = ['BEAUTY', 'BABY CARE','PERSONAL CARE']\n",
    "electronics_hardware = ['PLAYERS AND ELECTRONICS','HARDWARE']\n",
    "pets_outdoor = ['LAWN AND GARDEN', 'PET SUPPLIES']\n",
    "automotive = ['AUTOMOTIVE']\n",
    "\n",
    "def categorize_family(family):\n",
    "    if family in food_bevarages:\n",
    "        return 'FOOD & BEVARAGES'\n",
    "    elif family in household_items:\n",
    "        return 'HOUSEHOLD ITEMS'\n",
    "    elif family in clothing_accessories:\n",
    "        return 'CLOTHING ACCESSORIES'\n",
    "    elif family in grocery_products:\n",
    "        return 'GROCERY'\n",
    "    elif family in stationery_supplies:\n",
    "        return 'STATIONERY SUPPLIES'\n",
    "    elif family in beauty_care:\n",
    "        return 'PERSONAL & BEAUTY CARE'\n",
    "    elif family in electronics_hardware:\n",
    "        return 'HARDWARE & ELECTRONICS'\n",
    "    elif family in pets_outdoor:\n",
    "        return 'PETS & OUTDOORS'\n",
    "    elif family in automotive:\n",
    "        return 'AUTOMOTIVE'\n",
    "    else:\n",
    "        return family\n",
    "\n",
    "# Apply the custom function to the 'family' column\n",
    "test_df['family'] = test_df['family'].apply(categorize_family)\n",
    "\n",
    "\n",
    "test_df.head()"
   ]
  },
  {
   "cell_type": "code",
   "execution_count": 43,
   "metadata": {},
   "outputs": [
    {
     "data": {
      "text/html": [
       "<div>\n",
       "<style scoped>\n",
       "    .dataframe tbody tr th:only-of-type {\n",
       "        vertical-align: middle;\n",
       "    }\n",
       "\n",
       "    .dataframe tbody tr th {\n",
       "        vertical-align: top;\n",
       "    }\n",
       "\n",
       "    .dataframe thead th {\n",
       "        text-align: right;\n",
       "    }\n",
       "</style>\n",
       "<table border=\"1\" class=\"dataframe\">\n",
       "  <thead>\n",
       "    <tr style=\"text-align: right;\">\n",
       "      <th></th>\n",
       "      <th>store_nbr</th>\n",
       "      <th>onpromotion</th>\n",
       "      <th>year</th>\n",
       "      <th>month</th>\n",
       "      <th>day</th>\n",
       "      <th>family_AUTOMOTIVE</th>\n",
       "      <th>family_CELEBRATION</th>\n",
       "      <th>family_CLOTHING ACCESSORIES</th>\n",
       "      <th>family_FOOD &amp; BEVARAGES</th>\n",
       "      <th>family_HARDWARE &amp; ELECTRONICS</th>\n",
       "      <th>family_HOUSEHOLD ITEMS</th>\n",
       "      <th>family_LADIESWEAR</th>\n",
       "      <th>family_LIQUOR,WINE,BEER</th>\n",
       "      <th>family_PERSONAL &amp; BEAUTY CARE</th>\n",
       "      <th>family_PETS &amp; OUTDOORS</th>\n",
       "      <th>family_STATIONERY SUPPLIES</th>\n",
       "    </tr>\n",
       "  </thead>\n",
       "  <tbody>\n",
       "    <tr>\n",
       "      <th>0</th>\n",
       "      <td>1</td>\n",
       "      <td>0</td>\n",
       "      <td>2017</td>\n",
       "      <td>8</td>\n",
       "      <td>16</td>\n",
       "      <td>1.0</td>\n",
       "      <td>0.0</td>\n",
       "      <td>0.0</td>\n",
       "      <td>0.0</td>\n",
       "      <td>0.0</td>\n",
       "      <td>0.0</td>\n",
       "      <td>0.0</td>\n",
       "      <td>0.0</td>\n",
       "      <td>0.0</td>\n",
       "      <td>0.0</td>\n",
       "      <td>0.0</td>\n",
       "    </tr>\n",
       "    <tr>\n",
       "      <th>1</th>\n",
       "      <td>1</td>\n",
       "      <td>0</td>\n",
       "      <td>2017</td>\n",
       "      <td>8</td>\n",
       "      <td>16</td>\n",
       "      <td>0.0</td>\n",
       "      <td>0.0</td>\n",
       "      <td>0.0</td>\n",
       "      <td>0.0</td>\n",
       "      <td>0.0</td>\n",
       "      <td>0.0</td>\n",
       "      <td>0.0</td>\n",
       "      <td>0.0</td>\n",
       "      <td>1.0</td>\n",
       "      <td>0.0</td>\n",
       "      <td>0.0</td>\n",
       "    </tr>\n",
       "    <tr>\n",
       "      <th>2</th>\n",
       "      <td>1</td>\n",
       "      <td>2</td>\n",
       "      <td>2017</td>\n",
       "      <td>8</td>\n",
       "      <td>16</td>\n",
       "      <td>0.0</td>\n",
       "      <td>0.0</td>\n",
       "      <td>0.0</td>\n",
       "      <td>0.0</td>\n",
       "      <td>0.0</td>\n",
       "      <td>0.0</td>\n",
       "      <td>0.0</td>\n",
       "      <td>0.0</td>\n",
       "      <td>1.0</td>\n",
       "      <td>0.0</td>\n",
       "      <td>0.0</td>\n",
       "    </tr>\n",
       "    <tr>\n",
       "      <th>3</th>\n",
       "      <td>1</td>\n",
       "      <td>20</td>\n",
       "      <td>2017</td>\n",
       "      <td>8</td>\n",
       "      <td>16</td>\n",
       "      <td>0.0</td>\n",
       "      <td>0.0</td>\n",
       "      <td>0.0</td>\n",
       "      <td>1.0</td>\n",
       "      <td>0.0</td>\n",
       "      <td>0.0</td>\n",
       "      <td>0.0</td>\n",
       "      <td>0.0</td>\n",
       "      <td>0.0</td>\n",
       "      <td>0.0</td>\n",
       "      <td>0.0</td>\n",
       "    </tr>\n",
       "    <tr>\n",
       "      <th>4</th>\n",
       "      <td>1</td>\n",
       "      <td>0</td>\n",
       "      <td>2017</td>\n",
       "      <td>8</td>\n",
       "      <td>16</td>\n",
       "      <td>0.0</td>\n",
       "      <td>0.0</td>\n",
       "      <td>0.0</td>\n",
       "      <td>0.0</td>\n",
       "      <td>0.0</td>\n",
       "      <td>0.0</td>\n",
       "      <td>0.0</td>\n",
       "      <td>0.0</td>\n",
       "      <td>0.0</td>\n",
       "      <td>0.0</td>\n",
       "      <td>1.0</td>\n",
       "    </tr>\n",
       "  </tbody>\n",
       "</table>\n",
       "</div>"
      ],
      "text/plain": [
       "   store_nbr  onpromotion  year  month  day  family_AUTOMOTIVE  \\\n",
       "0          1            0  2017      8   16                1.0   \n",
       "1          1            0  2017      8   16                0.0   \n",
       "2          1            2  2017      8   16                0.0   \n",
       "3          1           20  2017      8   16                0.0   \n",
       "4          1            0  2017      8   16                0.0   \n",
       "\n",
       "   family_CELEBRATION  family_CLOTHING ACCESSORIES  family_FOOD & BEVARAGES  \\\n",
       "0                 0.0                          0.0                      0.0   \n",
       "1                 0.0                          0.0                      0.0   \n",
       "2                 0.0                          0.0                      0.0   \n",
       "3                 0.0                          0.0                      1.0   \n",
       "4                 0.0                          0.0                      0.0   \n",
       "\n",
       "   family_HARDWARE & ELECTRONICS  family_HOUSEHOLD ITEMS  family_LADIESWEAR  \\\n",
       "0                            0.0                     0.0                0.0   \n",
       "1                            0.0                     0.0                0.0   \n",
       "2                            0.0                     0.0                0.0   \n",
       "3                            0.0                     0.0                0.0   \n",
       "4                            0.0                     0.0                0.0   \n",
       "\n",
       "   family_LIQUOR,WINE,BEER  family_PERSONAL & BEAUTY CARE  \\\n",
       "0                      0.0                            0.0   \n",
       "1                      0.0                            1.0   \n",
       "2                      0.0                            1.0   \n",
       "3                      0.0                            0.0   \n",
       "4                      0.0                            0.0   \n",
       "\n",
       "   family_PETS & OUTDOORS  family_STATIONERY SUPPLIES  \n",
       "0                     0.0                         0.0  \n",
       "1                     0.0                         0.0  \n",
       "2                     0.0                         0.0  \n",
       "3                     0.0                         0.0  \n",
       "4                     0.0                         1.0  "
      ]
     },
     "execution_count": 43,
     "metadata": {},
     "output_type": "execute_result"
    }
   ],
   "source": [
    "# Encoding The Categorical Variables\n",
    "# List of categorical columns to encode\n",
    "categorical_columns = ['family']\n",
    "\n",
    "# Create an instance of the OneHotEncoder\n",
    "encoder = OneHotEncoder()\n",
    "\n",
    "# Perform one-hot encoding on the 'test_df' data for the specified categorical columns\n",
    "one_hot_encoded_data = encoder.fit_transform(test_df[categorical_columns])\n",
    "\n",
    "# Get the column names for the one-hot encoded data\n",
    "column_names = encoder.get_feature_names_out(categorical_columns)\n",
    "\n",
    "# Create a DataFrame with the one-hot encoded data and corresponding column names\n",
    "test_df_encoded = pd.DataFrame(one_hot_encoded_data.toarray(), columns=column_names)\n",
    "\n",
    "# Concatenate the original 'test_df' with the one-hot encoded data\n",
    "test_df_encoded = pd.concat([test_df, test_df_encoded], axis=1)\n",
    "\n",
    "# Drop the original categorical columns since they have been encoded\n",
    "test_df_encoded.drop(categorical_columns, axis=1, inplace=True)\n",
    "\n",
    "# Display the updated 'test_df_encoded' DataFrame\n",
    "test_df_encoded.head()"
   ]
  },
  {
   "cell_type": "markdown",
   "metadata": {},
   "source": [
    "# Modelling"
   ]
  },
  {
   "cell_type": "markdown",
   "metadata": {},
   "source": [
    "### Data Splitting"
   ]
  },
  {
   "cell_type": "code",
   "execution_count": 44,
   "metadata": {},
   "outputs": [],
   "source": [
    "train_set = merged_model_encoded.loc[merged_model_encoded['year'].isin([2013, 2014, 2015, 2016])]\n",
    "eval_set = merged_model_encoded.loc[merged_model_encoded['year'] == 2017]"
   ]
  },
  {
   "cell_type": "code",
   "execution_count": 45,
   "metadata": {},
   "outputs": [
    {
     "data": {
      "text/plain": [
       "(284889, 38)"
      ]
     },
     "execution_count": 45,
     "metadata": {},
     "output_type": "execute_result"
    }
   ],
   "source": [
    "train_set.shape"
   ]
  },
  {
   "cell_type": "code",
   "execution_count": 48,
   "metadata": {},
   "outputs": [
    {
     "data": {
      "text/plain": [
       "(37158, 38)"
      ]
     },
     "execution_count": 48,
     "metadata": {},
     "output_type": "execute_result"
    }
   ],
   "source": [
    "eval_set.shape"
   ]
  },
  {
   "cell_type": "code",
   "execution_count": 49,
   "metadata": {},
   "outputs": [
    {
     "data": {
      "text/html": [
       "<div>\n",
       "<style scoped>\n",
       "    .dataframe tbody tr th:only-of-type {\n",
       "        vertical-align: middle;\n",
       "    }\n",
       "\n",
       "    .dataframe tbody tr th {\n",
       "        vertical-align: top;\n",
       "    }\n",
       "\n",
       "    .dataframe thead th {\n",
       "        text-align: right;\n",
       "    }\n",
       "</style>\n",
       "<table border=\"1\" class=\"dataframe\">\n",
       "  <thead>\n",
       "    <tr style=\"text-align: right;\">\n",
       "      <th></th>\n",
       "      <th>store_nbr</th>\n",
       "      <th>sales</th>\n",
       "      <th>onpromotion</th>\n",
       "      <th>cluster</th>\n",
       "      <th>transactions</th>\n",
       "      <th>dcoilwtico</th>\n",
       "      <th>year</th>\n",
       "      <th>month</th>\n",
       "      <th>quarter</th>\n",
       "      <th>family_AUTOMOTIVE</th>\n",
       "      <th>...</th>\n",
       "      <th>day_of_week_Friday</th>\n",
       "      <th>day_of_week_Monday</th>\n",
       "      <th>day_of_week_Thursday</th>\n",
       "      <th>day_of_week_Tuesday</th>\n",
       "      <th>day_of_week_Wednesday</th>\n",
       "      <th>store_type_A</th>\n",
       "      <th>store_type_B</th>\n",
       "      <th>store_type_C</th>\n",
       "      <th>store_type_D</th>\n",
       "      <th>store_type_E</th>\n",
       "    </tr>\n",
       "  </thead>\n",
       "  <tbody>\n",
       "    <tr>\n",
       "      <th>0</th>\n",
       "      <td>25</td>\n",
       "      <td>-0.079081</td>\n",
       "      <td>0</td>\n",
       "      <td>1</td>\n",
       "      <td>-0.571556</td>\n",
       "      <td>0.836415</td>\n",
       "      <td>2013</td>\n",
       "      <td>1</td>\n",
       "      <td>1</td>\n",
       "      <td>1.0</td>\n",
       "      <td>...</td>\n",
       "      <td>0.0</td>\n",
       "      <td>0.0</td>\n",
       "      <td>0.0</td>\n",
       "      <td>1.0</td>\n",
       "      <td>0.0</td>\n",
       "      <td>0.0</td>\n",
       "      <td>0.0</td>\n",
       "      <td>0.0</td>\n",
       "      <td>1.0</td>\n",
       "      <td>0.0</td>\n",
       "    </tr>\n",
       "    <tr>\n",
       "      <th>1</th>\n",
       "      <td>25</td>\n",
       "      <td>-0.079081</td>\n",
       "      <td>0</td>\n",
       "      <td>1</td>\n",
       "      <td>-0.571556</td>\n",
       "      <td>0.836415</td>\n",
       "      <td>2013</td>\n",
       "      <td>1</td>\n",
       "      <td>1</td>\n",
       "      <td>0.0</td>\n",
       "      <td>...</td>\n",
       "      <td>0.0</td>\n",
       "      <td>0.0</td>\n",
       "      <td>0.0</td>\n",
       "      <td>1.0</td>\n",
       "      <td>0.0</td>\n",
       "      <td>0.0</td>\n",
       "      <td>0.0</td>\n",
       "      <td>0.0</td>\n",
       "      <td>1.0</td>\n",
       "      <td>0.0</td>\n",
       "    </tr>\n",
       "    <tr>\n",
       "      <th>2</th>\n",
       "      <td>25</td>\n",
       "      <td>-0.070757</td>\n",
       "      <td>0</td>\n",
       "      <td>1</td>\n",
       "      <td>-0.571556</td>\n",
       "      <td>0.836415</td>\n",
       "      <td>2013</td>\n",
       "      <td>1</td>\n",
       "      <td>1</td>\n",
       "      <td>0.0</td>\n",
       "      <td>...</td>\n",
       "      <td>0.0</td>\n",
       "      <td>0.0</td>\n",
       "      <td>0.0</td>\n",
       "      <td>1.0</td>\n",
       "      <td>0.0</td>\n",
       "      <td>0.0</td>\n",
       "      <td>0.0</td>\n",
       "      <td>0.0</td>\n",
       "      <td>1.0</td>\n",
       "      <td>0.0</td>\n",
       "    </tr>\n",
       "    <tr>\n",
       "      <th>3</th>\n",
       "      <td>25</td>\n",
       "      <td>3.292260</td>\n",
       "      <td>0</td>\n",
       "      <td>1</td>\n",
       "      <td>-0.571556</td>\n",
       "      <td>0.836415</td>\n",
       "      <td>2013</td>\n",
       "      <td>1</td>\n",
       "      <td>1</td>\n",
       "      <td>0.0</td>\n",
       "      <td>...</td>\n",
       "      <td>0.0</td>\n",
       "      <td>0.0</td>\n",
       "      <td>0.0</td>\n",
       "      <td>1.0</td>\n",
       "      <td>0.0</td>\n",
       "      <td>0.0</td>\n",
       "      <td>0.0</td>\n",
       "      <td>0.0</td>\n",
       "      <td>1.0</td>\n",
       "      <td>0.0</td>\n",
       "    </tr>\n",
       "    <tr>\n",
       "      <th>4</th>\n",
       "      <td>25</td>\n",
       "      <td>-0.079081</td>\n",
       "      <td>0</td>\n",
       "      <td>1</td>\n",
       "      <td>-0.571556</td>\n",
       "      <td>0.836415</td>\n",
       "      <td>2013</td>\n",
       "      <td>1</td>\n",
       "      <td>1</td>\n",
       "      <td>0.0</td>\n",
       "      <td>...</td>\n",
       "      <td>0.0</td>\n",
       "      <td>0.0</td>\n",
       "      <td>0.0</td>\n",
       "      <td>1.0</td>\n",
       "      <td>0.0</td>\n",
       "      <td>0.0</td>\n",
       "      <td>0.0</td>\n",
       "      <td>0.0</td>\n",
       "      <td>1.0</td>\n",
       "      <td>0.0</td>\n",
       "    </tr>\n",
       "  </tbody>\n",
       "</table>\n",
       "<p>5 rows × 38 columns</p>\n",
       "</div>"
      ],
      "text/plain": [
       "   store_nbr     sales  onpromotion  cluster  transactions  dcoilwtico  year  \\\n",
       "0         25 -0.079081            0        1     -0.571556    0.836415  2013   \n",
       "1         25 -0.079081            0        1     -0.571556    0.836415  2013   \n",
       "2         25 -0.070757            0        1     -0.571556    0.836415  2013   \n",
       "3         25  3.292260            0        1     -0.571556    0.836415  2013   \n",
       "4         25 -0.079081            0        1     -0.571556    0.836415  2013   \n",
       "\n",
       "   month  quarter  family_AUTOMOTIVE  ...  day_of_week_Friday  \\\n",
       "0      1        1                1.0  ...                 0.0   \n",
       "1      1        1                0.0  ...                 0.0   \n",
       "2      1        1                0.0  ...                 0.0   \n",
       "3      1        1                0.0  ...                 0.0   \n",
       "4      1        1                0.0  ...                 0.0   \n",
       "\n",
       "   day_of_week_Monday  day_of_week_Thursday  day_of_week_Tuesday  \\\n",
       "0                 0.0                   0.0                  1.0   \n",
       "1                 0.0                   0.0                  1.0   \n",
       "2                 0.0                   0.0                  1.0   \n",
       "3                 0.0                   0.0                  1.0   \n",
       "4                 0.0                   0.0                  1.0   \n",
       "\n",
       "   day_of_week_Wednesday  store_type_A  store_type_B  store_type_C  \\\n",
       "0                    0.0           0.0           0.0           0.0   \n",
       "1                    0.0           0.0           0.0           0.0   \n",
       "2                    0.0           0.0           0.0           0.0   \n",
       "3                    0.0           0.0           0.0           0.0   \n",
       "4                    0.0           0.0           0.0           0.0   \n",
       "\n",
       "   store_type_D  store_type_E  \n",
       "0           1.0           0.0  \n",
       "1           1.0           0.0  \n",
       "2           1.0           0.0  \n",
       "3           1.0           0.0  \n",
       "4           1.0           0.0  \n",
       "\n",
       "[5 rows x 38 columns]"
      ]
     },
     "execution_count": 49,
     "metadata": {},
     "output_type": "execute_result"
    }
   ],
   "source": [
    "train_set.head()"
   ]
  },
  {
   "cell_type": "code",
   "execution_count": 50,
   "metadata": {},
   "outputs": [
    {
     "data": {
      "text/html": [
       "<div>\n",
       "<style scoped>\n",
       "    .dataframe tbody tr th:only-of-type {\n",
       "        vertical-align: middle;\n",
       "    }\n",
       "\n",
       "    .dataframe tbody tr th {\n",
       "        vertical-align: top;\n",
       "    }\n",
       "\n",
       "    .dataframe thead th {\n",
       "        text-align: right;\n",
       "    }\n",
       "</style>\n",
       "<table border=\"1\" class=\"dataframe\">\n",
       "  <thead>\n",
       "    <tr style=\"text-align: right;\">\n",
       "      <th></th>\n",
       "      <th>store_nbr</th>\n",
       "      <th>sales</th>\n",
       "      <th>onpromotion</th>\n",
       "      <th>cluster</th>\n",
       "      <th>transactions</th>\n",
       "      <th>dcoilwtico</th>\n",
       "      <th>year</th>\n",
       "      <th>month</th>\n",
       "      <th>quarter</th>\n",
       "      <th>family_AUTOMOTIVE</th>\n",
       "      <th>...</th>\n",
       "      <th>day_of_week_Friday</th>\n",
       "      <th>day_of_week_Monday</th>\n",
       "      <th>day_of_week_Thursday</th>\n",
       "      <th>day_of_week_Tuesday</th>\n",
       "      <th>day_of_week_Wednesday</th>\n",
       "      <th>store_type_A</th>\n",
       "      <th>store_type_B</th>\n",
       "      <th>store_type_C</th>\n",
       "      <th>store_type_D</th>\n",
       "      <th>store_type_E</th>\n",
       "    </tr>\n",
       "  </thead>\n",
       "  <tbody>\n",
       "    <tr>\n",
       "      <th>284889</th>\n",
       "      <td>1</td>\n",
       "      <td>-0.058270</td>\n",
       "      <td>0</td>\n",
       "      <td>13</td>\n",
       "      <td>-0.798748</td>\n",
       "      <td>0.007722</td>\n",
       "      <td>2017</td>\n",
       "      <td>1</td>\n",
       "      <td>1</td>\n",
       "      <td>1.0</td>\n",
       "      <td>...</td>\n",
       "      <td>0.0</td>\n",
       "      <td>1.0</td>\n",
       "      <td>0.0</td>\n",
       "      <td>0.0</td>\n",
       "      <td>0.0</td>\n",
       "      <td>0.0</td>\n",
       "      <td>0.0</td>\n",
       "      <td>0.0</td>\n",
       "      <td>1.0</td>\n",
       "      <td>0.0</td>\n",
       "    </tr>\n",
       "    <tr>\n",
       "      <th>284890</th>\n",
       "      <td>1</td>\n",
       "      <td>-0.079081</td>\n",
       "      <td>0</td>\n",
       "      <td>13</td>\n",
       "      <td>-0.798748</td>\n",
       "      <td>0.007722</td>\n",
       "      <td>2017</td>\n",
       "      <td>1</td>\n",
       "      <td>1</td>\n",
       "      <td>0.0</td>\n",
       "      <td>...</td>\n",
       "      <td>0.0</td>\n",
       "      <td>1.0</td>\n",
       "      <td>0.0</td>\n",
       "      <td>0.0</td>\n",
       "      <td>0.0</td>\n",
       "      <td>0.0</td>\n",
       "      <td>0.0</td>\n",
       "      <td>0.0</td>\n",
       "      <td>1.0</td>\n",
       "      <td>0.0</td>\n",
       "    </tr>\n",
       "    <tr>\n",
       "      <th>284891</th>\n",
       "      <td>1</td>\n",
       "      <td>-0.079081</td>\n",
       "      <td>0</td>\n",
       "      <td>13</td>\n",
       "      <td>-0.798748</td>\n",
       "      <td>0.007722</td>\n",
       "      <td>2017</td>\n",
       "      <td>1</td>\n",
       "      <td>1</td>\n",
       "      <td>0.0</td>\n",
       "      <td>...</td>\n",
       "      <td>0.0</td>\n",
       "      <td>1.0</td>\n",
       "      <td>0.0</td>\n",
       "      <td>0.0</td>\n",
       "      <td>0.0</td>\n",
       "      <td>0.0</td>\n",
       "      <td>0.0</td>\n",
       "      <td>0.0</td>\n",
       "      <td>1.0</td>\n",
       "      <td>0.0</td>\n",
       "    </tr>\n",
       "    <tr>\n",
       "      <th>284892</th>\n",
       "      <td>1</td>\n",
       "      <td>5.889441</td>\n",
       "      <td>31</td>\n",
       "      <td>13</td>\n",
       "      <td>-0.798748</td>\n",
       "      <td>0.007722</td>\n",
       "      <td>2017</td>\n",
       "      <td>1</td>\n",
       "      <td>1</td>\n",
       "      <td>0.0</td>\n",
       "      <td>...</td>\n",
       "      <td>0.0</td>\n",
       "      <td>1.0</td>\n",
       "      <td>0.0</td>\n",
       "      <td>0.0</td>\n",
       "      <td>0.0</td>\n",
       "      <td>0.0</td>\n",
       "      <td>0.0</td>\n",
       "      <td>0.0</td>\n",
       "      <td>1.0</td>\n",
       "      <td>0.0</td>\n",
       "    </tr>\n",
       "    <tr>\n",
       "      <th>284893</th>\n",
       "      <td>1</td>\n",
       "      <td>-0.079081</td>\n",
       "      <td>0</td>\n",
       "      <td>13</td>\n",
       "      <td>-0.798748</td>\n",
       "      <td>0.007722</td>\n",
       "      <td>2017</td>\n",
       "      <td>1</td>\n",
       "      <td>1</td>\n",
       "      <td>0.0</td>\n",
       "      <td>...</td>\n",
       "      <td>0.0</td>\n",
       "      <td>1.0</td>\n",
       "      <td>0.0</td>\n",
       "      <td>0.0</td>\n",
       "      <td>0.0</td>\n",
       "      <td>0.0</td>\n",
       "      <td>0.0</td>\n",
       "      <td>0.0</td>\n",
       "      <td>1.0</td>\n",
       "      <td>0.0</td>\n",
       "    </tr>\n",
       "  </tbody>\n",
       "</table>\n",
       "<p>5 rows × 38 columns</p>\n",
       "</div>"
      ],
      "text/plain": [
       "        store_nbr     sales  onpromotion  cluster  transactions  dcoilwtico  \\\n",
       "284889          1 -0.058270            0       13     -0.798748    0.007722   \n",
       "284890          1 -0.079081            0       13     -0.798748    0.007722   \n",
       "284891          1 -0.079081            0       13     -0.798748    0.007722   \n",
       "284892          1  5.889441           31       13     -0.798748    0.007722   \n",
       "284893          1 -0.079081            0       13     -0.798748    0.007722   \n",
       "\n",
       "        year  month  quarter  family_AUTOMOTIVE  ...  day_of_week_Friday  \\\n",
       "284889  2017      1        1                1.0  ...                 0.0   \n",
       "284890  2017      1        1                0.0  ...                 0.0   \n",
       "284891  2017      1        1                0.0  ...                 0.0   \n",
       "284892  2017      1        1                0.0  ...                 0.0   \n",
       "284893  2017      1        1                0.0  ...                 0.0   \n",
       "\n",
       "        day_of_week_Monday  day_of_week_Thursday  day_of_week_Tuesday  \\\n",
       "284889                 1.0                   0.0                  0.0   \n",
       "284890                 1.0                   0.0                  0.0   \n",
       "284891                 1.0                   0.0                  0.0   \n",
       "284892                 1.0                   0.0                  0.0   \n",
       "284893                 1.0                   0.0                  0.0   \n",
       "\n",
       "        day_of_week_Wednesday  store_type_A  store_type_B  store_type_C  \\\n",
       "284889                    0.0           0.0           0.0           0.0   \n",
       "284890                    0.0           0.0           0.0           0.0   \n",
       "284891                    0.0           0.0           0.0           0.0   \n",
       "284892                    0.0           0.0           0.0           0.0   \n",
       "284893                    0.0           0.0           0.0           0.0   \n",
       "\n",
       "        store_type_D  store_type_E  \n",
       "284889           1.0           0.0  \n",
       "284890           1.0           0.0  \n",
       "284891           1.0           0.0  \n",
       "284892           1.0           0.0  \n",
       "284893           1.0           0.0  \n",
       "\n",
       "[5 rows x 38 columns]"
      ]
     },
     "execution_count": 50,
     "metadata": {},
     "output_type": "execute_result"
    }
   ],
   "source": [
    "eval_set.head()"
   ]
  },
  {
   "cell_type": "code",
   "execution_count": 51,
   "metadata": {},
   "outputs": [],
   "source": [
    "# Separate the target variable and features for training and testing\n",
    "\n",
    "X_train = train_set.drop('sales', axis=1)\n",
    "y_train = train_set['sales'] \n",
    "\n",
    "\n",
    "X_eval = eval_set.drop('sales', axis=1)  \n",
    "y_eval = eval_set['sales']"
   ]
  },
  {
   "cell_type": "markdown",
   "metadata": {},
   "source": [
    "### Linear Regression Model"
   ]
  },
  {
   "cell_type": "code",
   "execution_count": 51,
   "metadata": {},
   "outputs": [
    {
     "data": {
      "text/html": [
       "<div>\n",
       "<style scoped>\n",
       "    .dataframe tbody tr th:only-of-type {\n",
       "        vertical-align: middle;\n",
       "    }\n",
       "\n",
       "    .dataframe tbody tr th {\n",
       "        vertical-align: top;\n",
       "    }\n",
       "\n",
       "    .dataframe thead th {\n",
       "        text-align: right;\n",
       "    }\n",
       "</style>\n",
       "<table border=\"1\" class=\"dataframe\">\n",
       "  <thead>\n",
       "    <tr style=\"text-align: right;\">\n",
       "      <th></th>\n",
       "      <th>Model</th>\n",
       "      <th>RMSLE</th>\n",
       "      <th>RMSE</th>\n",
       "      <th>MSE</th>\n",
       "      <th>MAE</th>\n",
       "      <th>R2</th>\n",
       "    </tr>\n",
       "  </thead>\n",
       "  <tbody>\n",
       "    <tr>\n",
       "      <th>0</th>\n",
       "      <td>Linear Regression</td>\n",
       "      <td>0.69</td>\n",
       "      <td>4.41</td>\n",
       "      <td>19.46</td>\n",
       "      <td>2.01</td>\n",
       "      <td>0.39</td>\n",
       "    </tr>\n",
       "  </tbody>\n",
       "</table>\n",
       "</div>"
      ],
      "text/plain": [
       "               Model  RMSLE  RMSE    MSE   MAE    R2\n",
       "0  Linear Regression   0.69  4.41  19.46  2.01  0.39"
      ]
     },
     "execution_count": 51,
     "metadata": {},
     "output_type": "execute_result"
    }
   ],
   "source": [
    "\n",
    "# Linear Regression Model\n",
    "lr_model = LinearRegression()\n",
    "lr_model.fit(X_train, y_train)\n",
    "lr_predictions = lr_model.predict(X_eval)\n",
    "\n",
    "# Calculate metrics\n",
    "lr_mse = mean_squared_error(y_eval, lr_predictions)\n",
    "lr_mae = mean_absolute_error(y_eval, lr_predictions)\n",
    "lr_r2 = r2_score(y_eval, lr_predictions)\n",
    "\n",
    "# Apply the absolute value function to both y_eval and lr_predictions\n",
    "y_eval_abs = abs(y_eval)\n",
    "lr_predictions_abs = abs(lr_predictions)\n",
    "\n",
    "# Calculate the Root Mean Squared Logarithmic Error (RMSLE)\n",
    "lr_rmsle = np.sqrt(mean_squared_log_error(y_eval_abs, lr_predictions_abs))\n",
    "\n",
    "# Create a DataFrame to store results for Linear Regression\n",
    "results_lr = pd.DataFrame({'Model': ['Linear Regression'],\n",
    "                            'RMSLE': [lr_rmsle],\n",
    "                            'RMSE': [np.sqrt(lr_mse)],\n",
    "                            'MSE': [lr_mse],\n",
    "                            'MAE': [lr_mae],\n",
    "                            'R2': [lr_r2]}).round(2)\n",
    "# Print the results_lr dataframe\n",
    "results_lr"
   ]
  },
  {
   "cell_type": "markdown",
   "metadata": {},
   "source": [
    "Root Mean Squared Logarithmic Error (RMSLE): 0.69\n",
    "The RMSLE of 0.69 indicates moderate relative errors in the predictions. This value suggests that while the model's predictions are somewhat close to the actual values, the errors are noticeable and significant for some predictions.\n",
    "\n",
    "Root Mean Squared Error (RMSE): 4.41\n",
    "An RMSE of 4.41 means that on average, the prediction error is 4.41 units. This value, being relatively high, indicates substantial deviations between the predicted and actual values, suggesting the presence of some significant outliers.\n",
    "\n",
    "Mean Squared Error (MSE): 19.46\n",
    "The MSE of 19.46 reflects the average squared prediction errors. This value is quite high, signifying that the prediction errors are large on average, likely influenced by substantial outliers.\n",
    "\n",
    "Mean Absolute Error (MAE): 2.01\n",
    "The MAE of 2.01 shows the average magnitude of the errors in the predictions. This value indicates that, on average, the model's predictions deviate from the actual values by 2.01 units, which suggests reasonable prediction accuracy but with noticeable errors.\n",
    "\n",
    "R² (Coefficient of Determination): 0.39\n",
    "An R² of 0.39 means that the model explains only 39% of the variance in the actual values. This low value indicates that the model has limited predictive power and does not capture much of the underlying pattern in the data.\n",
    "\n",
    "Summary\n",
    "RMSLE (0.69): Indicates moderate relative errors in predictions, suggesting some significant deviations.\n",
    "RMSE (4.41): Reflects substantial prediction errors on average, suggesting significant deviations between predicted and actual values.\n",
    "MSE (19.46): Indicates large average squared prediction errors, influenced by significant outliers.\n",
    "MAE (2.01): Shows the average magnitude of errors, indicating reasonable prediction accuracy but with noticeable deviations.\n",
    "R² (0.39): Indicates that the model explains only 39% of the variance in the target variable, suggesting limited predictive power.\n",
    "Overall, the Linear Regression model exhibits moderate performance with noticeable prediction errors and limited explanatory power. The RMSLE, RMSE, and MSE values suggest significant deviations, while the MAE indicates reasonable average prediction accuracy. The low R² value highlights the need for model improvements or alternative modeling approaches to better capture the underlying patterns in the data."
   ]
  },
  {
   "cell_type": "markdown",
   "metadata": {},
   "source": [
    "### Gradient Boosting Regressor"
   ]
  },
  {
   "cell_type": "code",
   "execution_count": 54,
   "metadata": {},
   "outputs": [
    {
     "data": {
      "text/html": [
       "<div>\n",
       "<style scoped>\n",
       "    .dataframe tbody tr th:only-of-type {\n",
       "        vertical-align: middle;\n",
       "    }\n",
       "\n",
       "    .dataframe tbody tr th {\n",
       "        vertical-align: top;\n",
       "    }\n",
       "\n",
       "    .dataframe thead th {\n",
       "        text-align: right;\n",
       "    }\n",
       "</style>\n",
       "<table border=\"1\" class=\"dataframe\">\n",
       "  <thead>\n",
       "    <tr style=\"text-align: right;\">\n",
       "      <th></th>\n",
       "      <th>Model</th>\n",
       "      <th>RMSLE</th>\n",
       "      <th>RMSE</th>\n",
       "      <th>MSE</th>\n",
       "      <th>MAE</th>\n",
       "      <th>R2</th>\n",
       "    </tr>\n",
       "  </thead>\n",
       "  <tbody>\n",
       "    <tr>\n",
       "      <th>0</th>\n",
       "      <td>Gradient Boosting</td>\n",
       "      <td>0.55</td>\n",
       "      <td>3.51</td>\n",
       "      <td>12.31</td>\n",
       "      <td>2.01</td>\n",
       "      <td>0.39</td>\n",
       "    </tr>\n",
       "  </tbody>\n",
       "</table>\n",
       "</div>"
      ],
      "text/plain": [
       "               Model  RMSLE  RMSE    MSE   MAE    R2\n",
       "0  Gradient Boosting   0.55  3.51  12.31  2.01  0.39"
      ]
     },
     "execution_count": 54,
     "metadata": {},
     "output_type": "execute_result"
    }
   ],
   "source": [
    "\n",
    "# Gradient Boosting Regression Model\n",
    "gb_model = GradientBoostingRegressor(n_estimators=100, random_state=42)\n",
    "gb_model.fit(X_train, y_train)\n",
    "gb_predictions = gb_model.predict(X_eval)\n",
    "\n",
    "# Calculate metrics\n",
    "gb_mse = mean_squared_error(y_eval, gb_predictions)\n",
    "gb_mae = mean_absolute_error(y_eval, gb_predictions)\n",
    "gb_r2 = r2_score(y_eval, lr_predictions)\n",
    "\n",
    "# Apply the absolute value function to both y_eval and gb_predictions\n",
    "y_eval_abs = abs(y_eval)\n",
    "gb_predictions_abs = abs(gb_predictions)\n",
    "\n",
    "# Calculate the Root Mean Squared Logarithmic Error (RMSLE)\n",
    "gb_rmsle = np.sqrt(mean_squared_log_error(y_eval_abs, gb_predictions_abs))\n",
    "\n",
    "# Create a DataFrame to store results for Gradient Boosting\n",
    "results_gb = pd.DataFrame({'Model': ['Gradient Boosting'],\n",
    "                            'RMSLE': [gb_rmsle],\n",
    "                            'RMSE': [np.sqrt(gb_mse)],\n",
    "                            'MSE': [gb_mse],\n",
    "                            'MAE': [lr_mae],\n",
    "                            'R2': [gb_r2]}).round(2)\n",
    "# Print the results_gb dataframe\n",
    "results_gb"
   ]
  },
  {
   "cell_type": "markdown",
   "metadata": {},
   "source": [
    "Root Mean Squared Logarithmic Error (RMSLE): 0.55\n",
    "The RMSLE of 0.55 indicates smaller relative errors in the predictions compared to the Linear Regression model's RMSLE of 0.69. This suggests that the Gradient Boosting model's predictions are closer to the actual values in terms of their relative differences, demonstrating better performance.\n",
    "\n",
    "Root Mean Squared Error (RMSE): 3.51\n",
    "An RMSE of 3.51, which is lower than the RMSE of the Linear Regression model (4.41), means that on average, the prediction error is smaller. This indicates better accuracy in the predictions made by the Gradient Boosting model.\n",
    "\n",
    "Mean Squared Error (MSE): 12.31\n",
    "The MSE of 12.31 is lower than the MSE of the Linear Regression model (19.46). This indicates that the Gradient Boosting model has smaller average squared prediction errors, suggesting an improvement in model accuracy compared to the Linear Regression model.\n",
    "\n",
    "Mean Absolute Error (MAE): 2.01\n",
    "The MAE of 2.01 is the same as the MAE of the Linear Regression model. This indicates that the average magnitude of the errors in the predictions is the same for both models. However, other metrics show the Gradient Boosting model's overall better performance.\n",
    "\n",
    "R² (Coefficient of Determination): 0.39\n",
    "An R² of 0.39 is the same as that of the Linear Regression model. This means that the Gradient Boosting model explains the same amount of variance in the actual values as the Linear Regression model. While the R² value does not show improvement, other metrics suggest better performance in terms of prediction errors.\n",
    "\n",
    "Summary\n",
    "RMSLE (0.55): Lower than the Linear Regression model (0.69), indicating smaller relative errors and better performance.\n",
    "RMSE (3.51): Lower than the Linear Regression model (4.41), suggesting more accurate predictions on average.\n",
    "MSE (12.31): Lower than the Linear Regression model (19.46), indicating smaller average squared prediction errors.\n",
    "MAE (2.01): The same as the Linear Regression model, indicating similar average error magnitudes.\n",
    "R² (0.39): The same as the Linear Regression model, indicating the same explanatory power in terms of variance.\n",
    "Overall, the Gradient Boosting model performs better than the Linear Regression model with smaller errors in terms of RMSLE, RMSE, and MSE. The MAE and R² values are the same for both models, suggesting that while the Gradient Boosting model has better prediction accuracy, it explains the same amount of variance in the target variable. The Gradient Boosting model demonstrates improved accuracy and reliability in its predictions."
   ]
  },
  {
   "cell_type": "markdown",
   "metadata": {},
   "source": [
    "### Random Forest Regression"
   ]
  },
  {
   "cell_type": "code",
   "execution_count": 55,
   "metadata": {},
   "outputs": [
    {
     "data": {
      "text/html": [
       "<div>\n",
       "<style scoped>\n",
       "    .dataframe tbody tr th:only-of-type {\n",
       "        vertical-align: middle;\n",
       "    }\n",
       "\n",
       "    .dataframe tbody tr th {\n",
       "        vertical-align: top;\n",
       "    }\n",
       "\n",
       "    .dataframe thead th {\n",
       "        text-align: right;\n",
       "    }\n",
       "</style>\n",
       "<table border=\"1\" class=\"dataframe\">\n",
       "  <thead>\n",
       "    <tr style=\"text-align: right;\">\n",
       "      <th></th>\n",
       "      <th>Model</th>\n",
       "      <th>RMSLE</th>\n",
       "      <th>RMSE</th>\n",
       "      <th>MSE</th>\n",
       "      <th>MAE</th>\n",
       "      <th>R2</th>\n",
       "    </tr>\n",
       "  </thead>\n",
       "  <tbody>\n",
       "    <tr>\n",
       "      <th>0</th>\n",
       "      <td>Random Forest</td>\n",
       "      <td>0.52</td>\n",
       "      <td>3.64</td>\n",
       "      <td>13.24</td>\n",
       "      <td>2.01</td>\n",
       "      <td>0.39</td>\n",
       "    </tr>\n",
       "  </tbody>\n",
       "</table>\n",
       "</div>"
      ],
      "text/plain": [
       "           Model  RMSLE  RMSE    MSE   MAE    R2\n",
       "0  Random Forest   0.52  3.64  13.24  2.01  0.39"
      ]
     },
     "execution_count": 55,
     "metadata": {},
     "output_type": "execute_result"
    }
   ],
   "source": [
    "\n",
    "# Random Forest Regression Model\n",
    "rf_model = RandomForestRegressor(n_estimators=100, random_state=42)\n",
    "rf_model.fit(X_train, y_train)\n",
    "rf_predictions = rf_model.predict(X_eval)\n",
    "\n",
    "# Calculate metrics\n",
    "rf_mse = mean_squared_error(y_eval, rf_predictions)\n",
    "rf_mae = mean_absolute_error(y_eval, rf_predictions)\n",
    "rf_r2 = r2_score(y_eval, lr_predictions)\n",
    "\n",
    "# Apply the absolute value function to both y_eval and rf_predictions\n",
    "y_eval_abs = abs(y_eval)\n",
    "rf_predictions_abs = abs(rf_predictions)\n",
    "\n",
    "# Calculate the Root Mean Squared Logarithmic Error (RMSLE)\n",
    "rf_rmsle = np.sqrt(mean_squared_log_error(y_eval_abs, rf_predictions_abs))\n",
    "\n",
    "# Create a DataFrame to store results for Random Forest\n",
    "results_rf = pd.DataFrame({'Model': ['Random Forest'],\n",
    "                            'RMSLE': [rf_rmsle],\n",
    "                            'RMSE': [np.sqrt(rf_mse)],\n",
    "                            'MSE': [rf_mse],\n",
    "                            'MAE': [lr_mae],\n",
    "                            'R2': [rf_r2]}).round(2)\n",
    "# Print the results_rf dataframe\n",
    "results_rf"
   ]
  },
  {
   "cell_type": "markdown",
   "metadata": {},
   "source": [
    "Root Mean Squared Logarithmic Error (RMSLE): 0.52\n",
    "The RMSLE of 0.52 indicates smaller relative errors in the predictions compared to the Linear Regression model's RMSLE of 0.69 and the Gradient Boosting model's RMSLE of 0.55. This suggests that the Random Forest model's predictions are closer to the actual values in terms of their relative differences, demonstrating the best performance among the three models.\n",
    "\n",
    "Root Mean Squared Error (RMSE): 3.64\n",
    "An RMSE of 3.64, which is lower than the RMSE of the Linear Regression model (4.41) but slightly higher than the Gradient Boosting model's RMSE (3.51), means that on average, the prediction error is smaller than the Linear Regression model but slightly larger than the Gradient Boosting model. This indicates relatively good accuracy in the predictions made by the Random Forest model.\n",
    "\n",
    "Mean Squared Error (MSE): 13.24\n",
    "The MSE of 13.24 is lower than the MSE of the Linear Regression model (19.46) but higher than the Gradient Boosting model's MSE (12.31). This indicates that the Random Forest model has smaller average squared prediction errors compared to the Linear Regression model, suggesting improved accuracy, but it is slightly less accurate than the Gradient Boosting model.\n",
    "\n",
    "Mean Absolute Error (MAE): 2.01\n",
    "The MAE of 2.01 is the same as the MAE of the Linear Regression model and the Gradient Boosting model. This indicates that the average magnitude of the errors in the predictions is the same for all three models. However, other metrics show the Random Forest model's overall better performance in some aspects.\n",
    "\n",
    "R² (Coefficient of Determination): 0.39\n",
    "An R² of 0.39 is the same as that of the Linear Regression model and the Gradient Boosting model. This means that the Random Forest model explains the same amount of variance in the actual values as the other models. While the R² value does not show improvement, other metrics suggest better performance in terms of prediction errors.\n",
    "\n",
    "Summary\n",
    "RMSLE (0.52): Lower than both the Linear Regression model (0.69) and the Gradient Boosting model (0.55), indicating smaller relative errors and the best performance among the three models.\n",
    "RMSE (3.64): Lower than the Linear Regression model (4.41) but slightly higher than the Gradient Boosting model (3.51), suggesting good accuracy but slightly worse than the Gradient Boosting model.\n",
    "MSE (13.24): Lower than the Linear Regression model (19.46) but higher than the Gradient Boosting model (12.31), indicating improved accuracy compared to the Linear Regression model but slightly less accurate than the Gradient Boosting model.\n",
    "MAE (2.01): The same as both the Linear Regression model and the Gradient Boosting model, indicating similar average error magnitudes.\n",
    "R² (0.39): The same as the Linear Regression model and the Gradient Boosting model, indicating the same explanatory power in terms of variance.\n",
    "Overall, the Random Forest model demonstrates better performance than the Linear Regression model with smaller errors in terms of RMSLE, RMSE, and MSE. The RMSLE of 0.52 indicates the best performance in terms of relative errors among the three models. The MAE and R² values are the same for all models, suggesting that while the Random Forest model has good prediction accuracy, it explains the same amount of variance in the target variable as the other models. The Random Forest model shows a balance of accuracy and reliability in its predictions, slightly underperforming only to the Gradient Boosting model in some metrics."
   ]
  },
  {
   "cell_type": "markdown",
   "metadata": {},
   "source": [
    "## XGBoost Regressor"
   ]
  },
  {
   "cell_type": "code",
   "execution_count": 52,
   "metadata": {},
   "outputs": [
    {
     "name": "stdout",
     "output_type": "stream",
     "text": [
      "               Model  RMSLE  RMSE    MSE   MAE    R2\n",
      "0  XGBoost Regressor   0.54   3.5  12.26  1.54  0.62\n"
     ]
    }
   ],
   "source": [
    "\n",
    "# Fit the XGBoost Regressor Model\n",
    "xgb_model = XGBRegressor()\n",
    "xgb_model.fit(X_train, y_train)\n",
    "xgb_predictions = xgb_model.predict(X_eval)\n",
    "\n",
    "# Calculate metrics\n",
    "xgb_mse = mean_squared_error(y_eval, xgb_predictions)\n",
    "xgb_mae = mean_absolute_error(y_eval, xgb_predictions)\n",
    "xgb_r2 = r2_score(y_eval, xgb_predictions)\n",
    "\n",
    "# Apply the absolute value function to both y_eval and xgb_predictions\n",
    "y_eval_abs = abs(y_eval)\n",
    "xgb_predictions_abs = abs(xgb_predictions)\n",
    "\n",
    "# Calculate the Root Mean Squared Logarithmic Error (RMSLE)\n",
    "xgb_rmsle = np.sqrt(mean_squared_log_error(y_eval_abs, xgb_predictions_abs))\n",
    "\n",
    "# Create a DataFrame to store results for XGBoost Regressor\n",
    "results_xgb = pd.DataFrame({'Model': ['XGBoost Regressor'],\n",
    "                            'RMSLE': [xgb_rmsle],\n",
    "                            'RMSE': [np.sqrt(xgb_mse)],\n",
    "                            'MSE': [xgb_mse],\n",
    "                            'MAE': [xgb_mae],\n",
    "                            'R2': [xgb_r2]}).round(2)\n",
    "\n",
    "# Print the results_xgb dataframe\n",
    "print(results_xgb)\n"
   ]
  },
  {
   "cell_type": "markdown",
   "metadata": {},
   "source": [
    "Root Mean Squared Logarithmic Error (RMSLE): 0.54\n",
    "The RMSLE of 0.54 indicates smaller relative errors in the predictions compared to the Linear Regression model (0.69), Gradient Boosting model (0.55), and Random Forest model (0.52). This suggests that the XGBoost Regressor's predictions are closer to the actual values in terms of their relative differences, demonstrating better performance than Gradient Boosting and comparable performance to Random Forest.\n",
    "\n",
    "Root Mean Squared Error (RMSE): 3.5\n",
    "An RMSE of 3.5 is lower than the RMSE of the Linear Regression model (4.41), Gradient Boosting model (3.51), and Random Forest model (3.64). This means that, on average, the prediction error is smaller, indicating better accuracy in the predictions made by the XGBoost Regressor.\n",
    "\n",
    "Mean Squared Error (MSE): 12.26\n",
    "The MSE of 12.26 is lower than the MSE of the Linear Regression model (19.46), Gradient Boosting model (12.31), and Random Forest model (13.24). This indicates that the XGBoost Regressor has smaller average squared prediction errors, suggesting an improvement in model accuracy compared to the other models.\n",
    "\n",
    "Mean Absolute Error (MAE): 1.54\n",
    "The MAE of 1.54 is lower than the MAE of the Linear Regression model (2.01), Gradient Boosting model (2.01), and Random Forest model (2.01). This indicates that the average magnitude of the errors in the predictions is smaller for the XGBoost Regressor, demonstrating more accurate predictions on average.\n",
    "\n",
    "R² (Coefficient of Determination): 0.62\n",
    "An R² of 0.62 means that the model explains 62% of the variance in the actual values. This is a significant improvement over the Linear Regression model (0.39), Gradient Boosting model (0.39), and Random Forest model (0.39), indicating that the XGBoost Regressor captures more of the underlying pattern in the data.\n",
    "\n",
    "Summary\n",
    "RMSLE (0.54): Lower than Linear Regression (0.69) and Gradient Boosting (0.55), and comparable to Random Forest (0.52), indicating smaller relative errors and strong performance.\n",
    "RMSE (3.5): Lower than Linear Regression (4.41), Gradient Boosting (3.51), and Random Forest (3.64), suggesting more accurate predictions.\n",
    "MSE (12.26): Lower than Linear Regression (19.46), Gradient Boosting (12.31), and Random Forest (13.24), indicating smaller average squared prediction errors.\n",
    "MAE (1.54): Lower than Linear Regression (2.01), Gradient Boosting (2.01), and Random Forest (2.01), indicating smaller average error magnitude.\n",
    "R² (0.62): Higher than Linear Regression (0.39), Gradient Boosting (0.39), and Random Forest (0.39), indicating better explanatory power and capturing more of the data's variance.\n",
    "Overall, the XGBoost Regressor model performs better than the Linear Regression, Gradient Boosting, and Random Forest models with smaller errors and higher explanatory power. The RMSLE, RMSE, and MSE values indicate improved accuracy, while the MAE suggests more precise predictions on average. The higher R² value highlights the model's superior ability to capture the variance in the target variable. The XGBoost Regressor demonstrates enhanced accuracy and reliability in its predictions compared to the other models, making it the best performer in this evaluation."
   ]
  },
  {
   "cell_type": "markdown",
   "metadata": {},
   "source": [
    "## ARIMA Model"
   ]
  },
  {
   "cell_type": "code",
   "execution_count": 53,
   "metadata": {},
   "outputs": [
    {
     "data": {
      "text/html": [
       "<div>\n",
       "<style scoped>\n",
       "    .dataframe tbody tr th:only-of-type {\n",
       "        vertical-align: middle;\n",
       "    }\n",
       "\n",
       "    .dataframe tbody tr th {\n",
       "        vertical-align: top;\n",
       "    }\n",
       "\n",
       "    .dataframe thead th {\n",
       "        text-align: right;\n",
       "    }\n",
       "</style>\n",
       "<table border=\"1\" class=\"dataframe\">\n",
       "  <thead>\n",
       "    <tr style=\"text-align: right;\">\n",
       "      <th></th>\n",
       "      <th>Model</th>\n",
       "      <th>RMSLE</th>\n",
       "      <th>RMSE</th>\n",
       "      <th>MSE</th>\n",
       "      <th>MAE</th>\n",
       "      <th>R2</th>\n",
       "    </tr>\n",
       "  </thead>\n",
       "  <tbody>\n",
       "    <tr>\n",
       "      <th>0</th>\n",
       "      <td>ARIMA</td>\n",
       "      <td>0.91</td>\n",
       "      <td>5.65</td>\n",
       "      <td>31.96</td>\n",
       "      <td>2.57</td>\n",
       "      <td>-0.0</td>\n",
       "    </tr>\n",
       "  </tbody>\n",
       "</table>\n",
       "</div>"
      ],
      "text/plain": [
       "   Model  RMSLE  RMSE    MSE   MAE   R2\n",
       "0  ARIMA   0.91  5.65  31.96  2.57 -0.0"
      ]
     },
     "execution_count": 53,
     "metadata": {},
     "output_type": "execute_result"
    }
   ],
   "source": [
    "\n",
    "# d and q are equal to zero as data is already stationary\n",
    "p = 1\n",
    "d = 0 \n",
    "q = 0  \n",
    "\n",
    "# Create an instance of the ARIMA model\n",
    "arima_model = ARIMA(y_train, order=(p, d, q))\n",
    "\n",
    "# Fit the model to the training data\n",
    "arima_model_fit = arima_model.fit()\n",
    "\n",
    "# Make predictions on the evaluation data\n",
    "arima_predictions = arima_model_fit.predict(start=len(y_train), end=len(y_train) + len(X_eval) - 1)\n",
    "\n",
    "# Calculate evaluation metrics\n",
    "arima_mse = mean_squared_error(y_eval, arima_predictions)\n",
    "arima_rmse = np.sqrt(arima_mse)\n",
    "arima_r2 = r2_score(y_eval, arima_predictions)\n",
    "\n",
    "# Apply the absolute value function to y_eval to remove negative signs\n",
    "y_eval_abs = abs(y_eval)\n",
    "arima_predictions_abs = abs(arima_predictions)\n",
    "\n",
    "\n",
    "# Calculate the Mean Absolute Error (MAE)\n",
    "arima_mae = mean_absolute_error(y_eval, arima_predictions)\n",
    "\n",
    "# Calculate the Root Mean Squared Logarithmic Error (RMSLE)\n",
    "arima_rmsle = np.sqrt(mean_squared_log_error(y_eval_abs, arima_predictions_abs))\n",
    "\n",
    "# Create a DataFrame to store results for ARIMA\n",
    "results_arima = pd.DataFrame({'Model': ['ARIMA'],\n",
    "                            'RMSLE': [arima_rmsle],\n",
    "                            'RMSE': [np.sqrt(arima_mse)],\n",
    "                            'MSE': [arima_mse],\n",
    "                            'MAE': [arima_mae],\n",
    "                            'R2': [arima_r2]}).round(2)\n",
    "# Print the results_arima dataframe\n",
    "results_arima\n"
   ]
  },
  {
   "cell_type": "markdown",
   "metadata": {},
   "source": [
    "Root Mean Squared Logarithmic Error (RMSLE): 0.91\n",
    "The RMSLE of 0.91 indicates relatively high relative errors in the predictions. This value is higher than the RMSLE of the Linear Regression model (0.69), Gradient Boosting model (0.55), Random Forest model (0.52), and XGBoost Regressor (0.54). This suggests that the ARIMA model's predictions are less accurate relative to the other models, with more significant discrepancies in relative terms.\n",
    "\n",
    "Root Mean Squared Error (RMSE): 5.65\n",
    "An RMSE of 5.65 is higher than the RMSE of the Linear Regression model (4.41), Gradient Boosting model (3.51), Random Forest model (3.64), and XGBoost Regressor (3.5). This means that, on average, the prediction error is larger, indicating poorer accuracy in the ARIMA model's predictions compared to the other models.\n",
    "\n",
    "Mean Squared Error (MSE): 31.96\n",
    "The MSE of 31.96 is higher than the MSE of the Linear Regression model (19.46), Gradient Boosting model (12.31), Random Forest model (13.24), and XGBoost Regressor (12.26). This indicates that the ARIMA model has larger average squared prediction errors, suggesting significantly worse accuracy compared to the other models.\n",
    "\n",
    "Mean Absolute Error (MAE): 2.57\n",
    "The MAE of 2.57 is higher than the MAE of the Linear Regression model (2.01), Gradient Boosting model (2.01), Random Forest model (2.01), and XGBoost Regressor (1.54). This indicates that the average magnitude of the errors in the predictions is larger for the ARIMA model, showing poorer performance in terms of average prediction accuracy.\n",
    "\n",
    "R² (Coefficient of Determination): -0.0\n",
    "An R² of -0.0 indicates that the ARIMA model performs worse than a simple mean-based model, explaining virtually none of the variance in the actual values. This is significantly worse compared to the R² values of Linear Regression (0.39), Gradient Boosting (0.39), Random Forest (0.39), and XGBoost Regressor (0.62). A negative R² value suggests that the model is not capturing the underlying patterns in the data effectively and is performing poorly.\n",
    "\n",
    "Summary\n",
    "RMSLE (0.91): Higher than Linear Regression (0.69), Gradient Boosting (0.55), Random Forest (0.52), and XGBoost Regressor (0.54), indicating larger relative prediction errors.\n",
    "RMSE (5.65): Higher than Linear Regression (4.41), Gradient Boosting (3.51), Random Forest (3.64), and XGBoost Regressor (3.5), suggesting poorer prediction accuracy.\n",
    "MSE (31.96): Higher than Linear Regression (19.46), Gradient Boosting (12.31), Random Forest (13.24), and XGBoost Regressor (12.26), indicating larger average squared prediction errors.\n",
    "MAE (2.57): Higher than Linear Regression (2.01), Gradient Boosting (2.01), Random Forest (2.01), and XGBoost Regressor (1.54), indicating larger average error magnitude.\n",
    "R² (-0.0): Significantly lower than Linear Regression (0.39), Gradient Boosting (0.39), Random Forest (0.39), and XGBoost Regressor (0.62), indicating poor explanatory power and a model that does not effectively capture the variance in the data.\n",
    "Overall, the ARIMA model shows the poorest performance among all the models. It has the highest RMSLE, RMSE, MSE, and MAE, and the lowest R² value, indicating that it is less accurate and less effective at capturing the variance in the target variable compared to Linear Regression, Gradient Boosting, Random Forest, and XGBoost Regressor."
   ]
  },
  {
   "cell_type": "markdown",
   "metadata": {},
   "source": [
    "## Hyperparameter Tuning "
   ]
  },
  {
   "cell_type": "markdown",
   "metadata": {},
   "source": [
    "## Random Forest"
   ]
  },
  {
   "cell_type": "code",
   "execution_count": null,
   "metadata": {},
   "outputs": [],
   "source": []
  },
  {
   "cell_type": "code",
   "execution_count": 67,
   "metadata": {},
   "outputs": [
    {
     "data": {
      "text/html": [
       "<div>\n",
       "<style scoped>\n",
       "    .dataframe tbody tr th:only-of-type {\n",
       "        vertical-align: middle;\n",
       "    }\n",
       "\n",
       "    .dataframe tbody tr th {\n",
       "        vertical-align: top;\n",
       "    }\n",
       "\n",
       "    .dataframe thead th {\n",
       "        text-align: right;\n",
       "    }\n",
       "</style>\n",
       "<table border=\"1\" class=\"dataframe\">\n",
       "  <thead>\n",
       "    <tr style=\"text-align: right;\">\n",
       "      <th></th>\n",
       "      <th>Model</th>\n",
       "      <th>RMSLE</th>\n",
       "      <th>RMSE</th>\n",
       "      <th>MSE</th>\n",
       "      <th>MAE</th>\n",
       "      <th>R2</th>\n",
       "    </tr>\n",
       "  </thead>\n",
       "  <tbody>\n",
       "    <tr>\n",
       "      <th>0</th>\n",
       "      <td>Best Random Forest</td>\n",
       "      <td>0.52</td>\n",
       "      <td>3.38</td>\n",
       "      <td>11.39</td>\n",
       "      <td>1.42</td>\n",
       "      <td>0.64</td>\n",
       "    </tr>\n",
       "  </tbody>\n",
       "</table>\n",
       "</div>"
      ],
      "text/plain": [
       "                Model  RMSLE  RMSE    MSE   MAE    R2\n",
       "0  Best Random Forest   0.52  3.38  11.39  1.42  0.64"
      ]
     },
     "execution_count": 67,
     "metadata": {},
     "output_type": "execute_result"
    }
   ],
   "source": [
    "# Define the parameter grid for tuning the random forest model\n",
    "param_grid_rf = {\n",
    "    'n_estimators': [100, 200, 300, 400, 500],\n",
    "    'max_depth': [5, 10, 15, None],\n",
    "    'min_samples_split': [2, 4, 6],\n",
    "    'min_samples_leaf': [1, 2, 3],\n",
    "    'max_features': ['sqrt', 'log2', 0.5]\n",
    "}\n",
    "\n",
    "# Create Random Forest model\n",
    "rf_model = RandomForestRegressor(random_state=42)\n",
    "\n",
    "# Initialize RandomizedSearchCV\n",
    "random_search_rf = RandomizedSearchCV(rf_model, param_distributions=param_grid_rf,\n",
    "                                      n_iter=10, scoring='neg_mean_squared_error', cv=5,\n",
    "                                      n_jobs=-1, random_state=42)\n",
    "\n",
    "# Fit RandomizedSearchCV to the data\n",
    "random_search_rf.fit(X_train, y_train)\n",
    "\n",
    "# Get the best model and its hyperparameters\n",
    "best_rf_model = random_search_rf.best_estimator_\n",
    "best_rf_params = random_search_rf.best_params_\n",
    "\n",
    "# Make predictions using the best model\n",
    "best_rf_predictions = best_rf_model.predict(X_eval)\n",
    "\n",
    "# Calculate metrics for the best model\n",
    "best_rf_mse = mean_squared_error(y_eval, best_rf_predictions)\n",
    "best_rf_rmse = np.sqrt(best_rf_mse)\n",
    "best_rf_mae = mean_absolute_error(y_eval, best_rf_predictions)\n",
    "best_rf_r2 = r2_score(y_eval, best_rf_predictions)\n",
    "\n",
    "# Apply absolute value to both predicted and target values\n",
    "abs_best_rf_predictions = np.abs(best_rf_predictions)\n",
    "abs_y_eval = np.abs(y_eval)\n",
    "\n",
    "# Calculate RMSLE using the absolute values\n",
    "best_rf_rmsle = np.sqrt(mean_squared_log_error(abs_y_eval, abs_best_rf_predictions))\n",
    "\n",
    "# Create a DataFrame to store results for the best Random Forest model\n",
    "best_results_rf = pd.DataFrame({'Model': ['Best Random Forest'],\n",
    "                                'RMSLE': [best_rf_rmsle],\n",
    "                                'RMSE': [best_rf_rmse],\n",
    "                                'MSE': [best_rf_mse],\n",
    "                                'MAE': [best_rf_mae],\n",
    "                                'R2': [best_rf_r2]}).round(2)\n",
    "\n",
    "# Print the best_results_rf dataframe\n",
    "best_results_rf"
   ]
  },
  {
   "cell_type": "markdown",
   "metadata": {},
   "source": []
  },
  {
   "cell_type": "markdown",
   "metadata": {},
   "source": [
    "## XGBoost Regressor"
   ]
  },
  {
   "cell_type": "code",
   "execution_count": 68,
   "metadata": {},
   "outputs": [
    {
     "name": "stdout",
     "output_type": "stream",
     "text": [
      "                    Model  RMSLE  RMSE    MSE  MAE    R2\n",
      "0  Best XGBoost Regressor   0.54  3.57  12.77  1.6  0.64\n"
     ]
    }
   ],
   "source": [
    "\n",
    "# Define the parameter grid for tuning the XGBoost model\n",
    "param_grid_xgb = {\n",
    "    'n_estimators': [100, 200, 300, 400, 500],\n",
    "    'max_depth': [3, 5, 7, 10],\n",
    "    'learning_rate': [0.01, 0.1, 0.2, 0.3],\n",
    "    'subsample': [0.8, 0.9, 1.0],\n",
    "    'colsample_bytree': [0.8, 0.9, 1.0],\n",
    "    'min_child_weight': [1, 5, 10],\n",
    "    'gamma': [0, 0.1, 0.2, 0.3]\n",
    "}\n",
    "\n",
    "# Create XGBoost model\n",
    "xgb_model = xgb.XGBRegressor(random_state=42)\n",
    "\n",
    "# Initialize RandomizedSearchCV\n",
    "random_search_xgb = RandomizedSearchCV(xgb_model, param_distributions=param_grid_xgb,\n",
    "                                        n_iter=10, scoring='neg_mean_squared_error', cv=5,\n",
    "                                        n_jobs=-1, random_state=42)\n",
    "\n",
    "# Fit RandomizedSearchCV to the data\n",
    "random_search_xgb.fit(X_train, y_train)\n",
    "\n",
    "# Get the best model and its hyperparameters\n",
    "best_xgb_model = random_search_xgb.best_estimator_\n",
    "best_xgb_params = random_search_xgb.best_params_\n",
    "\n",
    "# Make predictions using the best model\n",
    "best_xgb_predictions = best_xgb_model.predict(X_eval)\n",
    "\n",
    "# Calculate metrics for the best model\n",
    "best_xgb_mse = mean_squared_error(y_eval, best_xgb_predictions)\n",
    "best_xgb_rmse = np.sqrt(best_xgb_mse)\n",
    "best_xgb_mae = mean_absolute_error(y_eval, best_xgb_predictions)\n",
    "best_xgb_r2 = r2_score(y_eval, best_xgb_predictions)\n",
    "\n",
    "# Apply absolute value to both predicted and target values\n",
    "abs_best_xgb_predictions = np.abs(best_xgb_predictions)\n",
    "abs_y_eval = np.abs(y_eval)\n",
    "\n",
    "# Calculate RMSLE using the absolute values\n",
    "best_xgb_rmsle = np.sqrt(mean_squared_log_error(abs_y_eval, abs_best_xgb_predictions))\n",
    "\n",
    "# Create a DataFrame to store results for the best XGBoost model\n",
    "best_results_xgb = pd.DataFrame({'Model': ['Best XGBoost Regressor'],\n",
    "                                 'RMSLE': [best_xgb_rmsle],\n",
    "                                 'RMSE': [best_xgb_rmse],\n",
    "                                 'MSE': [best_xgb_mse],\n",
    "                                 'MAE': [best_xgb_mae],\n",
    "                                 'R2': [best_rf_r2]}).round(2)\n",
    "\n",
    "# Print the best_results_xgb dataframe\n",
    "print(best_results_xgb)\n"
   ]
  },
  {
   "cell_type": "markdown",
   "metadata": {},
   "source": [
    "## Gradient Boost Regressor"
   ]
  },
  {
   "cell_type": "code",
   "execution_count": 69,
   "metadata": {},
   "outputs": [
    {
     "name": "stdout",
     "output_type": "stream",
     "text": [
      "                    Model  RMSLE  RMSE    MSE   MAE    R2\n",
      "0  Best Gradient Boosting   0.55  3.47  12.02  1.55  0.62\n"
     ]
    }
   ],
   "source": [
    "# Define the parameter grid for tuning the Gradient Boosting model\n",
    "param_grid_gb = {\n",
    "    'n_estimators': [100, 200, 300, 400, 500],\n",
    "    'learning_rate': [0.01, 0.1, 0.2, 0.3],\n",
    "    'max_depth': [3, 5, 7, 10],\n",
    "    'min_samples_split': [2, 5, 10],\n",
    "    'min_samples_leaf': [1, 2, 4],\n",
    "    'subsample': [0.8, 0.9, 1.0],\n",
    "    'max_features': ['auto', 'sqrt', 'log2']\n",
    "}\n",
    "\n",
    "# Create Gradient Boosting model\n",
    "gb_model = GradientBoostingRegressor(random_state=42)\n",
    "\n",
    "# Initialize RandomizedSearchCV\n",
    "random_search_gb = RandomizedSearchCV(gb_model, param_distributions=param_grid_gb,\n",
    "                                       n_iter=10, scoring='neg_mean_squared_error', cv=5,\n",
    "                                       n_jobs=-1, random_state=42)\n",
    "\n",
    "# Fit RandomizedSearchCV to the data\n",
    "random_search_gb.fit(X_train, y_train)\n",
    "\n",
    "# Get the best model and its hyperparameters\n",
    "best_gb_model = random_search_gb.best_estimator_\n",
    "best_gb_params = random_search_gb.best_params_\n",
    "\n",
    "# Make predictions using the best model\n",
    "best_gb_predictions = best_gb_model.predict(X_eval)\n",
    "\n",
    "# Calculate metrics for the best model\n",
    "best_gb_mse = mean_squared_error(y_eval, best_gb_predictions)\n",
    "best_gb_rmse = np.sqrt(best_gb_mse)\n",
    "best_gb_mae = mean_absolute_error(y_eval, best_gb_predictions)\n",
    "best_gb_r2 = r2_score(y_eval, best_gb_predictions)\n",
    "\n",
    "# Apply absolute value to both predicted and target values\n",
    "abs_best_gb_predictions = np.abs(best_gb_predictions)\n",
    "abs_y_eval = np.abs(y_eval)\n",
    "\n",
    "# Calculate RMSLE using the absolute values\n",
    "best_gb_rmsle = np.sqrt(mean_squared_log_error(abs_y_eval, abs_best_gb_predictions))\n",
    "\n",
    "# Create a DataFrame to store results for the best Gradient Boosting model\n",
    "best_results_gb = pd.DataFrame({'Model': ['Best Gradient Boosting'],\n",
    "                                'RMSLE': [best_gb_rmsle],\n",
    "                                'RMSE': [best_gb_rmse],\n",
    "                                'MSE': [best_gb_mse],\n",
    "                                'MAE': [best_gb_mae],\n",
    "                                'R2': [best_gb_r2]}).round(2)\n",
    "\n",
    "# Print the best_results_gb dataframe\n",
    "print(best_results_gb)"
   ]
  },
  {
   "cell_type": "markdown",
   "metadata": {},
   "source": [
    "## Interpretation"
   ]
  },
  {
   "cell_type": "markdown",
   "metadata": {},
   "source": [
    "RMSLE (Root Mean Squared Logarithmic Error):\n",
    "\n",
    "RMSLE is useful for measuring the relative error between predicted and actual values, particularly when dealing with skewed distributions or when the scale of the target variable is large. It helps to reduce the impact of large absolute errors and focuses more on percentage errors.\n",
    "Interpretation: \n",
    ". Lower RMSLE values indicate better performance. The Best Random Forest has the lowest RMSLE (0.52), meaning it is slightly better at predicting relative errors compared to the other models.\n",
    "\n",
    "RMSE (Root Mean Squared Error):\n",
    "RMSE measures the average magnitude of the errors in a model’s predictions, with larger errors weighted more heavily. It provides an overall sense of how well the model is performing.\n",
    "Interpretation: \n",
    ". Lower RMSE values indicate better model performance. The Best Random Forest has the lowest RMSE (3.38), meaning it has the smallest average error magnitude compared to the XGBoost Regressor and Gradient Boosting.\n",
    "\n",
    "MSE (Mean Squared Error):\n",
    "MSE measures the average of the squared errors, providing insight into how far off predictions are from the actual values. Like RMSE, it penalizes larger errors more than smaller ones.\n",
    "Interpretation: \n",
    ". Lower MSE values are better. The Best Random Forest has the lowest MSE (11.39), which aligns with its lowest RMSE, indicating fewer and smaller errors compared to the other models.\n",
    "\n",
    "MAE (Mean Absolute Error):\n",
    "MAE measures the average magnitude of errors in predictions, treating all errors equally regardless of their direction. It’s less sensitive to outliers compared to RMSE and MSE.\n",
    "Interpretation: \n",
    ". Lower MAE values indicate better performance. The Best Random Forest also has the lowest MAE (1.42), showing it has the smallest average error in absolute terms.\n",
    "\n",
    "R² (Coefficient of Determination):\n",
    "R² indicates the proportion of variance in the target variable that is predictable from the features. A higher R² means the model explains a greater proportion of the variance.\n",
    "Interpretation: \n",
    ". Higher R² values are better. Both the Best Random Forest and the Best XGBoost Regressor have the highest R² (0.64), suggesting they explain the variance in the target variable better than the Gradient Boosting model (R² = 0.62)."
   ]
  },
  {
   "cell_type": "markdown",
   "metadata": {},
   "source": [
    "The hyperparameter tuning process has led to different performance levels across the models. The Best Random Forest model outperforms the XGBoost Regressor and Gradient Boosting in all key metrics (RMSLE, RMSE, MSE, MAE) and has the highest R² value. This indicates that the Random Forest model provides the most accurate and reliable predictions for the target variable, capturing the variability in the data better than the other models."
   ]
  },
  {
   "cell_type": "markdown",
   "metadata": {},
   "source": [
    "### Saving The Model Using Pickle"
   ]
  },
  {
   "cell_type": "code",
   "execution_count": 70,
   "metadata": {},
   "outputs": [],
   "source": [
    "\n",
    "# Define the key components\n",
    "key_components = {\n",
    "    'model': best_rf_model, \n",
    "    'best_params': best_rf_params,\n",
    "    'best_score': best_rf_r2\n",
    "}\n",
    "\n",
    "# Save the key components in a file using pickle\n",
    "with open('best_rf_model_components.pkl', 'wb') as file:\n",
    "    pickle.dump(key_components, file)"
   ]
  }
 ],
 "metadata": {
  "kernelspec": {
   "display_name": "virtual",
   "language": "python",
   "name": "python3"
  },
  "language_info": {
   "codemirror_mode": {
    "name": "ipython",
    "version": 3
   },
   "file_extension": ".py",
   "mimetype": "text/x-python",
   "name": "python",
   "nbconvert_exporter": "python",
   "pygments_lexer": "ipython3",
   "version": "3.10.9"
  }
 },
 "nbformat": 4,
 "nbformat_minor": 2
}
